{
 "cells": [
  {
   "cell_type": "markdown",
   "metadata": {},
   "source": [
    "# Market Basket Analysis: Data Loading and Cleaning"
   ]
  },
  {
   "cell_type": "markdown",
   "metadata": {},
   "source": [
    "## Setting Work Directory"
   ]
  },
  {
   "cell_type": "code",
   "execution_count": 3,
   "metadata": {},
   "outputs": [],
   "source": [
    "import os\n",
    "os.chdir('../')  # Change working directory"
   ]
  },
  {
   "cell_type": "markdown",
   "metadata": {},
   "source": [
    "## Reading Input Files"
   ]
  },
  {
   "cell_type": "code",
   "execution_count": 9,
   "metadata": {},
   "outputs": [],
   "source": [
    "import pandas as pd\n",
    "aisles = pd.read_csv('instacart_2017_05_01/aisles.csv')\n",
    "departments = pd.read_csv('instacart_2017_05_01/departments.csv')\n",
    "products = pd.read_csv('instacart_2017_05_01/products.csv')\n",
    "orders = pd.read_csv('instacart_2017_05_01/orders.csv')\n",
    "orders_products = pd.read_csv('instacart_2017_05_01/order_products__prior.csv')"
   ]
  },
  {
   "cell_type": "markdown",
   "metadata": {},
   "source": [
    "## Data Check\n",
    "#### (shape, features, unique values and missing values)"
   ]
  },
  {
   "cell_type": "code",
   "execution_count": 10,
   "metadata": {},
   "outputs": [
    {
     "name": "stdout",
     "output_type": "stream",
     "text": [
      "Rows     :  134\n",
      "Columns  :  2\n",
      "\n",
      "Features : \n",
      " ['aisle_id', 'aisle']\n",
      "\n",
      "Missing values :   0\n",
      "\n",
      "Unique values :  \n",
      " aisle_id    134\n",
      "aisle       134\n",
      "dtype: int64\n"
     ]
    }
   ],
   "source": [
    "print (\"Rows     : \" ,aisles.shape[0])\n",
    "print (\"Columns  : \" ,aisles.shape[1])\n",
    "print (\"\\nFeatures : \\n\" ,aisles.columns.tolist())\n",
    "print (\"\\nMissing values :  \", aisles.isnull().sum().values.sum())\n",
    "print (\"\\nUnique values :  \\n\",aisles.nunique())"
   ]
  },
  {
   "cell_type": "code",
   "execution_count": 11,
   "metadata": {},
   "outputs": [
    {
     "name": "stdout",
     "output_type": "stream",
     "text": [
      "Rows     :  21\n",
      "Columns  :  2\n",
      "\n",
      "Features : \n",
      " ['department_id', 'department']\n",
      "\n",
      "Missing values :   0\n",
      "\n",
      "Unique values :  \n",
      " department_id    21\n",
      "department       21\n",
      "dtype: int64\n"
     ]
    }
   ],
   "source": [
    "print (\"Rows     : \" ,departments.shape[0])\n",
    "print (\"Columns  : \" ,departments.shape[1])\n",
    "print (\"\\nFeatures : \\n\" ,departments.columns.tolist())\n",
    "print (\"\\nMissing values :  \", departments.isnull().sum().values.sum())\n",
    "print (\"\\nUnique values :  \\n\",departments.nunique())"
   ]
  },
  {
   "cell_type": "code",
   "execution_count": 12,
   "metadata": {},
   "outputs": [
    {
     "name": "stdout",
     "output_type": "stream",
     "text": [
      "Rows     :  49688\n",
      "Columns  :  4\n",
      "\n",
      "Features : \n",
      " ['product_id', 'product_name', 'aisle_id', 'department_id']\n",
      "\n",
      "Missing values :   0\n",
      "\n",
      "Unique values :  \n",
      " product_id       49688\n",
      "product_name     49688\n",
      "aisle_id           134\n",
      "department_id       21\n",
      "dtype: int64\n"
     ]
    }
   ],
   "source": [
    "print (\"Rows     : \" ,products.shape[0])\n",
    "print (\"Columns  : \" ,products.shape[1])\n",
    "print (\"\\nFeatures : \\n\" ,products.columns.tolist())\n",
    "print (\"\\nMissing values :  \",products.isnull().sum().values.sum())\n",
    "print (\"\\nUnique values :  \\n\",products.nunique())"
   ]
  },
  {
   "cell_type": "code",
   "execution_count": 13,
   "metadata": {},
   "outputs": [
    {
     "name": "stdout",
     "output_type": "stream",
     "text": [
      "Rows     :  3421083\n",
      "Columns  :  7\n",
      "\n",
      "Features : \n",
      " ['order_id', 'user_id', 'eval_set', 'order_number', 'order_dow', 'order_hour_of_day', 'days_since_prior_order']\n",
      "\n",
      "Missing values :   206209\n",
      "\n",
      "Unique values :  \n",
      " order_id                  3421083\n",
      "user_id                    206209\n",
      "eval_set                        3\n",
      "order_number                  100\n",
      "order_dow                       7\n",
      "order_hour_of_day              24\n",
      "days_since_prior_order         31\n",
      "dtype: int64\n"
     ]
    }
   ],
   "source": [
    "print (\"Rows     : \" ,orders.shape[0])\n",
    "print (\"Columns  : \" ,orders.shape[1])\n",
    "print (\"\\nFeatures : \\n\" ,orders.columns.tolist())\n",
    "print (\"\\nMissing values :  \", orders.isnull().sum().values.sum())\n",
    "print (\"\\nUnique values :  \\n\",orders.nunique())"
   ]
  },
  {
   "cell_type": "code",
   "execution_count": 14,
   "metadata": {},
   "outputs": [
    {
     "name": "stdout",
     "output_type": "stream",
     "text": [
      "Rows     :  32434489\n",
      "Columns  :  4\n",
      "\n",
      "Features : \n",
      " ['order_id', 'product_id', 'add_to_cart_order', 'reordered']\n",
      "\n",
      "Missing values :   0\n",
      "\n",
      "Unique values :  \n",
      " order_id             3214874\n",
      "product_id             49677\n",
      "add_to_cart_order        145\n",
      "reordered                  2\n",
      "dtype: int64\n"
     ]
    }
   ],
   "source": [
    "print (\"Rows     : \" ,orders_products.shape[0])\n",
    "print (\"Columns  : \" ,orders_products.shape[1])\n",
    "print (\"\\nFeatures : \\n\" ,orders_products.columns.tolist())\n",
    "print (\"\\nMissing values :  \", orders_products.isnull().sum().values.sum())\n",
    "print (\"\\nUnique values :  \\n\",orders_products.nunique())"
   ]
  }
 ],
 "metadata": {
  "kernelspec": {
   "display_name": "Python 3",
   "language": "python",
   "name": "python3"
  },
  "language_info": {
   "codemirror_mode": {
    "name": "ipython",
    "version": 3
   },
   "file_extension": ".py",
   "mimetype": "text/x-python",
   "name": "python",
   "nbconvert_exporter": "python",
   "pygments_lexer": "ipython3",
   "version": "3.7.4"
  }
 },
 "nbformat": 4,
 "nbformat_minor": 4
}
