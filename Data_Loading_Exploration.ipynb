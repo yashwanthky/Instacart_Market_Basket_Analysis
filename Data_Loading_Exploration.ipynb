{
 "cells": [
  {
   "cell_type": "markdown",
   "metadata": {},
   "source": [
    "# Market Basket Analysis"
   ]
  },
  {
   "cell_type": "markdown",
   "metadata": {},
   "source": [
    "### Loading Required Libraries"
   ]
  },
  {
   "cell_type": "code",
   "execution_count": 8,
   "metadata": {},
   "outputs": [],
   "source": [
    "import matplotlib.pyplot as plt\n",
    "import seaborn as sns\n",
    "import pandas as pd\n",
    "import os\n",
    "import numpy as np"
   ]
  },
  {
   "cell_type": "markdown",
   "metadata": {},
   "source": [
    "## Data Loading and Cleaning"
   ]
  },
  {
   "cell_type": "markdown",
   "metadata": {},
   "source": [
    "### Reading Input Files"
   ]
  },
  {
   "cell_type": "code",
   "execution_count": 16,
   "metadata": {},
   "outputs": [],
   "source": [
    "aisles = pd.read_csv('https://raw.githubusercontent.com/yashwanthky/Market_Basket_Analysis/Data_Loading/aisles_perishables_tagged.csv', index_col = 0, error_bad_lines = False).reset_index()\n",
    "departments = pd.read_csv('instacart_2017_05_01/departments.csv')\n",
    "products = pd.read_csv('instacart_2017_05_01/products.csv')\n",
    "orders = pd.read_csv('instacart_2017_05_01/orders.csv')\n",
    "orders_products_train = pd.read_csv('instacart_2017_05_01/order_products__prior.csv')  # We train the model using this data of n-1 orders\n",
    "orders_products_test = pd.read_csv('instacart_2017_05_01/order_products__train.csv')   # We validate the predictions with this data of the nth order"
   ]
  },
  {
   "cell_type": "code",
   "execution_count": 17,
   "metadata": {},
   "outputs": [
    {
     "data": {
      "text/html": [
       "<div>\n",
       "<style scoped>\n",
       "    .dataframe tbody tr th:only-of-type {\n",
       "        vertical-align: middle;\n",
       "    }\n",
       "\n",
       "    .dataframe tbody tr th {\n",
       "        vertical-align: top;\n",
       "    }\n",
       "\n",
       "    .dataframe thead th {\n",
       "        text-align: right;\n",
       "    }\n",
       "</style>\n",
       "<table border=\"1\" class=\"dataframe\">\n",
       "  <thead>\n",
       "    <tr style=\"text-align: right;\">\n",
       "      <th></th>\n",
       "      <th>aisle_id</th>\n",
       "      <th>aisle</th>\n",
       "      <th>Perishables</th>\n",
       "    </tr>\n",
       "  </thead>\n",
       "  <tbody>\n",
       "    <tr>\n",
       "      <td>0</td>\n",
       "      <td>1</td>\n",
       "      <td>prepared soups salads</td>\n",
       "      <td>1</td>\n",
       "    </tr>\n",
       "    <tr>\n",
       "      <td>1</td>\n",
       "      <td>2</td>\n",
       "      <td>specialty cheeses</td>\n",
       "      <td>1</td>\n",
       "    </tr>\n",
       "    <tr>\n",
       "      <td>2</td>\n",
       "      <td>3</td>\n",
       "      <td>energy granola bars</td>\n",
       "      <td>0</td>\n",
       "    </tr>\n",
       "    <tr>\n",
       "      <td>3</td>\n",
       "      <td>4</td>\n",
       "      <td>instant foods</td>\n",
       "      <td>0</td>\n",
       "    </tr>\n",
       "    <tr>\n",
       "      <td>4</td>\n",
       "      <td>5</td>\n",
       "      <td>marinades meat preparation</td>\n",
       "      <td>1</td>\n",
       "    </tr>\n",
       "  </tbody>\n",
       "</table>\n",
       "</div>"
      ],
      "text/plain": [
       "   aisle_id                       aisle  Perishables\n",
       "0         1       prepared soups salads            1\n",
       "1         2           specialty cheeses            1\n",
       "2         3         energy granola bars            0\n",
       "3         4               instant foods            0\n",
       "4         5  marinades meat preparation            1"
      ]
     },
     "execution_count": 17,
     "metadata": {},
     "output_type": "execute_result"
    }
   ],
   "source": [
    "aisles.head()"
   ]
  },
  {
   "cell_type": "markdown",
   "metadata": {},
   "source": [
    "### Data Check\n",
    "#### (shape, features, unique values and missing values)"
   ]
  },
  {
   "cell_type": "code",
   "execution_count": 3,
   "metadata": {},
   "outputs": [
    {
     "name": "stdout",
     "output_type": "stream",
     "text": [
      "Rows     :  134\n",
      "Columns  :  2\n",
      "\n",
      "Features : \n",
      " ['aisle_id', 'aisle']\n",
      "\n",
      "Missing values :   0\n",
      "\n",
      "Unique values :  \n",
      " aisle_id    134\n",
      "aisle       134\n",
      "dtype: int64\n"
     ]
    }
   ],
   "source": [
    "print (\"Rows     : \" ,aisles.shape[0])\n",
    "print (\"Columns  : \" ,aisles.shape[1])\n",
    "print (\"\\nFeatures : \\n\" ,aisles.columns.tolist())\n",
    "print (\"\\nMissing values :  \", aisles.isnull().sum().values.sum())\n",
    "print (\"\\nUnique values :  \\n\",aisles.nunique())"
   ]
  },
  {
   "cell_type": "code",
   "execution_count": 4,
   "metadata": {},
   "outputs": [
    {
     "name": "stdout",
     "output_type": "stream",
     "text": [
      "Rows     :  21\n",
      "Columns  :  2\n",
      "\n",
      "Features : \n",
      " ['department_id', 'department']\n",
      "\n",
      "Missing values :   0\n",
      "\n",
      "Unique values :  \n",
      " department_id    21\n",
      "department       21\n",
      "dtype: int64\n"
     ]
    }
   ],
   "source": [
    "print (\"Rows     : \" ,departments.shape[0])\n",
    "print (\"Columns  : \" ,departments.shape[1])\n",
    "print (\"\\nFeatures : \\n\" ,departments.columns.tolist())\n",
    "print (\"\\nMissing values :  \", departments.isnull().sum().values.sum())\n",
    "print (\"\\nUnique values :  \\n\",departments.nunique())"
   ]
  },
  {
   "cell_type": "code",
   "execution_count": 5,
   "metadata": {},
   "outputs": [
    {
     "name": "stdout",
     "output_type": "stream",
     "text": [
      "Rows     :  49688\n",
      "Columns  :  4\n",
      "\n",
      "Features : \n",
      " ['product_id', 'product_name', 'aisle_id', 'department_id']\n",
      "\n",
      "Missing values :   0\n",
      "\n",
      "Unique values :  \n",
      " product_id       49688\n",
      "product_name     49688\n",
      "aisle_id           134\n",
      "department_id       21\n",
      "dtype: int64\n"
     ]
    }
   ],
   "source": [
    "print (\"Rows     : \" ,products.shape[0])\n",
    "print (\"Columns  : \" ,products.shape[1])\n",
    "print (\"\\nFeatures : \\n\" ,products.columns.tolist())\n",
    "print (\"\\nMissing values :  \",products.isnull().sum().values.sum())\n",
    "print (\"\\nUnique values :  \\n\",products.nunique())"
   ]
  },
  {
   "cell_type": "code",
   "execution_count": 6,
   "metadata": {},
   "outputs": [
    {
     "name": "stdout",
     "output_type": "stream",
     "text": [
      "Rows     :  3421083\n",
      "Columns  :  7\n",
      "\n",
      "Features : \n",
      " ['order_id', 'user_id', 'eval_set', 'order_number', 'order_dow', 'order_hour_of_day', 'days_since_prior_order']\n",
      "\n",
      "Missing values :   206209\n",
      "\n",
      "Missing values :   [     0      0      0      0      0      0 206209]\n",
      "\n",
      "Unique values :  \n",
      " order_id                  3421083\n",
      "user_id                    206209\n",
      "eval_set                        3\n",
      "order_number                  100\n",
      "order_dow                       7\n",
      "order_hour_of_day              24\n",
      "days_since_prior_order         31\n",
      "dtype: int64\n"
     ]
    }
   ],
   "source": [
    "print (\"Rows     : \" ,orders.shape[0])\n",
    "print (\"Columns  : \" ,orders.shape[1])\n",
    "print (\"\\nFeatures : \\n\" ,orders.columns.tolist())\n",
    "print (\"\\nMissing values :  \", orders.isnull().sum().values.sum())\n",
    "print (\"\\nMissing values :  \", orders.isnull().sum().values)\n",
    "print (\"\\nUnique values :  \\n\",orders.nunique())"
   ]
  },
  {
   "cell_type": "markdown",
   "metadata": {},
   "source": [
    "There are 206,209 missing values in the column 'days_since_prior_order'. This means that these orders are the first orders for the 206,209 unique customers"
   ]
  },
  {
   "cell_type": "code",
   "execution_count": 7,
   "metadata": {},
   "outputs": [
    {
     "name": "stdout",
     "output_type": "stream",
     "text": [
      "order_id  count    4\n",
      "dtype: int64 order_id  count    100\n",
      "dtype: int64 order_id  count    16.590367\n",
      "dtype: float64 order_id  count    10.0\n",
      "dtype: float64 order_id  count    16.654774\n",
      "dtype: float64\n"
     ]
    }
   ],
   "source": [
    "# Let us see the order count by unique user id\n",
    "\n",
    "print(orders.groupby('user_id').agg({'order_id' : ['count']}).min(),\n",
    "      orders.groupby('user_id').agg({'order_id' : ['count']}).max(),\n",
    "     orders.groupby('user_id').agg({'order_id' : ['count']}).mean(),\n",
    "     orders.groupby('user_id').agg({'order_id' : ['count']}).median(),\n",
    "     orders.groupby('user_id').agg({'order_id' : ['count']}).std())"
   ]
  },
  {
   "cell_type": "markdown",
   "metadata": {},
   "source": [
    "There are around 10 orders for 75% of the customers and the minimum number of orders per user is 4 and the maximum number of orders per user is 100."
   ]
  },
  {
   "cell_type": "code",
   "execution_count": 8,
   "metadata": {},
   "outputs": [
    {
     "name": "stdout",
     "output_type": "stream",
     "text": [
      "Rows     :  32434489\n",
      "Columns  :  4\n",
      "\n",
      "Features : \n",
      " ['order_id', 'product_id', 'add_to_cart_order', 'reordered']\n",
      "\n",
      "Missing values :   0\n",
      "\n",
      "Unique values :  \n",
      " order_id             3214874\n",
      "product_id             49677\n",
      "add_to_cart_order        145\n",
      "reordered                  2\n",
      "dtype: int64\n"
     ]
    }
   ],
   "source": [
    "print (\"Rows     : \" ,orders_products_train.shape[0])\n",
    "print (\"Columns  : \" ,orders_products_train.shape[1])\n",
    "print (\"\\nFeatures : \\n\" ,orders_products_train.columns.tolist())\n",
    "print (\"\\nMissing values :  \", orders_products_train.isnull().sum().values.sum())\n",
    "print (\"\\nUnique values :  \\n\",orders_products_train.nunique())"
   ]
  },
  {
   "cell_type": "code",
   "execution_count": 9,
   "metadata": {},
   "outputs": [
    {
     "name": "stdout",
     "output_type": "stream",
     "text": [
      "Rows     :  1384617\n",
      "Columns  :  4\n",
      "\n",
      "Features : \n",
      " ['order_id', 'product_id', 'add_to_cart_order', 'reordered']\n",
      "\n",
      "Missing values :   0\n",
      "\n",
      "Unique values :  \n",
      " order_id             131209\n",
      "product_id            39123\n",
      "add_to_cart_order        80\n",
      "reordered                 2\n",
      "dtype: int64\n"
     ]
    }
   ],
   "source": [
    "print (\"Rows     : \" ,orders_products_test.shape[0])\n",
    "print (\"Columns  : \" ,orders_products_test.shape[1])\n",
    "print (\"\\nFeatures : \\n\" ,orders_products_test.columns.tolist())\n",
    "print (\"\\nMissing values :  \", orders_products_test.isnull().sum().values.sum())\n",
    "print (\"\\nUnique values :  \\n\",orders_products_test.nunique())"
   ]
  },
  {
   "cell_type": "markdown",
   "metadata": {},
   "source": [
    "## Data Merging"
   ]
  },
  {
   "cell_type": "code",
   "execution_count": 18,
   "metadata": {},
   "outputs": [],
   "source": [
    "merged_data = pd.merge(orders_products_train,orders, on = 'order_id')\n",
    "merged_data = pd.merge(merged_data,products, on = 'product_id')\n",
    "merged_data = pd.merge(merged_data,aisles, on = 'aisle_id')\n",
    "merged_data = pd.merge(merged_data,departments, on = 'department_id')"
   ]
  },
  {
   "cell_type": "markdown",
   "metadata": {},
   "source": [
    "Replacing the missing values in the column 'days_since_prior_order' with '999'"
   ]
  },
  {
   "cell_type": "code",
   "execution_count": 19,
   "metadata": {},
   "outputs": [],
   "source": [
    "merged_data['days_since_prior_order'].fillna('999',inplace = True)"
   ]
  },
  {
   "cell_type": "code",
   "execution_count": 12,
   "metadata": {},
   "outputs": [
    {
     "name": "stdout",
     "output_type": "stream",
     "text": [
      "Rows     :  32434489\n",
      "Columns  :  15\n",
      "\n",
      "Missing values :   [('order_id', 0), ('product_id', 0), ('add_to_cart_order', 0), ('reordered', 0), ('user_id', 0), ('eval_set', 0), ('order_number', 0), ('order_dow', 0), ('order_hour_of_day', 0), ('days_since_prior_order', 0), ('product_name', 0), ('aisle_id', 0), ('department_id', 0), ('aisle', 0), ('department', 0)]\n",
      "\n",
      "Unique values :  \n",
      " order_id                  3214874\n",
      "product_id                  49677\n",
      "add_to_cart_order             145\n",
      "reordered                       2\n",
      "user_id                    206209\n",
      "eval_set                        1\n",
      "order_number                   99\n",
      "order_dow                       7\n",
      "order_hour_of_day              24\n",
      "days_since_prior_order         32\n",
      "product_name                49677\n",
      "aisle_id                      134\n",
      "department_id                  21\n",
      "aisle                         134\n",
      "department                     21\n",
      "dtype: int64\n"
     ]
    }
   ],
   "source": [
    "print (\"Rows     : \" ,merged_data.shape[0])\n",
    "print (\"Columns  : \" ,merged_data.shape[1])\n",
    "print (\"\\nMissing values :  \",list(zip(merged_data.columns.tolist(),list(merged_data.isnull().sum().values))))\n",
    "print (\"\\nUnique values :  \\n\",merged_data.nunique())"
   ]
  },
  {
   "cell_type": "markdown",
   "metadata": {},
   "source": [
    "## Data Exploration"
   ]
  },
  {
   "cell_type": "markdown",
   "metadata": {},
   "source": [
    "We will look at the distribution of number of orders placed by each user - "
   ]
  },
  {
   "cell_type": "code",
   "execution_count": 13,
   "metadata": {},
   "outputs": [],
   "source": [
    "user_order = merged_data[['user_id','order_id']].drop_duplicates().groupby(['user_id']).agg({'order_id' : ['count']}).reset_index()\n",
    "user_order.columns = ['user_id','Orders_Count']\n",
    "user_order = user_order.groupby(['Orders_Count']).agg({'user_id' : ['count']}).reset_index()\n",
    "user_order.columns = ['Order_Count','Users']"
   ]
  },
  {
   "cell_type": "code",
   "execution_count": 14,
   "metadata": {},
   "outputs": [
    {
     "data": {
      "image/png": "[encoded data removed]",
      "text/plain": [
       "<Figure size 1080x720 with 1 Axes>"
      ]
     },
     "metadata": {
      "needs_background": "light"
     },
     "output_type": "display_data"
    }
   ],
   "source": [
    "plt.figure(figsize=(15,10))\n",
    "sns.barplot(x='Order_Count', y='Users',data=user_order, color='cornflowerblue')\n",
    "plt.ylabel('Number of users', fontsize=13)\n",
    "plt.xlabel('Number of orders', fontsize=13)\n",
    "plt.title('Count of users by number of orders placed');"
   ]
  },
  {
   "cell_type": "markdown",
   "metadata": {},
   "source": [
    "We see that it is a right skewed chart with a majority of users having less than 20 orders."
   ]
  },
  {
   "cell_type": "markdown",
   "metadata": {},
   "source": [
    "We will look if the orders peak on a particular day of the week"
   ]
  },
  {
   "cell_type": "code",
   "execution_count": 15,
   "metadata": {},
   "outputs": [
    {
     "data": {
      "text/plain": [
       "(7, 2)"
      ]
     },
     "execution_count": 15,
     "metadata": {},
     "output_type": "execute_result"
    }
   ],
   "source": [
    "orderperday = merged_data[['order_dow','order_id']].drop_duplicates().groupby('order_dow').agg({'order_id' : ['count']}).reset_index()\n",
    "orderperday.columns = ['Day_Week','Orders']\n",
    "orderperday.shape"
   ]
  },
  {
   "cell_type": "code",
   "execution_count": 16,
   "metadata": {},
   "outputs": [
    {
     "data": {
      "image/png": "[encoded data removed]",
      "text/plain": [
       "<Figure size 432x288 with 1 Axes>"
      ]
     },
     "metadata": {
      "needs_background": "light"
     },
     "output_type": "display_data"
    }
   ],
   "source": [
    "sns.barplot(x='Day_Week', y='Orders',data=orderperday, color='cornflowerblue')\n",
    "plt.ylabel('Number of orders', fontsize=13)\n",
    "plt.xlabel('Order Day in the Week', fontsize=13)\n",
    "plt.title('Count of Orders by each Day in the Week');"
   ]
  },
  {
   "cell_type": "markdown",
   "metadata": {},
   "source": [
    "We see that most of the orders are placed on day = 0 and day = 1."
   ]
  },
  {
   "cell_type": "code",
   "execution_count": 17,
   "metadata": {},
   "outputs": [
    {
     "data": {
      "text/plain": [
       "(24, 2)"
      ]
     },
     "execution_count": 17,
     "metadata": {},
     "output_type": "execute_result"
    }
   ],
   "source": [
    "orderperhour = merged_data[['order_hour_of_day','order_id']].drop_duplicates().groupby('order_hour_of_day').agg({'order_id' : ['count']}).reset_index()\n",
    "orderperhour.columns = ['Day_hour','Orders']\n",
    "orderperhour.shape"
   ]
  },
  {
   "cell_type": "code",
   "execution_count": 18,
   "metadata": {},
   "outputs": [
    {
     "data": {
      "image/png": "[encoded data removed]",
      "text/plain": [
       "<Figure size 432x288 with 1 Axes>"
      ]
     },
     "metadata": {
      "needs_background": "light"
     },
     "output_type": "display_data"
    }
   ],
   "source": [
    "sns.barplot(x='Day_hour', y='Orders',data=orderperhour, color='cornflowerblue')\n",
    "plt.ylabel('Number of orders', fontsize=13)\n",
    "plt.xlabel('Order Hour in the Day', fontsize=13)\n",
    "plt.title('Count of Orders by Hour in each Day');"
   ]
  },
  {
   "cell_type": "markdown",
   "metadata": {},
   "source": [
    "Most of the ordering activity occurs between 9AM to 4PM before the number of orders placed goes down."
   ]
  },
  {
   "cell_type": "markdown",
   "metadata": {},
   "source": [
    "We will now check how often customers place orders on Instacart"
   ]
  },
  {
   "cell_type": "code",
   "execution_count": 30,
   "metadata": {},
   "outputs": [
    {
     "data": {
      "text/html": [
       "<div>\n",
       "<style scoped>\n",
       "    .dataframe tbody tr th:only-of-type {\n",
       "        vertical-align: middle;\n",
       "    }\n",
       "\n",
       "    .dataframe tbody tr th {\n",
       "        vertical-align: top;\n",
       "    }\n",
       "\n",
       "    .dataframe thead th {\n",
       "        text-align: right;\n",
       "    }\n",
       "</style>\n",
       "<table border=\"1\" class=\"dataframe\">\n",
       "  <thead>\n",
       "    <tr style=\"text-align: right;\">\n",
       "      <th></th>\n",
       "      <th>user_id</th>\n",
       "      <th>order_id</th>\n",
       "      <th>days_since_prior_order</th>\n",
       "    </tr>\n",
       "  </thead>\n",
       "  <tbody>\n",
       "    <tr>\n",
       "      <td>0</td>\n",
       "      <td>202279</td>\n",
       "      <td>2</td>\n",
       "      <td>8</td>\n",
       "    </tr>\n",
       "    <tr>\n",
       "      <td>1</td>\n",
       "      <td>153404</td>\n",
       "      <td>26</td>\n",
       "      <td>7</td>\n",
       "    </tr>\n",
       "    <tr>\n",
       "      <td>2</td>\n",
       "      <td>23750</td>\n",
       "      <td>120</td>\n",
       "      <td>10</td>\n",
       "    </tr>\n",
       "    <tr>\n",
       "      <td>3</td>\n",
       "      <td>58707</td>\n",
       "      <td>327</td>\n",
       "      <td>8</td>\n",
       "    </tr>\n",
       "    <tr>\n",
       "      <td>4</td>\n",
       "      <td>166654</td>\n",
       "      <td>390</td>\n",
       "      <td>9</td>\n",
       "    </tr>\n",
       "  </tbody>\n",
       "</table>\n",
       "</div>"
      ],
      "text/plain": [
       "   user_id  order_id  days_since_prior_order\n",
       "0   202279         2                       8\n",
       "1   153404        26                       7\n",
       "2    23750       120                      10\n",
       "3    58707       327                       8\n",
       "4   166654       390                       9"
      ]
     },
     "execution_count": 30,
     "metadata": {},
     "output_type": "execute_result"
    }
   ],
   "source": [
    "customerorderprior = merged_data[['user_id','order_id','days_since_prior_order']].drop_duplicates()\n",
    "customerorderprior = customerorderprior.loc[customerorderprior['days_since_prior_order'] != '999']\n",
    "customerorderprior = customerorderprior.astype('int64', copy = False)\n",
    "customerorderprior.head()"
   ]
  },
  {
   "cell_type": "code",
   "execution_count": 20,
   "metadata": {},
   "outputs": [],
   "source": [
    "#customerorderprior.groupby(['user_id'])['days_since_prior_order'].agg(pd.Series.mode).to_frame()\n",
    "customerorderprior = customerorderprior.groupby('user_id')['days_since_prior_order'].apply(lambda x: x.value_counts().index[0]).reset_index()"
   ]
  },
  {
   "cell_type": "code",
   "execution_count": 21,
   "metadata": {},
   "outputs": [
    {
     "data": {
      "text/html": [
       "<div>\n",
       "<style scoped>\n",
       "    .dataframe tbody tr th:only-of-type {\n",
       "        vertical-align: middle;\n",
       "    }\n",
       "\n",
       "    .dataframe tbody tr th {\n",
       "        vertical-align: top;\n",
       "    }\n",
       "\n",
       "    .dataframe thead th {\n",
       "        text-align: right;\n",
       "    }\n",
       "</style>\n",
       "<table border=\"1\" class=\"dataframe\">\n",
       "  <thead>\n",
       "    <tr style=\"text-align: right;\">\n",
       "      <th></th>\n",
       "      <th>user_id</th>\n",
       "      <th>days_since_prior_order</th>\n",
       "    </tr>\n",
       "  </thead>\n",
       "  <tbody>\n",
       "    <tr>\n",
       "      <td>0</td>\n",
       "      <td>1</td>\n",
       "      <td>14</td>\n",
       "    </tr>\n",
       "    <tr>\n",
       "      <td>1</td>\n",
       "      <td>2</td>\n",
       "      <td>8</td>\n",
       "    </tr>\n",
       "    <tr>\n",
       "      <td>2</td>\n",
       "      <td>3</td>\n",
       "      <td>7</td>\n",
       "    </tr>\n",
       "    <tr>\n",
       "      <td>3</td>\n",
       "      <td>4</td>\n",
       "      <td>15</td>\n",
       "    </tr>\n",
       "    <tr>\n",
       "      <td>4</td>\n",
       "      <td>5</td>\n",
       "      <td>19</td>\n",
       "    </tr>\n",
       "  </tbody>\n",
       "</table>\n",
       "</div>"
      ],
      "text/plain": [
       "   user_id  days_since_prior_order\n",
       "0        1                      14\n",
       "1        2                       8\n",
       "2        3                       7\n",
       "3        4                      15\n",
       "4        5                      19"
      ]
     },
     "execution_count": 21,
     "metadata": {},
     "output_type": "execute_result"
    }
   ],
   "source": [
    "customerorderprior.head()\n",
    "#print (\"\\nUnique values :  \\n\",customerorderprior.nunique())"
   ]
  },
  {
   "cell_type": "code",
   "execution_count": 22,
   "metadata": {},
   "outputs": [
    {
     "data": {
      "text/html": [
       "<div>\n",
       "<style scoped>\n",
       "    .dataframe tbody tr th:only-of-type {\n",
       "        vertical-align: middle;\n",
       "    }\n",
       "\n",
       "    .dataframe tbody tr th {\n",
       "        vertical-align: top;\n",
       "    }\n",
       "\n",
       "    .dataframe thead th {\n",
       "        text-align: right;\n",
       "    }\n",
       "</style>\n",
       "<table border=\"1\" class=\"dataframe\">\n",
       "  <thead>\n",
       "    <tr style=\"text-align: right;\">\n",
       "      <th></th>\n",
       "      <th>days_since_prior_order</th>\n",
       "      <th>users</th>\n",
       "    </tr>\n",
       "  </thead>\n",
       "  <tbody>\n",
       "    <tr>\n",
       "      <td>0</td>\n",
       "      <td>0</td>\n",
       "      <td>1029</td>\n",
       "    </tr>\n",
       "    <tr>\n",
       "      <td>1</td>\n",
       "      <td>1</td>\n",
       "      <td>3393</td>\n",
       "    </tr>\n",
       "    <tr>\n",
       "      <td>2</td>\n",
       "      <td>2</td>\n",
       "      <td>5792</td>\n",
       "    </tr>\n",
       "    <tr>\n",
       "      <td>3</td>\n",
       "      <td>3</td>\n",
       "      <td>7931</td>\n",
       "    </tr>\n",
       "    <tr>\n",
       "      <td>4</td>\n",
       "      <td>4</td>\n",
       "      <td>7019</td>\n",
       "    </tr>\n",
       "  </tbody>\n",
       "</table>\n",
       "</div>"
      ],
      "text/plain": [
       "   days_since_prior_order  users\n",
       "0                       0   1029\n",
       "1                       1   3393\n",
       "2                       2   5792\n",
       "3                       3   7931\n",
       "4                       4   7019"
      ]
     },
     "execution_count": 22,
     "metadata": {},
     "output_type": "execute_result"
    }
   ],
   "source": [
    "customerorderprior = customerorderprior.groupby('days_since_prior_order').agg({'user_id' : ['count']}).reset_index()\n",
    "customerorderprior.columns = ['days_since_prior_order','users']\n",
    "customerorderprior.head()"
   ]
  },
  {
   "cell_type": "code",
   "execution_count": 23,
   "metadata": {},
   "outputs": [
    {
     "data": {
      "image/png": "[encoded data removed]",
      "text/plain": [
       "<Figure size 1080x720 with 1 Axes>"
      ]
     },
     "metadata": {
      "needs_background": "light"
     },
     "output_type": "display_data"
    }
   ],
   "source": [
    "plt.figure(figsize=(15,10))\n",
    "sns.barplot(x='days_since_prior_order', y='users',data=customerorderprior, color='cornflowerblue')\n",
    "plt.ylabel('Number of users', fontsize=13)\n",
    "plt.xlabel('Days since prior order', fontsize=13)\n",
    "plt.title('Distribution showing how frequently users order');"
   ]
  },
  {
   "cell_type": "markdown",
   "metadata": {},
   "source": [
    "The customers who order frequently i.e. every week can be targeted for experimentation with perishable products."
   ]
  },
  {
   "cell_type": "markdown",
   "metadata": {},
   "source": [
    "We will go ahead and see what are the products that are driving the orders i.e. the rank of the product in the cart should be 1"
   ]
  },
  {
   "cell_type": "code",
   "execution_count": 21,
   "metadata": {},
   "outputs": [],
   "source": [
    "productorderpreference = merged_data[['order_id','product_id','add_to_cart_order']]\n",
    "productorderpreference = productorderpreference[(productorderpreference.add_to_cart_order == 1)]\n",
    "productorderpreference = productorderpreference[['order_id','product_id']]\n",
    "productorderpreference = productorderpreference.groupby('product_id').agg({'order_id' : ['count']}).reset_index()\n",
    "productorderpreference.columns = ['product_id','orders']\n",
    "productorderpreference['orderspercent'] = productorderpreference['orders']/productorderpreference['orders'].sum()\n",
    "productorderpreference = productorderpreference.sort_values(by='orderspercent', ascending=False)"
   ]
  },
  {
   "cell_type": "code",
   "execution_count": 23,
   "metadata": {},
   "outputs": [
    {
     "data": {
      "image/png": "[encoded data removed]",
      "text/plain": [
       "<Figure size 1080x720 with 1 Axes>"
      ]
     },
     "metadata": {
      "needs_background": "light"
     },
     "output_type": "display_data"
    }
   ],
   "source": [
    "plt.figure(figsize=(15,10))\n",
    "sns.barplot(x='product_id', y='orders',data=productorderpreference.iloc[:25, :], color='cornflowerblue')\n",
    "plt.ylabel('Number of orders', fontsize=13)\n",
    "plt.xlabel('Produt ID', fontsize=13)\n",
    "plt.title('Top 25 products which are driving orders')\n",
    "plt.xticks(rotation = 45);"
   ]
  },
  {
   "cell_type": "markdown",
   "metadata": {},
   "source": [
    "Let us check what is the order percent for these 25 products"
   ]
  },
  {
   "cell_type": "code",
   "execution_count": 25,
   "metadata": {},
   "outputs": [
    {
     "data": {
      "image/png": "[encoded data removed]",
      "text/plain": [
       "<Figure size 1080x720 with 1 Axes>"
      ]
     },
     "metadata": {
      "needs_background": "light"
     },
     "output_type": "display_data"
    }
   ],
   "source": [
    "plt.figure(figsize=(15,10))\n",
    "sns.barplot(x='product_id', y='orderspercent',data=productorderpreference.iloc[:25, :], color='cornflowerblue')\n",
    "plt.ylabel('Order Percentage', fontsize=13)\n",
    "plt.xlabel('Produt ID', fontsize=13)\n",
    "plt.title('Top 25 products which are driving orders');\n",
    "plt.xticks(rotation = 45);"
   ]
  },
  {
   "cell_type": "markdown",
   "metadata": {},
   "source": [
    "The top 2 products which are driving most of the orders are 24852 and 13176. They are present in 3.5% and 2.5% of all the orders. Let us see what department and aisle these products belong to."
   ]
  },
  {
   "cell_type": "code",
   "execution_count": 6,
   "metadata": {},
   "outputs": [
    {
     "data": {
      "text/html": [
       "<div>\n",
       "<style scoped>\n",
       "    .dataframe tbody tr th:only-of-type {\n",
       "        vertical-align: middle;\n",
       "    }\n",
       "\n",
       "    .dataframe tbody tr th {\n",
       "        vertical-align: top;\n",
       "    }\n",
       "\n",
       "    .dataframe thead th {\n",
       "        text-align: right;\n",
       "    }\n",
       "</style>\n",
       "<table border=\"1\" class=\"dataframe\">\n",
       "  <thead>\n",
       "    <tr style=\"text-align: right;\">\n",
       "      <th></th>\n",
       "      <th>product_id</th>\n",
       "      <th>product_name</th>\n",
       "      <th>aisle</th>\n",
       "      <th>department</th>\n",
       "    </tr>\n",
       "  </thead>\n",
       "  <tbody>\n",
       "    <tr>\n",
       "      <td>10597350</td>\n",
       "      <td>13176</td>\n",
       "      <td>Bag of Organic Bananas</td>\n",
       "      <td>fresh fruits</td>\n",
       "      <td>produce</td>\n",
       "    </tr>\n",
       "    <tr>\n",
       "      <td>11196487</td>\n",
       "      <td>24852</td>\n",
       "      <td>Banana</td>\n",
       "      <td>fresh fruits</td>\n",
       "      <td>produce</td>\n",
       "    </tr>\n",
       "  </tbody>\n",
       "</table>\n",
       "</div>"
      ],
      "text/plain": [
       "          product_id            product_name         aisle department\n",
       "10597350       13176  Bag of Organic Bananas  fresh fruits    produce\n",
       "11196487       24852                  Banana  fresh fruits    produce"
      ]
     },
     "execution_count": 6,
     "metadata": {},
     "output_type": "execute_result"
    }
   ],
   "source": [
    "Top2drivingproducts = merged_data[(merged_data.product_id == 24852) | (merged_data.product_id == 13176)]\n",
    "Top2drivingproducts = Top2drivingproducts[['product_id','product_name','aisle','department']].drop_duplicates()\n",
    "Top2drivingproducts"
   ]
  },
  {
   "cell_type": "markdown",
   "metadata": {},
   "source": [
    "Both the top 2 products are from the 'produce' department and the 'fresh fruits' aisle"
   ]
  }
 ],
 "metadata": {
  "kernelspec": {
   "display_name": "Python 3",
   "language": "python",
   "name": "python3"
  },
  "language_info": {
   "codemirror_mode": {
    "name": "ipython",
    "version": 3
   },
   "file_extension": ".py",
   "mimetype": "text/x-python",
   "name": "python",
   "nbconvert_exporter": "python",
   "pygments_lexer": "ipython3",
   "version": "3.7.4"
  }
 },
 "nbformat": 4,
 "nbformat_minor": 4
}
