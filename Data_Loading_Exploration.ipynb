{
 "cells": [
  {
   "cell_type": "markdown",
   "metadata": {},
   "source": [
    "# Market Basket Analysis"
   ]
  },
  {
   "cell_type": "markdown",
   "metadata": {},
   "source": [
    "### Loading Required Libraries"
   ]
  },
  {
   "cell_type": "code",
   "execution_count": 97,
   "metadata": {},
   "outputs": [],
   "source": [
    "import matplotlib.pyplot as plt\n",
    "import seaborn as sns\n",
    "import pandas as pd\n",
    "import os\n",
    "import numpy as np\n",
    "import warnings\n",
    "import collections as col\n",
    "import itertools as iterto\n",
    "warnings.filterwarnings(\"ignore\")\n",
    "from sklearn.cluster import KMeans #for kmeans algorithm\n",
    "#For dimensionality reduction.\n",
    "from sklearn.decomposition import PCA #pca from decomposition module.\n",
    "from sklearn.preprocessing import StandardScaler\n",
    "from sklearn import decomposition #decomposition module"
   ]
  },
  {
   "cell_type": "markdown",
   "metadata": {},
   "source": [
    "## Data Loading and Cleaning"
   ]
  },
  {
   "cell_type": "markdown",
   "metadata": {},
   "source": [
    "### Reading Input Files"
   ]
  },
  {
   "cell_type": "code",
   "execution_count": 2,
   "metadata": {},
   "outputs": [],
   "source": [
    "aisles = pd.read_csv('https://raw.githubusercontent.com/yashwanthky/Market_Basket_Analysis/Data_Loading/aisles_perishables_tagged.csv', index_col = 0, error_bad_lines = False).reset_index()\n",
    "departments = pd.read_csv('instacart_2017_05_01/departments.csv')\n",
    "products = pd.read_csv('instacart_2017_05_01/products.csv')\n",
    "orders = pd.read_csv('instacart_2017_05_01/orders.csv')\n",
    "orders_products_train = pd.read_csv('instacart_2017_05_01/order_products__prior.csv')  # We train the model using this data of n-1 orders\n",
    "orders_products_test = pd.read_csv('instacart_2017_05_01/order_products__train.csv')   # We validate the predictions with this data of the nth order"
   ]
  },
  {
   "cell_type": "code",
   "execution_count": 3,
   "metadata": {},
   "outputs": [
    {
     "data": {
      "text/html": [
       "<div>\n",
       "<style scoped>\n",
       "    .dataframe tbody tr th:only-of-type {\n",
       "        vertical-align: middle;\n",
       "    }\n",
       "\n",
       "    .dataframe tbody tr th {\n",
       "        vertical-align: top;\n",
       "    }\n",
       "\n",
       "    .dataframe thead th {\n",
       "        text-align: right;\n",
       "    }\n",
       "</style>\n",
       "<table border=\"1\" class=\"dataframe\">\n",
       "  <thead>\n",
       "    <tr style=\"text-align: right;\">\n",
       "      <th></th>\n",
       "      <th>aisle_id</th>\n",
       "      <th>aisle</th>\n",
       "      <th>Perishables</th>\n",
       "    </tr>\n",
       "  </thead>\n",
       "  <tbody>\n",
       "    <tr>\n",
       "      <td>0</td>\n",
       "      <td>1</td>\n",
       "      <td>prepared soups salads</td>\n",
       "      <td>1</td>\n",
       "    </tr>\n",
       "    <tr>\n",
       "      <td>1</td>\n",
       "      <td>2</td>\n",
       "      <td>specialty cheeses</td>\n",
       "      <td>1</td>\n",
       "    </tr>\n",
       "    <tr>\n",
       "      <td>2</td>\n",
       "      <td>3</td>\n",
       "      <td>energy granola bars</td>\n",
       "      <td>0</td>\n",
       "    </tr>\n",
       "    <tr>\n",
       "      <td>3</td>\n",
       "      <td>4</td>\n",
       "      <td>instant foods</td>\n",
       "      <td>0</td>\n",
       "    </tr>\n",
       "    <tr>\n",
       "      <td>4</td>\n",
       "      <td>5</td>\n",
       "      <td>marinades meat preparation</td>\n",
       "      <td>1</td>\n",
       "    </tr>\n",
       "  </tbody>\n",
       "</table>\n",
       "</div>"
      ],
      "text/plain": [
       "   aisle_id                       aisle  Perishables\n",
       "0         1       prepared soups salads            1\n",
       "1         2           specialty cheeses            1\n",
       "2         3         energy granola bars            0\n",
       "3         4               instant foods            0\n",
       "4         5  marinades meat preparation            1"
      ]
     },
     "execution_count": 3,
     "metadata": {},
     "output_type": "execute_result"
    }
   ],
   "source": [
    "aisles.head()"
   ]
  },
  {
   "cell_type": "markdown",
   "metadata": {},
   "source": [
    "### Data Check\n",
    "#### (shape, features, unique values and missing values)"
   ]
  },
  {
   "cell_type": "code",
   "execution_count": 4,
   "metadata": {},
   "outputs": [
    {
     "name": "stdout",
     "output_type": "stream",
     "text": [
      "Rows     :  134\n",
      "Columns  :  3\n",
      "\n",
      "Features : \n",
      " ['aisle_id', 'aisle', 'Perishables']\n",
      "\n",
      "Missing values :   0\n",
      "\n",
      "Unique values :  \n",
      " aisle_id       134\n",
      "aisle          134\n",
      "Perishables      2\n",
      "dtype: int64\n"
     ]
    }
   ],
   "source": [
    "print (\"Rows     : \" ,aisles.shape[0])\n",
    "print (\"Columns  : \" ,aisles.shape[1])\n",
    "print (\"\\nFeatures : \\n\" ,aisles.columns.tolist())\n",
    "print (\"\\nMissing values :  \", aisles.isnull().sum().values.sum())\n",
    "print (\"\\nUnique values :  \\n\",aisles.nunique())"
   ]
  },
  {
   "cell_type": "code",
   "execution_count": 5,
   "metadata": {},
   "outputs": [
    {
     "name": "stdout",
     "output_type": "stream",
     "text": [
      "Rows     :  21\n",
      "Columns  :  2\n",
      "\n",
      "Features : \n",
      " ['department_id', 'department']\n",
      "\n",
      "Missing values :   0\n",
      "\n",
      "Unique values :  \n",
      " department_id    21\n",
      "department       21\n",
      "dtype: int64\n"
     ]
    }
   ],
   "source": [
    "print (\"Rows     : \" ,departments.shape[0])\n",
    "print (\"Columns  : \" ,departments.shape[1])\n",
    "print (\"\\nFeatures : \\n\" ,departments.columns.tolist())\n",
    "print (\"\\nMissing values :  \", departments.isnull().sum().values.sum())\n",
    "print (\"\\nUnique values :  \\n\",departments.nunique())"
   ]
  },
  {
   "cell_type": "code",
   "execution_count": 6,
   "metadata": {},
   "outputs": [
    {
     "name": "stdout",
     "output_type": "stream",
     "text": [
      "Rows     :  49688\n",
      "Columns  :  4\n",
      "\n",
      "Features : \n",
      " ['product_id', 'product_name', 'aisle_id', 'department_id']\n",
      "\n",
      "Missing values :   0\n",
      "\n",
      "Unique values :  \n",
      " product_id       49688\n",
      "product_name     49688\n",
      "aisle_id           134\n",
      "department_id       21\n",
      "dtype: int64\n"
     ]
    }
   ],
   "source": [
    "print (\"Rows     : \" ,products.shape[0])\n",
    "print (\"Columns  : \" ,products.shape[1])\n",
    "print (\"\\nFeatures : \\n\" ,products.columns.tolist())\n",
    "print (\"\\nMissing values :  \",products.isnull().sum().values.sum())\n",
    "print (\"\\nUnique values :  \\n\",products.nunique())"
   ]
  },
  {
   "cell_type": "code",
   "execution_count": 7,
   "metadata": {},
   "outputs": [
    {
     "name": "stdout",
     "output_type": "stream",
     "text": [
      "Rows     :  3421083\n",
      "Columns  :  7\n",
      "\n",
      "Features : \n",
      " ['order_id', 'user_id', 'eval_set', 'order_number', 'order_dow', 'order_hour_of_day', 'days_since_prior_order']\n",
      "\n",
      "Missing values :   206209\n",
      "\n",
      "Missing values :   [     0      0      0      0      0      0 206209]\n",
      "\n",
      "Unique values :  \n",
      " order_id                  3421083\n",
      "user_id                    206209\n",
      "eval_set                        3\n",
      "order_number                  100\n",
      "order_dow                       7\n",
      "order_hour_of_day              24\n",
      "days_since_prior_order         31\n",
      "dtype: int64\n"
     ]
    }
   ],
   "source": [
    "print (\"Rows     : \" ,orders.shape[0])\n",
    "print (\"Columns  : \" ,orders.shape[1])\n",
    "print (\"\\nFeatures : \\n\" ,orders.columns.tolist())\n",
    "print (\"\\nMissing values :  \", orders.isnull().sum().values.sum())\n",
    "print (\"\\nMissing values :  \", orders.isnull().sum().values)\n",
    "print (\"\\nUnique values :  \\n\",orders.nunique())"
   ]
  },
  {
   "cell_type": "markdown",
   "metadata": {},
   "source": [
    "There are 206,209 missing values in the column 'days_since_prior_order'. This means that these orders are the first orders for the 206,209 unique customers"
   ]
  },
  {
   "cell_type": "code",
   "execution_count": 8,
   "metadata": {},
   "outputs": [
    {
     "name": "stdout",
     "output_type": "stream",
     "text": [
      "order_id  count    4\n",
      "dtype: int64 order_id  count    100\n",
      "dtype: int64 order_id  count    16.590367\n",
      "dtype: float64 order_id  count    10.0\n",
      "dtype: float64 order_id  count    16.654774\n",
      "dtype: float64\n"
     ]
    }
   ],
   "source": [
    "# Let us see the order count by unique user id\n",
    "\n",
    "print(orders.groupby('user_id').agg({'order_id' : ['count']}).min(),\n",
    "      orders.groupby('user_id').agg({'order_id' : ['count']}).max(),\n",
    "     orders.groupby('user_id').agg({'order_id' : ['count']}).mean(),\n",
    "     orders.groupby('user_id').agg({'order_id' : ['count']}).median(),\n",
    "     orders.groupby('user_id').agg({'order_id' : ['count']}).std())"
   ]
  },
  {
   "cell_type": "markdown",
   "metadata": {},
   "source": [
    "There are around 10 orders for 75% of the customers and the minimum number of orders per user is 4 and the maximum number of orders per user is 100."
   ]
  },
  {
   "cell_type": "code",
   "execution_count": 9,
   "metadata": {},
   "outputs": [
    {
     "name": "stdout",
     "output_type": "stream",
     "text": [
      "Rows     :  32434489\n",
      "Columns  :  4\n",
      "\n",
      "Features : \n",
      " ['order_id', 'product_id', 'add_to_cart_order', 'reordered']\n",
      "\n",
      "Missing values :   0\n",
      "\n",
      "Unique values :  \n",
      " order_id             3214874\n",
      "product_id             49677\n",
      "add_to_cart_order        145\n",
      "reordered                  2\n",
      "dtype: int64\n"
     ]
    }
   ],
   "source": [
    "print (\"Rows     : \" ,orders_products_train.shape[0])\n",
    "print (\"Columns  : \" ,orders_products_train.shape[1])\n",
    "print (\"\\nFeatures : \\n\" ,orders_products_train.columns.tolist())\n",
    "print (\"\\nMissing values :  \", orders_products_train.isnull().sum().values.sum())\n",
    "print (\"\\nUnique values :  \\n\",orders_products_train.nunique())"
   ]
  },
  {
   "cell_type": "code",
   "execution_count": 10,
   "metadata": {},
   "outputs": [
    {
     "name": "stdout",
     "output_type": "stream",
     "text": [
      "Rows     :  1384617\n",
      "Columns  :  4\n",
      "\n",
      "Features : \n",
      " ['order_id', 'product_id', 'add_to_cart_order', 'reordered']\n",
      "\n",
      "Missing values :   0\n",
      "\n",
      "Unique values :  \n",
      " order_id             131209\n",
      "product_id            39123\n",
      "add_to_cart_order        80\n",
      "reordered                 2\n",
      "dtype: int64\n"
     ]
    }
   ],
   "source": [
    "print (\"Rows     : \" ,orders_products_test.shape[0])\n",
    "print (\"Columns  : \" ,orders_products_test.shape[1])\n",
    "print (\"\\nFeatures : \\n\" ,orders_products_test.columns.tolist())\n",
    "print (\"\\nMissing values :  \", orders_products_test.isnull().sum().values.sum())\n",
    "print (\"\\nUnique values :  \\n\",orders_products_test.nunique())"
   ]
  },
  {
   "cell_type": "markdown",
   "metadata": {},
   "source": [
    "## Data Merging"
   ]
  },
  {
   "cell_type": "code",
   "execution_count": 11,
   "metadata": {},
   "outputs": [],
   "source": [
    "merged_data = pd.merge(orders_products_train,orders, on = 'order_id')\n",
    "merged_data = pd.merge(merged_data,products, on = 'product_id')\n",
    "merged_data = pd.merge(merged_data,aisles, on = 'aisle_id')\n",
    "merged_data = pd.merge(merged_data,departments, on = 'department_id')"
   ]
  },
  {
   "cell_type": "markdown",
   "metadata": {},
   "source": [
    "Replacing the missing values in the column 'days_since_prior_order' with '999'"
   ]
  },
  {
   "cell_type": "code",
   "execution_count": 12,
   "metadata": {},
   "outputs": [],
   "source": [
    "merged_data['days_since_prior_order'].fillna('999',inplace = True)"
   ]
  },
  {
   "cell_type": "code",
   "execution_count": 13,
   "metadata": {},
   "outputs": [
    {
     "name": "stdout",
     "output_type": "stream",
     "text": [
      "Rows     :  32434489\n",
      "Columns  :  16\n",
      "\n",
      "Missing values :   [('order_id', 0), ('product_id', 0), ('add_to_cart_order', 0), ('reordered', 0), ('user_id', 0), ('eval_set', 0), ('order_number', 0), ('order_dow', 0), ('order_hour_of_day', 0), ('days_since_prior_order', 0), ('product_name', 0), ('aisle_id', 0), ('department_id', 0), ('aisle', 0), ('Perishables', 0), ('department', 0)]\n",
      "\n",
      "Unique values :  \n",
      " order_id                  3214874\n",
      "product_id                  49677\n",
      "add_to_cart_order             145\n",
      "reordered                       2\n",
      "user_id                    206209\n",
      "eval_set                        1\n",
      "order_number                   99\n",
      "order_dow                       7\n",
      "order_hour_of_day              24\n",
      "days_since_prior_order         32\n",
      "product_name                49677\n",
      "aisle_id                      134\n",
      "department_id                  21\n",
      "aisle                         134\n",
      "Perishables                     2\n",
      "department                     21\n",
      "dtype: int64\n"
     ]
    }
   ],
   "source": [
    "print (\"Rows     : \" ,merged_data.shape[0])\n",
    "print (\"Columns  : \" ,merged_data.shape[1])\n",
    "print (\"\\nMissing values :  \",list(zip(merged_data.columns.tolist(),list(merged_data.isnull().sum().values))))\n",
    "print (\"\\nUnique values :  \\n\",merged_data.nunique())"
   ]
  },
  {
   "cell_type": "markdown",
   "metadata": {},
   "source": [
    "## Data Exploration"
   ]
  },
  {
   "cell_type": "markdown",
   "metadata": {},
   "source": [
    "#### Count of users by number of orders placed"
   ]
  },
  {
   "cell_type": "markdown",
   "metadata": {},
   "source": [
    "We will look at the distribution of number of orders placed by each user - "
   ]
  },
  {
   "cell_type": "code",
   "execution_count": 14,
   "metadata": {},
   "outputs": [],
   "source": [
    "user_order = merged_data[['user_id','order_id']].drop_duplicates().groupby(['user_id']).agg({'order_id' : ['count']}).reset_index()\n",
    "user_order.columns = ['user_id','Orders_Count']\n",
    "user_order = user_order.groupby(['Orders_Count']).agg({'user_id' : ['count']}).reset_index()\n",
    "user_order.columns = ['Order_Count','Users']"
   ]
  },
  {
   "cell_type": "code",
   "execution_count": 15,
   "metadata": {},
   "outputs": [
    {
     "data": {
      "image/png": "[encoded data removed]",
      "text/plain": [
       "<Figure size 1080x720 with 1 Axes>"
      ]
     },
     "metadata": {
      "needs_background": "light"
     },
     "output_type": "display_data"
    }
   ],
   "source": [
    "plt.figure(figsize=(15,10))\n",
    "sns.barplot(x='Order_Count', y='Users',data=user_order, color='cornflowerblue')\n",
    "plt.ylabel('Number of users', fontsize=13)\n",
    "plt.xlabel('Number of orders', fontsize=13)\n",
    "plt.xticks(rotation='vertical')\n",
    "plt.title('Count of users by number of orders placed');"
   ]
  },
  {
   "cell_type": "markdown",
   "metadata": {},
   "source": [
    "We see that it is a right skewed chart with a majority of users having less than 20 orders."
   ]
  },
  {
   "cell_type": "markdown",
   "metadata": {},
   "source": [
    "We will now look at how many products users generally buy in one order"
   ]
  },
  {
   "cell_type": "markdown",
   "metadata": {},
   "source": [
    "#### Count of orders by number of products purchased"
   ]
  },
  {
   "cell_type": "code",
   "execution_count": 16,
   "metadata": {},
   "outputs": [],
   "source": [
    "order_products = merged_data[['order_id','add_to_cart_order']]\n",
    "order_products = order_products.groupby(['order_id']).agg({'add_to_cart_order' : ['max']}).reset_index()\n",
    "order_products.columns = ['order_id','products']\n",
    "order_products = order_products.groupby(['products']).agg({'order_id' : ['count']}).reset_index()\n",
    "order_products.columns = ['no_of_products','orders']"
   ]
  },
  {
   "cell_type": "code",
   "execution_count": 17,
   "metadata": {},
   "outputs": [
    {
     "data": {
      "image/png": "[encoded data removed]",
      "text/plain": [
       "<Figure size 1080x720 with 1 Axes>"
      ]
     },
     "metadata": {
      "needs_background": "light"
     },
     "output_type": "display_data"
    }
   ],
   "source": [
    "plt.figure(figsize=(15,10))\n",
    "sns.barplot(x='no_of_products', y='orders',data=order_products, color='cornflowerblue')\n",
    "plt.ylabel('Number of orders', fontsize=13)\n",
    "plt.xlabel('Product Count', fontsize=13)\n",
    "plt.xticks(rotation='vertical')\n",
    "plt.title('Count of orders by number of products purchased');"
   ]
  },
  {
   "cell_type": "markdown",
   "metadata": {},
   "source": [
    "The plot follows a right skew distribution and we notice that most of the orders contains upto 10 products in the order"
   ]
  },
  {
   "cell_type": "markdown",
   "metadata": {},
   "source": [
    "We will look if the orders peak on a particular day of the week"
   ]
  },
  {
   "cell_type": "markdown",
   "metadata": {},
   "source": [
    "#### Count of Orders by each Day in the Week "
   ]
  },
  {
   "cell_type": "code",
   "execution_count": 18,
   "metadata": {},
   "outputs": [
    {
     "data": {
      "text/plain": [
       "(7, 2)"
      ]
     },
     "execution_count": 18,
     "metadata": {},
     "output_type": "execute_result"
    }
   ],
   "source": [
    "orderperday = merged_data[['order_dow','order_id']].drop_duplicates().groupby('order_dow').agg({'order_id' : ['count']}).reset_index()\n",
    "orderperday.columns = ['Day_Week','Orders']\n",
    "orderperday.shape"
   ]
  },
  {
   "cell_type": "code",
   "execution_count": 19,
   "metadata": {},
   "outputs": [
    {
     "data": {
      "image/png": "[encoded data removed]",
      "text/plain": [
       "<Figure size 432x288 with 1 Axes>"
      ]
     },
     "metadata": {
      "needs_background": "light"
     },
     "output_type": "display_data"
    }
   ],
   "source": [
    "sns.barplot(x='Day_Week', y='Orders',data=orderperday, color='cornflowerblue')\n",
    "plt.ylabel('Number of orders', fontsize=13)\n",
    "plt.xlabel('Order Day in the Week', fontsize=13)\n",
    "plt.title('Count of Orders by each Day in the Week');"
   ]
  },
  {
   "cell_type": "markdown",
   "metadata": {},
   "source": [
    "We see that most of the orders are placed on day = 0 and day = 1."
   ]
  },
  {
   "cell_type": "markdown",
   "metadata": {},
   "source": [
    "#### Count of Orders by Hour in each Day"
   ]
  },
  {
   "cell_type": "code",
   "execution_count": 20,
   "metadata": {},
   "outputs": [
    {
     "data": {
      "text/plain": [
       "(24, 2)"
      ]
     },
     "execution_count": 20,
     "metadata": {},
     "output_type": "execute_result"
    }
   ],
   "source": [
    "orderperhour = merged_data[['order_hour_of_day','order_id']].drop_duplicates().groupby('order_hour_of_day').agg({'order_id' : ['count']}).reset_index()\n",
    "orderperhour.columns = ['Day_hour','Orders']\n",
    "orderperhour.shape"
   ]
  },
  {
   "cell_type": "code",
   "execution_count": 21,
   "metadata": {},
   "outputs": [
    {
     "data": {
      "image/png": "[encoded data removed]",
      "text/plain": [
       "<Figure size 432x288 with 1 Axes>"
      ]
     },
     "metadata": {
      "needs_background": "light"
     },
     "output_type": "display_data"
    }
   ],
   "source": [
    "sns.barplot(x='Day_hour', y='Orders',data=orderperhour, color='cornflowerblue')\n",
    "plt.ylabel('Number of orders', fontsize=13)\n",
    "plt.xlabel('Order Hour in the Day', fontsize=13)\n",
    "plt.title('Count of Orders by Hour in each Day');"
   ]
  },
  {
   "cell_type": "markdown",
   "metadata": {},
   "source": [
    "Most of the ordering activity occurs between 9AM to 4PM before the number of orders placed goes down."
   ]
  },
  {
   "cell_type": "markdown",
   "metadata": {},
   "source": [
    "We will now check how often customers place orders on Instacart"
   ]
  },
  {
   "cell_type": "markdown",
   "metadata": {},
   "source": [
    "#### Distribution showing how frequently users order "
   ]
  },
  {
   "cell_type": "code",
   "execution_count": 22,
   "metadata": {},
   "outputs": [
    {
     "data": {
      "text/html": [
       "<div>\n",
       "<style scoped>\n",
       "    .dataframe tbody tr th:only-of-type {\n",
       "        vertical-align: middle;\n",
       "    }\n",
       "\n",
       "    .dataframe tbody tr th {\n",
       "        vertical-align: top;\n",
       "    }\n",
       "\n",
       "    .dataframe thead th {\n",
       "        text-align: right;\n",
       "    }\n",
       "</style>\n",
       "<table border=\"1\" class=\"dataframe\">\n",
       "  <thead>\n",
       "    <tr style=\"text-align: right;\">\n",
       "      <th></th>\n",
       "      <th>user_id</th>\n",
       "      <th>order_id</th>\n",
       "      <th>days_since_prior_order</th>\n",
       "    </tr>\n",
       "  </thead>\n",
       "  <tbody>\n",
       "    <tr>\n",
       "      <td>0</td>\n",
       "      <td>202279</td>\n",
       "      <td>2</td>\n",
       "      <td>8</td>\n",
       "    </tr>\n",
       "    <tr>\n",
       "      <td>1</td>\n",
       "      <td>153404</td>\n",
       "      <td>26</td>\n",
       "      <td>7</td>\n",
       "    </tr>\n",
       "    <tr>\n",
       "      <td>2</td>\n",
       "      <td>23750</td>\n",
       "      <td>120</td>\n",
       "      <td>10</td>\n",
       "    </tr>\n",
       "    <tr>\n",
       "      <td>3</td>\n",
       "      <td>58707</td>\n",
       "      <td>327</td>\n",
       "      <td>8</td>\n",
       "    </tr>\n",
       "    <tr>\n",
       "      <td>4</td>\n",
       "      <td>166654</td>\n",
       "      <td>390</td>\n",
       "      <td>9</td>\n",
       "    </tr>\n",
       "  </tbody>\n",
       "</table>\n",
       "</div>"
      ],
      "text/plain": [
       "   user_id  order_id  days_since_prior_order\n",
       "0   202279         2                       8\n",
       "1   153404        26                       7\n",
       "2    23750       120                      10\n",
       "3    58707       327                       8\n",
       "4   166654       390                       9"
      ]
     },
     "execution_count": 22,
     "metadata": {},
     "output_type": "execute_result"
    }
   ],
   "source": [
    "customerorderprior = merged_data[['user_id','order_id','days_since_prior_order']].drop_duplicates()\n",
    "customerorderprior = customerorderprior.loc[customerorderprior['days_since_prior_order'] != '999']\n",
    "customerorderprior = customerorderprior.astype('int64', copy = False)\n",
    "customerorderprior.head()"
   ]
  },
  {
   "cell_type": "code",
   "execution_count": 23,
   "metadata": {},
   "outputs": [],
   "source": [
    "#customerorderprior.groupby(['user_id'])['days_since_prior_order'].agg(pd.Series.mode).to_frame()\n",
    "customerorderprior = customerorderprior.groupby('user_id')['days_since_prior_order'].apply(lambda x: x.value_counts().index[0]).reset_index()"
   ]
  },
  {
   "cell_type": "code",
   "execution_count": 24,
   "metadata": {},
   "outputs": [
    {
     "data": {
      "text/html": [
       "<div>\n",
       "<style scoped>\n",
       "    .dataframe tbody tr th:only-of-type {\n",
       "        vertical-align: middle;\n",
       "    }\n",
       "\n",
       "    .dataframe tbody tr th {\n",
       "        vertical-align: top;\n",
       "    }\n",
       "\n",
       "    .dataframe thead th {\n",
       "        text-align: right;\n",
       "    }\n",
       "</style>\n",
       "<table border=\"1\" class=\"dataframe\">\n",
       "  <thead>\n",
       "    <tr style=\"text-align: right;\">\n",
       "      <th></th>\n",
       "      <th>user_id</th>\n",
       "      <th>days_since_prior_order</th>\n",
       "    </tr>\n",
       "  </thead>\n",
       "  <tbody>\n",
       "    <tr>\n",
       "      <td>0</td>\n",
       "      <td>1</td>\n",
       "      <td>14</td>\n",
       "    </tr>\n",
       "    <tr>\n",
       "      <td>1</td>\n",
       "      <td>2</td>\n",
       "      <td>8</td>\n",
       "    </tr>\n",
       "    <tr>\n",
       "      <td>2</td>\n",
       "      <td>3</td>\n",
       "      <td>7</td>\n",
       "    </tr>\n",
       "    <tr>\n",
       "      <td>3</td>\n",
       "      <td>4</td>\n",
       "      <td>15</td>\n",
       "    </tr>\n",
       "    <tr>\n",
       "      <td>4</td>\n",
       "      <td>5</td>\n",
       "      <td>19</td>\n",
       "    </tr>\n",
       "  </tbody>\n",
       "</table>\n",
       "</div>"
      ],
      "text/plain": [
       "   user_id  days_since_prior_order\n",
       "0        1                      14\n",
       "1        2                       8\n",
       "2        3                       7\n",
       "3        4                      15\n",
       "4        5                      19"
      ]
     },
     "execution_count": 24,
     "metadata": {},
     "output_type": "execute_result"
    }
   ],
   "source": [
    "customerorderprior.head()\n",
    "#print (\"\\nUnique values :  \\n\",customerorderprior.nunique())"
   ]
  },
  {
   "cell_type": "code",
   "execution_count": 25,
   "metadata": {},
   "outputs": [
    {
     "data": {
      "text/html": [
       "<div>\n",
       "<style scoped>\n",
       "    .dataframe tbody tr th:only-of-type {\n",
       "        vertical-align: middle;\n",
       "    }\n",
       "\n",
       "    .dataframe tbody tr th {\n",
       "        vertical-align: top;\n",
       "    }\n",
       "\n",
       "    .dataframe thead th {\n",
       "        text-align: right;\n",
       "    }\n",
       "</style>\n",
       "<table border=\"1\" class=\"dataframe\">\n",
       "  <thead>\n",
       "    <tr style=\"text-align: right;\">\n",
       "      <th></th>\n",
       "      <th>days_since_prior_order</th>\n",
       "      <th>users</th>\n",
       "    </tr>\n",
       "  </thead>\n",
       "  <tbody>\n",
       "    <tr>\n",
       "      <td>0</td>\n",
       "      <td>0</td>\n",
       "      <td>1029</td>\n",
       "    </tr>\n",
       "    <tr>\n",
       "      <td>1</td>\n",
       "      <td>1</td>\n",
       "      <td>3393</td>\n",
       "    </tr>\n",
       "    <tr>\n",
       "      <td>2</td>\n",
       "      <td>2</td>\n",
       "      <td>5792</td>\n",
       "    </tr>\n",
       "    <tr>\n",
       "      <td>3</td>\n",
       "      <td>3</td>\n",
       "      <td>7931</td>\n",
       "    </tr>\n",
       "    <tr>\n",
       "      <td>4</td>\n",
       "      <td>4</td>\n",
       "      <td>7019</td>\n",
       "    </tr>\n",
       "  </tbody>\n",
       "</table>\n",
       "</div>"
      ],
      "text/plain": [
       "   days_since_prior_order  users\n",
       "0                       0   1029\n",
       "1                       1   3393\n",
       "2                       2   5792\n",
       "3                       3   7931\n",
       "4                       4   7019"
      ]
     },
     "execution_count": 25,
     "metadata": {},
     "output_type": "execute_result"
    }
   ],
   "source": [
    "customerorderprior = customerorderprior.groupby('days_since_prior_order').agg({'user_id' : ['count']}).reset_index()\n",
    "customerorderprior.columns = ['days_since_prior_order','users']\n",
    "customerorderprior.head()"
   ]
  },
  {
   "cell_type": "code",
   "execution_count": 26,
   "metadata": {},
   "outputs": [
    {
     "data": {
      "image/png": "[encoded data removed]",
      "text/plain": [
       "<Figure size 1080x720 with 1 Axes>"
      ]
     },
     "metadata": {
      "needs_background": "light"
     },
     "output_type": "display_data"
    }
   ],
   "source": [
    "plt.figure(figsize=(15,10))\n",
    "sns.barplot(x='days_since_prior_order', y='users',data=customerorderprior, color='cornflowerblue')\n",
    "plt.ylabel('Number of users', fontsize=13)\n",
    "plt.xlabel('Days since prior order', fontsize=13)\n",
    "plt.title('Distribution showing how frequently users order');"
   ]
  },
  {
   "cell_type": "markdown",
   "metadata": {},
   "source": [
    "The customers who order frequently i.e. every week can be targeted for experimentation with perishable products."
   ]
  },
  {
   "cell_type": "markdown",
   "metadata": {},
   "source": [
    "We will go ahead and see what are the products that are driving the orders i.e. the rank of the product in the cart should be 1"
   ]
  },
  {
   "cell_type": "markdown",
   "metadata": {},
   "source": [
    "#### Top 25 products which are driving orders "
   ]
  },
  {
   "cell_type": "code",
   "execution_count": 27,
   "metadata": {},
   "outputs": [],
   "source": [
    "productorderpreference = merged_data[['order_id','product_id','add_to_cart_order']]\n",
    "productorderpreference = productorderpreference[(productorderpreference.add_to_cart_order == 1)]\n",
    "productorderpreference = productorderpreference[['order_id','product_id']]\n",
    "productorderpreference = productorderpreference.groupby('product_id').agg({'order_id' : ['count']}).reset_index()\n",
    "productorderpreference.columns = ['product_id','orders']\n",
    "productorderpreference['orderspercent'] = productorderpreference['orders']/productorderpreference['orders'].sum()\n",
    "productorderpreference = productorderpreference.sort_values(by='orderspercent', ascending=False)"
   ]
  },
  {
   "cell_type": "code",
   "execution_count": 28,
   "metadata": {},
   "outputs": [
    {
     "data": {
      "image/png": "[encoded data removed]",
      "text/plain": [
       "<Figure size 1080x720 with 1 Axes>"
      ]
     },
     "metadata": {
      "needs_background": "light"
     },
     "output_type": "display_data"
    }
   ],
   "source": [
    "plt.figure(figsize=(15,10))\n",
    "sns.barplot(x='product_id', y='orders',data=productorderpreference.iloc[:25, :], color='cornflowerblue')\n",
    "plt.ylabel('Number of orders', fontsize=13)\n",
    "plt.xlabel('Produt ID', fontsize=13)\n",
    "plt.title('Top 25 products which are driving orders')\n",
    "plt.xticks(rotation = 45);"
   ]
  },
  {
   "cell_type": "markdown",
   "metadata": {},
   "source": [
    "Let us check what is the order percent for these 25 products"
   ]
  },
  {
   "cell_type": "code",
   "execution_count": 29,
   "metadata": {},
   "outputs": [
    {
     "data": {
      "image/png": "[encoded data removed]",
      "text/plain": [
       "<Figure size 1080x720 with 1 Axes>"
      ]
     },
     "metadata": {
      "needs_background": "light"
     },
     "output_type": "display_data"
    }
   ],
   "source": [
    "plt.figure(figsize=(15,10))\n",
    "sns.barplot(x='product_id', y='orderspercent',data=productorderpreference.iloc[:25, :], color='cornflowerblue')\n",
    "plt.ylabel('Order Percentage', fontsize=13)\n",
    "plt.xlabel('Produt ID', fontsize=13)\n",
    "plt.title('Top 25 products which are driving orders');\n",
    "plt.xticks(rotation = 45);"
   ]
  },
  {
   "cell_type": "markdown",
   "metadata": {},
   "source": [
    "#### Top 2 products which are driving most of the orders "
   ]
  },
  {
   "cell_type": "markdown",
   "metadata": {},
   "source": [
    "The top 2 products which are driving most of the orders are 24852 and 13176. They are present in 3.5% and 2.5% of all the orders. Let us see what department and aisle these products belong to."
   ]
  },
  {
   "cell_type": "code",
   "execution_count": 30,
   "metadata": {},
   "outputs": [
    {
     "data": {
      "text/html": [
       "<div>\n",
       "<style scoped>\n",
       "    .dataframe tbody tr th:only-of-type {\n",
       "        vertical-align: middle;\n",
       "    }\n",
       "\n",
       "    .dataframe tbody tr th {\n",
       "        vertical-align: top;\n",
       "    }\n",
       "\n",
       "    .dataframe thead th {\n",
       "        text-align: right;\n",
       "    }\n",
       "</style>\n",
       "<table border=\"1\" class=\"dataframe\">\n",
       "  <thead>\n",
       "    <tr style=\"text-align: right;\">\n",
       "      <th></th>\n",
       "      <th>product_id</th>\n",
       "      <th>product_name</th>\n",
       "      <th>aisle</th>\n",
       "      <th>department</th>\n",
       "    </tr>\n",
       "  </thead>\n",
       "  <tbody>\n",
       "    <tr>\n",
       "      <td>10597350</td>\n",
       "      <td>13176</td>\n",
       "      <td>Bag of Organic Bananas</td>\n",
       "      <td>fresh fruits</td>\n",
       "      <td>produce</td>\n",
       "    </tr>\n",
       "    <tr>\n",
       "      <td>11196487</td>\n",
       "      <td>24852</td>\n",
       "      <td>Banana</td>\n",
       "      <td>fresh fruits</td>\n",
       "      <td>produce</td>\n",
       "    </tr>\n",
       "  </tbody>\n",
       "</table>\n",
       "</div>"
      ],
      "text/plain": [
       "          product_id            product_name         aisle department\n",
       "10597350       13176  Bag of Organic Bananas  fresh fruits    produce\n",
       "11196487       24852                  Banana  fresh fruits    produce"
      ]
     },
     "execution_count": 30,
     "metadata": {},
     "output_type": "execute_result"
    }
   ],
   "source": [
    "Top2drivingproducts = merged_data[(merged_data.product_id == 24852) | (merged_data.product_id == 13176)]\n",
    "Top2drivingproducts = Top2drivingproducts[['product_id','product_name','aisle','department']].drop_duplicates()\n",
    "Top2drivingproducts"
   ]
  },
  {
   "cell_type": "markdown",
   "metadata": {},
   "source": [
    "Both the top 2 products are from the 'produce' department and the 'fresh fruits' aisle"
   ]
  },
  {
   "cell_type": "markdown",
   "metadata": {},
   "source": [
    "We will check how many of the products are being re-ordered across departments and aisles. Let us plot the top 20 departmenst and aisles with highest re-order ratio"
   ]
  },
  {
   "cell_type": "markdown",
   "metadata": {},
   "source": [
    "#### Departments and their highest re-order percentage "
   ]
  },
  {
   "cell_type": "code",
   "execution_count": 31,
   "metadata": {},
   "outputs": [],
   "source": [
    "department_re_order = merged_data.groupby('department').agg({'reordered' : ['mean']}).reset_index()\n",
    "department_re_order.columns = ['department','re_order_ratio']\n",
    "department_re_order = department_re_order.sort_values(by='re_order_ratio', ascending=False)"
   ]
  },
  {
   "cell_type": "code",
   "execution_count": 32,
   "metadata": {},
   "outputs": [
    {
     "data": {
      "image/png": "[encoded data removed]",
      "text/plain": [
       "<Figure size 1080x720 with 1 Axes>"
      ]
     },
     "metadata": {
      "needs_background": "light"
     },
     "output_type": "display_data"
    }
   ],
   "source": [
    "plt.figure(figsize=(15,10))\n",
    "sns.barplot(x='department', y='re_order_ratio',data=department_re_order, color='cornflowerblue')\n",
    "plt.ylabel('Re-order Percentage', fontsize=13)\n",
    "plt.xlabel('Department', fontsize=13)\n",
    "plt.title('Departments and their highest re-order percentage');\n",
    "plt.xticks(rotation = 45);"
   ]
  },
  {
   "cell_type": "markdown",
   "metadata": {},
   "source": [
    "Departments dairy eggs, beverages, and produce are the top 3 departments with highest re-order percentage. International, pantry and personal care are the departments with the lowest re-order percentage.\n",
    "\n",
    "We will now repeat the same exercise for aisles. As the number of aisles are 134, we will look at the top 20 aisles with highest re-order percentage."
   ]
  },
  {
   "cell_type": "markdown",
   "metadata": {},
   "source": [
    "#### Top 20 aisles with highest re-order percentage "
   ]
  },
  {
   "cell_type": "code",
   "execution_count": 33,
   "metadata": {},
   "outputs": [],
   "source": [
    "aisle_re_order = merged_data.groupby('aisle').agg({'reordered' : ['mean']}).reset_index()\n",
    "aisle_re_order.columns = ['aisle','re_order_ratio']\n",
    "aisle_re_order = aisle_re_order.sort_values(by='re_order_ratio', ascending=False)"
   ]
  },
  {
   "cell_type": "code",
   "execution_count": 34,
   "metadata": {},
   "outputs": [
    {
     "data": {
      "text/html": [
       "<div>\n",
       "<style scoped>\n",
       "    .dataframe tbody tr th:only-of-type {\n",
       "        vertical-align: middle;\n",
       "    }\n",
       "\n",
       "    .dataframe tbody tr th {\n",
       "        vertical-align: top;\n",
       "    }\n",
       "\n",
       "    .dataframe thead th {\n",
       "        text-align: right;\n",
       "    }\n",
       "</style>\n",
       "<table border=\"1\" class=\"dataframe\">\n",
       "  <thead>\n",
       "    <tr style=\"text-align: right;\">\n",
       "      <th></th>\n",
       "      <th>aisle</th>\n",
       "      <th>re_order_ratio</th>\n",
       "    </tr>\n",
       "  </thead>\n",
       "  <tbody>\n",
       "    <tr>\n",
       "      <td>83</td>\n",
       "      <td>milk</td>\n",
       "      <td>0.781428</td>\n",
       "    </tr>\n",
       "    <tr>\n",
       "      <td>131</td>\n",
       "      <td>water seltzer sparkling water</td>\n",
       "      <td>0.729593</td>\n",
       "    </tr>\n",
       "    <tr>\n",
       "      <td>50</td>\n",
       "      <td>fresh fruits</td>\n",
       "      <td>0.718104</td>\n",
       "    </tr>\n",
       "    <tr>\n",
       "      <td>41</td>\n",
       "      <td>eggs</td>\n",
       "      <td>0.705366</td>\n",
       "    </tr>\n",
       "    <tr>\n",
       "      <td>119</td>\n",
       "      <td>soy lactosefree</td>\n",
       "      <td>0.692551</td>\n",
       "    </tr>\n",
       "    <tr>\n",
       "      <td>...</td>\n",
       "      <td>...</td>\n",
       "      <td>...</td>\n",
       "    </tr>\n",
       "    <tr>\n",
       "      <td>8</td>\n",
       "      <td>beauty</td>\n",
       "      <td>0.212062</td>\n",
       "    </tr>\n",
       "    <tr>\n",
       "      <td>76</td>\n",
       "      <td>kitchen supplies</td>\n",
       "      <td>0.195377</td>\n",
       "    </tr>\n",
       "    <tr>\n",
       "      <td>47</td>\n",
       "      <td>first aid</td>\n",
       "      <td>0.194812</td>\n",
       "    </tr>\n",
       "    <tr>\n",
       "      <td>7</td>\n",
       "      <td>baking supplies decor</td>\n",
       "      <td>0.167229</td>\n",
       "    </tr>\n",
       "    <tr>\n",
       "      <td>122</td>\n",
       "      <td>spices seasonings</td>\n",
       "      <td>0.152391</td>\n",
       "    </tr>\n",
       "  </tbody>\n",
       "</table>\n",
       "<p>134 rows × 2 columns</p>\n",
       "</div>"
      ],
      "text/plain": [
       "                             aisle  re_order_ratio\n",
       "83                            milk        0.781428\n",
       "131  water seltzer sparkling water        0.729593\n",
       "50                    fresh fruits        0.718104\n",
       "41                            eggs        0.705366\n",
       "119                soy lactosefree        0.692551\n",
       "..                             ...             ...\n",
       "8                           beauty        0.212062\n",
       "76                kitchen supplies        0.195377\n",
       "47                       first aid        0.194812\n",
       "7            baking supplies decor        0.167229\n",
       "122              spices seasonings        0.152391\n",
       "\n",
       "[134 rows x 2 columns]"
      ]
     },
     "execution_count": 34,
     "metadata": {},
     "output_type": "execute_result"
    }
   ],
   "source": [
    "aisle_re_order"
   ]
  },
  {
   "cell_type": "code",
   "execution_count": 35,
   "metadata": {},
   "outputs": [
    {
     "data": {
      "image/png": "[encoded data removed]",
      "text/plain": [
       "<Figure size 1080x720 with 1 Axes>"
      ]
     },
     "metadata": {
      "needs_background": "light"
     },
     "output_type": "display_data"
    }
   ],
   "source": [
    "plt.figure(figsize=(15,10))\n",
    "sns.barplot(x='aisle', y='re_order_ratio',data=aisle_re_order.iloc[:20, :], color='cornflowerblue')\n",
    "plt.ylabel('Re-order Percentage', fontsize=13)\n",
    "plt.xlabel('Aisle', fontsize=13)\n",
    "plt.title('Top 20 aisles with highest re-order percentage');\n",
    "plt.xticks(rotation = 45);"
   ]
  },
  {
   "cell_type": "markdown",
   "metadata": {},
   "source": [
    "The top 3 aisles with highest re-order percentage are milk, water seltzer sparkling water, and fresh fruits. The bottom 3 aisles with the lowest re-order percentage are spices seasonings, baking supplies decor, and first - aid."
   ]
  },
  {
   "cell_type": "markdown",
   "metadata": {},
   "source": [
    "Let us look at the re-order percentage by both the day of week and hour of the day"
   ]
  },
  {
   "cell_type": "markdown",
   "metadata": {},
   "source": [
    "#### Reorder percent by day of week and hour of day "
   ]
  },
  {
   "cell_type": "code",
   "execution_count": 36,
   "metadata": {},
   "outputs": [],
   "source": [
    "re_order_pattern = merged_data.groupby(['order_dow','order_hour_of_day']).agg({'reordered' : ['mean']}).reset_index()\n",
    "re_order_pattern.columns = ['order_dow','order_hour_of_day','re_order_percent']\n",
    "re_order_pattern = re_order_pattern.pivot('order_dow','order_hour_of_day','re_order_percent')"
   ]
  },
  {
   "cell_type": "code",
   "execution_count": 37,
   "metadata": {},
   "outputs": [
    {
     "data": {
      "image/png": "[encoded data removed]",
      "text/plain": [
       "<Figure size 864x432 with 2 Axes>"
      ]
     },
     "metadata": {
      "needs_background": "light"
     },
     "output_type": "display_data"
    }
   ],
   "source": [
    "plt.figure(figsize=(12,6))\n",
    "sns.heatmap(re_order_pattern)\n",
    "plt.ylabel('Order day of week', fontsize=13)\n",
    "plt.xlabel('Order hour of the day', fontsize=13)\n",
    "plt.title(\"Reorder percent by day of week and hour of day\");"
   ]
  },
  {
   "cell_type": "markdown",
   "metadata": {},
   "source": [
    "Most of the products that are re-ordered occur between 6AM to 9AM thriughout the week. The highest re-order percentage is on day 1 at 7AM."
   ]
  },
  {
   "cell_type": "markdown",
   "metadata": {},
   "source": [
    "We can check if the order in which the products are added to the cart influence the re-ordering of the product i.e. we will be checking if the hypothesis of \"Sooner the products are added to the cart, higher the re-order percentage\" is validated."
   ]
  },
  {
   "cell_type": "markdown",
   "metadata": {},
   "source": [
    "#### Relation between Add to cart order and Reorder ratio "
   ]
  },
  {
   "cell_type": "code",
   "execution_count": 38,
   "metadata": {
    "scrolled": true
   },
   "outputs": [
    {
     "data": {
      "text/plain": [
       "49.0"
      ]
     },
     "execution_count": 38,
     "metadata": {},
     "output_type": "execute_result"
    }
   ],
   "source": [
    "# Max add to cart order in the dataset\n",
    "merged_data['add_to_cart_order'].max()\n",
    "merged_data['add_to_cart_order'].quantile(0.999)"
   ]
  },
  {
   "cell_type": "markdown",
   "metadata": {},
   "source": [
    "While the maximum number of products added to the cart is 145, we see that the 99.9% of the products have a max add to cart order of 49. So, let us deal with products which have add to cart order of less than equal to 49."
   ]
  },
  {
   "cell_type": "code",
   "execution_count": 39,
   "metadata": {},
   "outputs": [
    {
     "data": {
      "image/png": "[encoded data removed]",
      "text/plain": [
       "<Figure size 864x576 with 1 Axes>"
      ]
     },
     "metadata": {
      "needs_background": "light"
     },
     "output_type": "display_data"
    }
   ],
   "source": [
    "add_to_cart_reorder = merged_data[(merged_data.add_to_cart_order <= 49)]\n",
    "add_to_cart_reorder = add_to_cart_reorder.groupby(['add_to_cart_order']).agg({'reordered' : ['mean']}).reset_index()\n",
    "add_to_cart_reorder.columns = ['add_to_cart_order','re_order_percent']\n",
    "plt.figure(figsize=(12,8))\n",
    "sns.pointplot(add_to_cart_reorder['add_to_cart_order'].values, add_to_cart_reorder['re_order_percent'].values, alpha=0.8, color='cornflowerblue')\n",
    "plt.ylabel('Reorder Percent', fontsize=13)\n",
    "plt.xlabel('Add to cart order', fontsize=13)\n",
    "plt.title(\"Relation between Add to cart order and Reorder ratio\")\n",
    "plt.xticks(rotation='vertical')\n",
    "plt.show()"
   ]
  },
  {
   "cell_type": "markdown",
   "metadata": {},
   "source": [
    "There is a very strong inverse relation between add to cart order and re-order percent. We can see that as the order in which the product is added to the cart increases, the re-order percent decreases."
   ]
  },
  {
   "cell_type": "markdown",
   "metadata": {},
   "source": [
    "#### Count of orders by Department "
   ]
  },
  {
   "cell_type": "code",
   "execution_count": 40,
   "metadata": {},
   "outputs": [
    {
     "data": {
      "image/png": "[encoded data removed]",
      "text/plain": [
       "<Figure size 1080x720 with 1 Axes>"
      ]
     },
     "metadata": {
      "needs_background": "light"
     },
     "output_type": "display_data"
    }
   ],
   "source": [
    "orders_department = merged_data[['order_id', 'department']].drop_duplicates().groupby(by=['department']).agg({'order_id' : ['count']}).reset_index()\n",
    "orders_department.columns = ['department', 'orders_count']\n",
    "plt.figure(figsize=(15,10))\n",
    "sns.barplot(x='department', y='orders_count',data=orders_department.sort_values(by='orders_count', ascending=False), color='cornflowerblue')\n",
    "plt.ylabel('Orders Count', fontsize=13)\n",
    "plt.xlabel('Department', fontsize=13)\n",
    "plt.title('Count of orders by Department');\n",
    "plt.xticks(rotation = 45);"
   ]
  },
  {
   "cell_type": "markdown",
   "metadata": {},
   "source": [
    "#### Count of orders by aisles "
   ]
  },
  {
   "cell_type": "code",
   "execution_count": 41,
   "metadata": {},
   "outputs": [
    {
     "data": {
      "image/png": "[encoded data removed]",
      "text/plain": [
       "<Figure size 1080x720 with 1 Axes>"
      ]
     },
     "metadata": {
      "needs_background": "light"
     },
     "output_type": "display_data"
    }
   ],
   "source": [
    "orders_aisle = merged_data[['order_id', 'aisle']].drop_duplicates().groupby(by=['aisle']).agg({'order_id' : ['count']}).reset_index()\n",
    "orders_aisle.columns = ['aisle', 'orders_count']\n",
    "plt.figure(figsize=(15,10))\n",
    "sns.barplot(x='aisle', y='orders_count',data=orders_aisle.sort_values(by='orders_count', ascending=False).iloc[:20, :], color='cornflowerblue')\n",
    "plt.ylabel('Orders Count', fontsize=13)\n",
    "plt.xlabel('Aisle', fontsize=13)\n",
    "plt.title('Count of orders by Aisle');\n",
    "plt.xticks(rotation = 45);"
   ]
  },
  {
   "cell_type": "markdown",
   "metadata": {},
   "source": [
    "#### Top Products sold in each Department "
   ]
  },
  {
   "cell_type": "code",
   "execution_count": 42,
   "metadata": {},
   "outputs": [
    {
     "data": {
      "text/html": [
       "<div>\n",
       "<style scoped>\n",
       "    .dataframe tbody tr th:only-of-type {\n",
       "        vertical-align: middle;\n",
       "    }\n",
       "\n",
       "    .dataframe tbody tr th {\n",
       "        vertical-align: top;\n",
       "    }\n",
       "\n",
       "    .dataframe thead th {\n",
       "        text-align: right;\n",
       "    }\n",
       "</style>\n",
       "<table border=\"1\" class=\"dataframe\">\n",
       "  <thead>\n",
       "    <tr style=\"text-align: right;\">\n",
       "      <th></th>\n",
       "      <th>department</th>\n",
       "      <th>product_name</th>\n",
       "      <th>orders_count</th>\n",
       "    </tr>\n",
       "  </thead>\n",
       "  <tbody>\n",
       "    <tr>\n",
       "      <td>41849</td>\n",
       "      <td>produce</td>\n",
       "      <td>Banana</td>\n",
       "      <td>472565</td>\n",
       "    </tr>\n",
       "    <tr>\n",
       "      <td>13508</td>\n",
       "      <td>dairy eggs</td>\n",
       "      <td>Organic Whole Milk</td>\n",
       "      <td>137905</td>\n",
       "    </tr>\n",
       "    <tr>\n",
       "      <td>7318</td>\n",
       "      <td>beverages</td>\n",
       "      <td>Sparkling Water Grapefruit</td>\n",
       "      <td>75886</td>\n",
       "    </tr>\n",
       "    <tr>\n",
       "      <td>15528</td>\n",
       "      <td>deli</td>\n",
       "      <td>Original Hummus</td>\n",
       "      <td>71314</td>\n",
       "    </tr>\n",
       "    <tr>\n",
       "      <td>2144</td>\n",
       "      <td>bakery</td>\n",
       "      <td>100% Whole Wheat Bread</td>\n",
       "      <td>60816</td>\n",
       "    </tr>\n",
       "    <tr>\n",
       "      <td>18167</td>\n",
       "      <td>frozen</td>\n",
       "      <td>Blueberries</td>\n",
       "      <td>55946</td>\n",
       "    </tr>\n",
       "    <tr>\n",
       "      <td>26280</td>\n",
       "      <td>meat seafood</td>\n",
       "      <td>Boneless Skinless Chicken Breasts</td>\n",
       "      <td>50281</td>\n",
       "    </tr>\n",
       "    <tr>\n",
       "      <td>30237</td>\n",
       "      <td>pantry</td>\n",
       "      <td>Extra Virgin Olive Oil</td>\n",
       "      <td>50255</td>\n",
       "    </tr>\n",
       "    <tr>\n",
       "      <td>10250</td>\n",
       "      <td>canned goods</td>\n",
       "      <td>Organic Black Beans</td>\n",
       "      <td>38001</td>\n",
       "    </tr>\n",
       "    <tr>\n",
       "      <td>21928</td>\n",
       "      <td>household</td>\n",
       "      <td>100% Recycled Paper Towels</td>\n",
       "      <td>27864</td>\n",
       "    </tr>\n",
       "    <tr>\n",
       "      <td>8481</td>\n",
       "      <td>breakfast</td>\n",
       "      <td>Honey Nut Cheerios</td>\n",
       "      <td>26741</td>\n",
       "    </tr>\n",
       "    <tr>\n",
       "      <td>46337</td>\n",
       "      <td>snacks</td>\n",
       "      <td>Lightly Salted Baked Snap Pea Crisps</td>\n",
       "      <td>24950</td>\n",
       "    </tr>\n",
       "    <tr>\n",
       "      <td>16835</td>\n",
       "      <td>dry goods pasta</td>\n",
       "      <td>Marinara Sauce</td>\n",
       "      <td>19998</td>\n",
       "    </tr>\n",
       "    <tr>\n",
       "      <td>25606</td>\n",
       "      <td>international</td>\n",
       "      <td>Organic Sea Salt Roasted Seaweed Snacks</td>\n",
       "      <td>10345</td>\n",
       "    </tr>\n",
       "    <tr>\n",
       "      <td>9131</td>\n",
       "      <td>bulk</td>\n",
       "      <td>Dried Mango</td>\n",
       "      <td>10150</td>\n",
       "    </tr>\n",
       "    <tr>\n",
       "      <td>1222</td>\n",
       "      <td>babies</td>\n",
       "      <td>Baby Food Stage 2 Blueberry Pear &amp; Purple Carrot</td>\n",
       "      <td>8793</td>\n",
       "    </tr>\n",
       "    <tr>\n",
       "      <td>27784</td>\n",
       "      <td>missing</td>\n",
       "      <td>Organic Riced Cauliflower</td>\n",
       "      <td>8366</td>\n",
       "    </tr>\n",
       "    <tr>\n",
       "      <td>826</td>\n",
       "      <td>alcohol</td>\n",
       "      <td>Sauvignon Blanc</td>\n",
       "      <td>8246</td>\n",
       "    </tr>\n",
       "    <tr>\n",
       "      <td>37311</td>\n",
       "      <td>personal care</td>\n",
       "      <td>Lavender Hand Soap</td>\n",
       "      <td>5941</td>\n",
       "    </tr>\n",
       "    <tr>\n",
       "      <td>28697</td>\n",
       "      <td>other</td>\n",
       "      <td>Roasted Almond Butter</td>\n",
       "      <td>3976</td>\n",
       "    </tr>\n",
       "    <tr>\n",
       "      <td>41108</td>\n",
       "      <td>pets</td>\n",
       "      <td>Grain Free Chicken Formula Cat Food</td>\n",
       "      <td>1825</td>\n",
       "    </tr>\n",
       "  </tbody>\n",
       "</table>\n",
       "</div>"
      ],
      "text/plain": [
       "            department                                      product_name  \\\n",
       "41849          produce                                            Banana   \n",
       "13508       dairy eggs                                Organic Whole Milk   \n",
       "7318         beverages                        Sparkling Water Grapefruit   \n",
       "15528             deli                                   Original Hummus   \n",
       "2144            bakery                            100% Whole Wheat Bread   \n",
       "18167           frozen                                       Blueberries   \n",
       "26280     meat seafood                 Boneless Skinless Chicken Breasts   \n",
       "30237           pantry                            Extra Virgin Olive Oil   \n",
       "10250     canned goods                               Organic Black Beans   \n",
       "21928        household                        100% Recycled Paper Towels   \n",
       "8481         breakfast                                Honey Nut Cheerios   \n",
       "46337           snacks              Lightly Salted Baked Snap Pea Crisps   \n",
       "16835  dry goods pasta                                    Marinara Sauce   \n",
       "25606    international           Organic Sea Salt Roasted Seaweed Snacks   \n",
       "9131              bulk                                       Dried Mango   \n",
       "1222            babies  Baby Food Stage 2 Blueberry Pear & Purple Carrot   \n",
       "27784          missing                         Organic Riced Cauliflower   \n",
       "826            alcohol                                   Sauvignon Blanc   \n",
       "37311    personal care                                Lavender Hand Soap   \n",
       "28697            other                             Roasted Almond Butter   \n",
       "41108             pets               Grain Free Chicken Formula Cat Food   \n",
       "\n",
       "       orders_count  \n",
       "41849        472565  \n",
       "13508        137905  \n",
       "7318          75886  \n",
       "15528         71314  \n",
       "2144          60816  \n",
       "18167         55946  \n",
       "26280         50281  \n",
       "30237         50255  \n",
       "10250         38001  \n",
       "21928         27864  \n",
       "8481          26741  \n",
       "46337         24950  \n",
       "16835         19998  \n",
       "25606         10345  \n",
       "9131          10150  \n",
       "1222           8793  \n",
       "27784          8366  \n",
       "826            8246  \n",
       "37311          5941  \n",
       "28697          3976  \n",
       "41108          1825  "
      ]
     },
     "execution_count": 42,
     "metadata": {},
     "output_type": "execute_result"
    }
   ],
   "source": [
    "orders_department_product = merged_data[['order_id', 'product_name', 'department']].drop_duplicates().groupby(by=['department', 'product_name']).agg({'order_id' : ['count']}).reset_index()\n",
    "orders_department_product.columns = ['department', 'product_name','orders_count']\n",
    "orders_department_product.sort_values(by='orders_count', ascending=False).groupby(by= ['department'], axis=0).head(1)"
   ]
  },
  {
   "cell_type": "markdown",
   "metadata": {},
   "source": [
    "#### Top Products sold in each Aisle "
   ]
  },
  {
   "cell_type": "code",
   "execution_count": 43,
   "metadata": {},
   "outputs": [
    {
     "data": {
      "text/html": [
       "<div>\n",
       "<style scoped>\n",
       "    .dataframe tbody tr th:only-of-type {\n",
       "        vertical-align: middle;\n",
       "    }\n",
       "\n",
       "    .dataframe tbody tr th {\n",
       "        vertical-align: top;\n",
       "    }\n",
       "\n",
       "    .dataframe thead th {\n",
       "        text-align: right;\n",
       "    }\n",
       "</style>\n",
       "<table border=\"1\" class=\"dataframe\">\n",
       "  <thead>\n",
       "    <tr style=\"text-align: right;\">\n",
       "      <th></th>\n",
       "      <th>aisle</th>\n",
       "      <th>product_name</th>\n",
       "      <th>orders_count</th>\n",
       "    </tr>\n",
       "  </thead>\n",
       "  <tbody>\n",
       "    <tr>\n",
       "      <td>19407</td>\n",
       "      <td>fresh fruits</td>\n",
       "      <td>Banana</td>\n",
       "      <td>472565</td>\n",
       "    </tr>\n",
       "    <tr>\n",
       "      <td>36655</td>\n",
       "      <td>packaged vegetables fruits</td>\n",
       "      <td>Organic Baby Spinach</td>\n",
       "      <td>241921</td>\n",
       "    </tr>\n",
       "    <tr>\n",
       "      <td>30905</td>\n",
       "      <td>milk</td>\n",
       "      <td>Organic Whole Milk</td>\n",
       "      <td>137905</td>\n",
       "    </tr>\n",
       "    <tr>\n",
       "      <td>20378</td>\n",
       "      <td>fresh vegetables</td>\n",
       "      <td>Organic Yellow Onion</td>\n",
       "      <td>113426</td>\n",
       "    </tr>\n",
       "    <tr>\n",
       "      <td>14194</td>\n",
       "      <td>cream</td>\n",
       "      <td>Organic Half &amp; Half</td>\n",
       "      <td>76360</td>\n",
       "    </tr>\n",
       "    <tr>\n",
       "      <td>48439</td>\n",
       "      <td>water seltzer sparkling water</td>\n",
       "      <td>Sparkling Water Grapefruit</td>\n",
       "      <td>75886</td>\n",
       "    </tr>\n",
       "    <tr>\n",
       "      <td>19277</td>\n",
       "      <td>fresh dips tapenades</td>\n",
       "      <td>Original Hummus</td>\n",
       "      <td>71314</td>\n",
       "    </tr>\n",
       "    <tr>\n",
       "      <td>19812</td>\n",
       "      <td>fresh herbs</td>\n",
       "      <td>Organic Cilantro</td>\n",
       "      <td>69524</td>\n",
       "    </tr>\n",
       "    <tr>\n",
       "      <td>4136</td>\n",
       "      <td>bread</td>\n",
       "      <td>100% Whole Wheat Bread</td>\n",
       "      <td>60816</td>\n",
       "    </tr>\n",
       "    <tr>\n",
       "      <td>35721</td>\n",
       "      <td>packaged cheese</td>\n",
       "      <td>Organic Whole String Cheese</td>\n",
       "      <td>59676</td>\n",
       "    </tr>\n",
       "  </tbody>\n",
       "</table>\n",
       "</div>"
      ],
      "text/plain": [
       "                               aisle                 product_name  \\\n",
       "19407                   fresh fruits                       Banana   \n",
       "36655     packaged vegetables fruits         Organic Baby Spinach   \n",
       "30905                           milk           Organic Whole Milk   \n",
       "20378               fresh vegetables         Organic Yellow Onion   \n",
       "14194                          cream          Organic Half & Half   \n",
       "48439  water seltzer sparkling water   Sparkling Water Grapefruit   \n",
       "19277           fresh dips tapenades              Original Hummus   \n",
       "19812                    fresh herbs             Organic Cilantro   \n",
       "4136                           bread       100% Whole Wheat Bread   \n",
       "35721                packaged cheese  Organic Whole String Cheese   \n",
       "\n",
       "       orders_count  \n",
       "19407        472565  \n",
       "36655        241921  \n",
       "30905        137905  \n",
       "20378        113426  \n",
       "14194         76360  \n",
       "48439         75886  \n",
       "19277         71314  \n",
       "19812         69524  \n",
       "4136          60816  \n",
       "35721         59676  "
      ]
     },
     "execution_count": 43,
     "metadata": {},
     "output_type": "execute_result"
    }
   ],
   "source": [
    "orders_aisle_product = merged_data[['order_id', 'product_name', 'aisle']].drop_duplicates().groupby(by=['aisle', 'product_name']).agg({'order_id' : ['count']}).reset_index()\n",
    "orders_aisle_product.columns = ['aisle', 'product_name','orders_count']\n",
    "orders_aisle_product.sort_values(by='orders_count', ascending=False).groupby(by= ['aisle'], axis=0).head(1).head(10)"
   ]
  },
  {
   "cell_type": "markdown",
   "metadata": {},
   "source": [
    "#### Orders containing only perishable orders\n",
    "\n",
    "- Below, we are trying to evaluate what proportion of the total orders belong to only the perishable category"
   ]
  },
  {
   "cell_type": "code",
   "execution_count": 44,
   "metadata": {
    "scrolled": true
   },
   "outputs": [
    {
     "name": "stdout",
     "output_type": "stream",
     "text": [
      "Proportion of perishables orders are 8.51%\n"
     ]
    }
   ],
   "source": [
    "orders_perish = merged_data[['order_id', 'Perishables']].groupby(by=['order_id']).sum().reset_index()\n",
    "orders_perish.columns = ['order_id', 'Perishables']\n",
    "print(\"Proportion of perishables orders are \"+\"{:.2%}\".format(orders_perish[orders_perish.Perishables==0].shape[0]/orders_perish.shape[0]));"
   ]
  },
  {
   "cell_type": "markdown",
   "metadata": {},
   "source": [
    "#### Users with only perishable orders\n",
    "\n",
    "- Below, we are trying to evaluate what proportion of the total users are buying only pershable products on Instacart"
   ]
  },
  {
   "cell_type": "code",
   "execution_count": 45,
   "metadata": {},
   "outputs": [
    {
     "name": "stdout",
     "output_type": "stream",
     "text": [
      "Proportion of Users who buy only perishables products are 1.46%\n"
     ]
    }
   ],
   "source": [
    "users_perish = merged_data[['user_id', 'Perishables']].groupby(by=['user_id']).sum().reset_index()\n",
    "users_perish.columns = ['user_id', 'Perishables']\n",
    "print(\"Proportion of users who buy only perishables products are \"+\"{:.2%}\".format(users_perish[users_perish.Perishables==0].shape[0]/users_perish.shape[0]));"
   ]
  },
  {
   "cell_type": "markdown",
   "metadata": {},
   "source": [
    "#### Users with atleast 50% of perishable products on an average order"
   ]
  },
  {
   "cell_type": "code",
   "execution_count": 46,
   "metadata": {},
   "outputs": [
    {
     "name": "stdout",
     "output_type": "stream",
     "text": [
      "Proportion of Users who buy atleast 50% perishables products are 57.95%\n"
     ]
    }
   ],
   "source": [
    "users_perish_proportion = merged_data[['user_id', 'Perishables']].groupby(by=['user_id']).agg({'Perishables' : ['mean']}).reset_index()\n",
    "users_perish_proportion.columns = ['user_id', 'Perishables_proportion']\n",
    "print(\"Proportion of Users who buy atleast 50% perishables products are \"+\"{:.2%}\".format(users_perish_proportion[users_perish_proportion.Perishables_proportion>0.5].shape[0]/users_perish_proportion.shape[0]));"
   ]
  },
  {
   "cell_type": "markdown",
   "metadata": {},
   "source": [
    "#### Average re-ordered products in an order "
   ]
  },
  {
   "cell_type": "code",
   "execution_count": 47,
   "metadata": {},
   "outputs": [
    {
     "name": "stdout",
     "output_type": "stream",
     "text": [
      "On an average, the re-ordered products in an order are 58.97%\n"
     ]
    }
   ],
   "source": [
    "# percentage of re-orders\n",
    "print(\"On an average, the re-ordered products in an order are \"+\"{:.2%}\".format(merged_data.reordered.sum() / merged_data.shape[0]))"
   ]
  },
  {
   "cell_type": "markdown",
   "metadata": {},
   "source": [
    "#### Average Non re-ordered products in an order\n",
    "\n",
    "- Now that we have seen 59% of the products are re-ordered, there will also be situations when none of the products are re-ordered. Let us check that now."
   ]
  },
  {
   "cell_type": "code",
   "execution_count": 48,
   "metadata": {},
   "outputs": [
    {
     "data": {
      "text/plain": [
       "1    0.879151\n",
       "0    0.120849\n",
       "Name: reordered, dtype: float64"
      ]
     },
     "execution_count": 48,
     "metadata": {},
     "output_type": "execute_result"
    }
   ],
   "source": [
    "grouped_df = merged_data.groupby(\"order_id\")[\"reordered\"].aggregate(\"sum\").reset_index()\n",
    "grouped_df[\"reordered\"].ix[grouped_df[\"reordered\"]>1] = 1\n",
    "grouped_df.reordered.value_counts() / grouped_df.shape[0]"
   ]
  },
  {
   "cell_type": "markdown",
   "metadata": {},
   "source": [
    "- About 12% of the orders in the data has no re-ordered items"
   ]
  },
  {
   "cell_type": "markdown",
   "metadata": {},
   "source": [
    "## Data Modeling"
   ]
  },
  {
   "cell_type": "markdown",
   "metadata": {},
   "source": [
    "#### Association Rules"
   ]
  },
  {
   "cell_type": "markdown",
   "metadata": {},
   "source": [
    "We will implement association rules i.e. understand what product combinations occur the most. These insights will feed into the recommenders such as \"Frequently bought together\", \"Customer who purchased item A also bought item B\" etc."
   ]
  },
  {
   "cell_type": "markdown",
   "metadata": {},
   "source": [
    "We will use the order_products table for this as we will have to prepare the data in a format such that we just have order information i.e. order id and the corresponding product ids in the order. We will join back the product names after we form the association rules"
   ]
  },
  {
   "cell_type": "code",
   "execution_count": 50,
   "metadata": {},
   "outputs": [
    {
     "data": {
      "text/html": [
       "<div>\n",
       "<style scoped>\n",
       "    .dataframe tbody tr th:only-of-type {\n",
       "        vertical-align: middle;\n",
       "    }\n",
       "\n",
       "    .dataframe tbody tr th {\n",
       "        vertical-align: top;\n",
       "    }\n",
       "\n",
       "    .dataframe thead th {\n",
       "        text-align: right;\n",
       "    }\n",
       "</style>\n",
       "<table border=\"1\" class=\"dataframe\">\n",
       "  <thead>\n",
       "    <tr style=\"text-align: right;\">\n",
       "      <th></th>\n",
       "      <th>order_id</th>\n",
       "      <th>product_id</th>\n",
       "      <th>add_to_cart_order</th>\n",
       "      <th>reordered</th>\n",
       "    </tr>\n",
       "  </thead>\n",
       "  <tbody>\n",
       "    <tr>\n",
       "      <td>0</td>\n",
       "      <td>2</td>\n",
       "      <td>33120</td>\n",
       "      <td>1</td>\n",
       "      <td>1</td>\n",
       "    </tr>\n",
       "    <tr>\n",
       "      <td>1</td>\n",
       "      <td>2</td>\n",
       "      <td>28985</td>\n",
       "      <td>2</td>\n",
       "      <td>1</td>\n",
       "    </tr>\n",
       "    <tr>\n",
       "      <td>2</td>\n",
       "      <td>2</td>\n",
       "      <td>9327</td>\n",
       "      <td>3</td>\n",
       "      <td>0</td>\n",
       "    </tr>\n",
       "    <tr>\n",
       "      <td>3</td>\n",
       "      <td>2</td>\n",
       "      <td>45918</td>\n",
       "      <td>4</td>\n",
       "      <td>1</td>\n",
       "    </tr>\n",
       "    <tr>\n",
       "      <td>4</td>\n",
       "      <td>2</td>\n",
       "      <td>30035</td>\n",
       "      <td>5</td>\n",
       "      <td>0</td>\n",
       "    </tr>\n",
       "  </tbody>\n",
       "</table>\n",
       "</div>"
      ],
      "text/plain": [
       "   order_id  product_id  add_to_cart_order  reordered\n",
       "0         2       33120                  1          1\n",
       "1         2       28985                  2          1\n",
       "2         2        9327                  3          0\n",
       "3         2       45918                  4          1\n",
       "4         2       30035                  5          0"
      ]
     },
     "execution_count": 50,
     "metadata": {},
     "output_type": "execute_result"
    }
   ],
   "source": [
    "orders_products_train.head()"
   ]
  },
  {
   "cell_type": "markdown",
   "metadata": {},
   "source": [
    "Convert from DataFrame to a Series, with order_id as index and item_id as value"
   ]
  },
  {
   "cell_type": "code",
   "execution_count": 52,
   "metadata": {},
   "outputs": [
    {
     "data": {
      "text/plain": [
       "order_id\n",
       "2    33120\n",
       "2    28985\n",
       "2     9327\n",
       "2    45918\n",
       "2    30035\n",
       "2    17794\n",
       "2    40141\n",
       "2     1819\n",
       "2    43668\n",
       "3    33754\n",
       "Name: item_id, dtype: int64"
      ]
     },
     "metadata": {},
     "output_type": "display_data"
    }
   ],
   "source": [
    "orders_products_model1 = orders_products_train.set_index('order_id')['product_id'].rename('item_id')\n",
    "display(orders_products_model1.head(10))"
   ]
  },
  {
   "cell_type": "code",
   "execution_count": 57,
   "metadata": {},
   "outputs": [
    {
     "name": "stdout",
     "output_type": "stream",
     "text": [
      "Total Products Bought (Rows)     :  32434489\n",
      "\n",
      "Unique values :  \n",
      " 49677\n"
     ]
    }
   ],
   "source": [
    "print (\"Total Products Bought (Rows)     : \" ,len(orders_products_model1))\n",
    "print (\"\\nUnique values :  \\n\",orders_products_model1.nunique())"
   ]
  },
  {
   "cell_type": "code",
   "execution_count": 63,
   "metadata": {},
   "outputs": [
    {
     "data": {
      "text/plain": [
       "pandas.core.series.Series"
      ]
     },
     "execution_count": 63,
     "metadata": {},
     "output_type": "execute_result"
    }
   ],
   "source": [
    "type(orders_products_model1)"
   ]
  },
  {
   "cell_type": "markdown",
   "metadata": {},
   "source": [
    "We have ~3.25M orders and ~50K unique products."
   ]
  },
  {
   "cell_type": "markdown",
   "metadata": {},
   "source": [
    "We will define fuctions in this module that we will be using on our dataset later to get the association rules"
   ]
  },
  {
   "cell_type": "code",
   "execution_count": 75,
   "metadata": {
    "code_folding": []
   },
   "outputs": [],
   "source": [
    "# Returns frequency counts for items and item pairs\n",
    "def freq(iterable):\n",
    "    if type(iterable) == pd.core.series.Series:\n",
    "        return iterable.value_counts().rename(\"freq\")\n",
    "    else: \n",
    "        return pd.Series(col.Counter(iterable)).rename(\"freq\")\n",
    "\n",
    "    \n",
    "# Returns number of unique orders\n",
    "def order_count(order_item):\n",
    "    return len(set(order_item.index))\n",
    "\n",
    "\n",
    "# Returns generator that yields item pairs, one at a time\n",
    "def get_item_pairs(order_item):\n",
    "    order_item = order_item.reset_index().as_matrix()\n",
    "    for order_id, order_object in iterto.groupby(order_item, lambda x: x[0]):\n",
    "        item_list = [item[1] for item in order_object]\n",
    "              \n",
    "        for item_pair in iterto.combinations(item_list, 2):\n",
    "            yield item_pair\n",
    "            \n",
    "\n",
    "# Returns frequency and support associated with item\n",
    "def merge_item_stats(item_pairs, item_stats):\n",
    "    return (item_pairs\n",
    "                .merge(item_stats.rename(columns={'freq': 'freqA', 'support': 'supportA'}), left_on='item_A', right_index=True)\n",
    "                .merge(item_stats.rename(columns={'freq': 'freqB', 'support': 'supportB'}), left_on='item_B', right_index=True))\n",
    "\n",
    "\n",
    "# Returns name associated with item\n",
    "def merge_item_name(rules, item_name):\n",
    "    columns = ['itemA','itemB','freqAB','supportAB','freqA','supportA','freqB','supportB', \n",
    "               'confidenceAtoB','confidenceBtoA','lift']\n",
    "    rules = (rules\n",
    "                .merge(item_name.rename(columns={'item_name': 'itemA'}), left_on='item_A', right_on='item_id')\n",
    "                .merge(item_name.rename(columns={'item_name': 'itemB'}), left_on='item_B', right_on='item_id'))\n",
    "    return rules[columns]"
   ]
  },
  {
   "cell_type": "markdown",
   "metadata": {},
   "source": [
    "Defining association function"
   ]
  },
  {
   "cell_type": "code",
   "execution_count": 76,
   "metadata": {},
   "outputs": [],
   "source": [
    "def association_rules(order_item, min_support):\n",
    "\n",
    "    print(\"Starting order_item: {:22d}\".format(len(order_item)))\n",
    "\n",
    "\n",
    "    # Calculate item frequency and support\n",
    "    item_stats             = freq(order_item).to_frame(\"freq\")\n",
    "    item_stats['support']  = item_stats['freq'] / order_count(order_item) * 100\n",
    "\n",
    "\n",
    "    # Filter from order_item items below min support \n",
    "    qualifying_items       = item_stats[item_stats['support'] >= min_support].index\n",
    "    order_item             = order_item[order_item.isin(qualifying_items)]\n",
    "\n",
    "    print(\"Items with support >= {}: {:15d}\".format(min_support, len(qualifying_items)))\n",
    "    print(\"Remaining order_item: {:21d}\".format(len(order_item)))\n",
    "\n",
    "\n",
    "    # Filter from order_item orders with less than 2 items\n",
    "    order_size             = freq(order_item.index)\n",
    "    qualifying_orders      = order_size[order_size >= 2].index\n",
    "    order_item             = order_item[order_item.index.isin(qualifying_orders)]\n",
    "\n",
    "    print(\"Remaining orders with 2+ items: {:11d}\".format(len(qualifying_orders)))\n",
    "    print(\"Remaining order_item: {:21d}\".format(len(order_item)))\n",
    "\n",
    "\n",
    "    # Recalculate item frequency and support\n",
    "    item_stats             = freq(order_item).to_frame(\"freq\")\n",
    "    item_stats['support']  = item_stats['freq'] / order_count(order_item) * 100\n",
    "\n",
    "\n",
    "    # Get item pairs generator\n",
    "    item_pair_gen          = get_item_pairs(order_item)\n",
    "\n",
    "\n",
    "    # Calculate item pair frequency and support\n",
    "    item_pairs              = freq(item_pair_gen).to_frame(\"freqAB\")\n",
    "    item_pairs['supportAB'] = item_pairs['freqAB'] / len(qualifying_orders) * 100\n",
    "\n",
    "    print(\"Item pairs: {:31d}\".format(len(item_pairs)))\n",
    "\n",
    "\n",
    "    # Filter from item_pairs those below min support\n",
    "    item_pairs              = item_pairs[item_pairs['supportAB'] >= min_support]\n",
    "\n",
    "    print(\"Item pairs with support >= {}: {:10d}\\n\".format(min_support, len(item_pairs)))\n",
    "\n",
    "\n",
    "    # Create table of association rules and compute relevant metrics\n",
    "    item_pairs = item_pairs.reset_index().rename(columns={'level_0': 'item_A', 'level_1': 'item_B'})\n",
    "    item_pairs = merge_item_stats(item_pairs, item_stats)\n",
    "    \n",
    "    item_pairs['confidenceAtoB'] = item_pairs['supportAB'] / item_pairs['supportA']\n",
    "    item_pairs['confidenceBtoA'] = item_pairs['supportAB'] / item_pairs['supportB']\n",
    "    item_pairs['lift']           = item_pairs['supportAB'] / (item_pairs['supportA'] * item_pairs['supportB'])\n",
    "    \n",
    "    \n",
    "    # Return association rules sorted by lift in descending order\n",
    "    return item_pairs.sort_values('lift', ascending=False)\n"
   ]
  },
  {
   "cell_type": "markdown",
   "metadata": {},
   "source": [
    "\n",
    "Forming association rules. We are forming rules having support greater than 1%, we increase or decrease this number depending on the number of rules we form from this dataset."
   ]
  },
  {
   "cell_type": "code",
   "execution_count": 77,
   "metadata": {},
   "outputs": [
    {
     "name": "stdout",
     "output_type": "stream",
     "text": [
      "Starting order_item:               32434489\n",
      "Items with support >= 0.01:           10906\n",
      "Remaining order_item:              29843570\n",
      "Remaining orders with 2+ items:     3013325\n",
      "Remaining order_item:              29662716\n",
      "Item pairs:                        30622410\n",
      "Item pairs with support >= 0.01:      48751\n",
      "\n",
      "Wall time: 4min 54s\n"
     ]
    }
   ],
   "source": [
    "%%time \n",
    "rules = association_rules(orders_products_model1, 0.01) "
   ]
  },
  {
   "cell_type": "markdown",
   "metadata": {},
   "source": [
    "Notice we got ~49K rules here. We can tweak the support value to change the association rules i.e. increase the support to reduce the number of rules and vice versa."
   ]
  },
  {
   "cell_type": "markdown",
   "metadata": {},
   "source": [
    "We will run a loop to understand how many rules we get for values of support varying from 0.01 to 0.46"
   ]
  },
  {
   "cell_type": "code",
   "execution_count": 86,
   "metadata": {},
   "outputs": [
    {
     "name": "stdout",
     "output_type": "stream",
     "text": [
      "Starting order_item:               32434489\n",
      "Items with support >= 0.01:           10906\n",
      "Remaining order_item:              29843570\n",
      "Remaining orders with 2+ items:     3013325\n",
      "Remaining order_item:              29662716\n",
      "Item pairs:                        30622410\n",
      "Item pairs with support >= 0.01:      48751\n",
      "\n",
      "[0.01, 48751]\n",
      "Starting order_item:               32434489\n",
      "Items with support >= 0.060000000000000005:            2896\n",
      "Remaining order_item:              23520257\n",
      "Remaining orders with 2+ items:     2843101\n",
      "Remaining order_item:              23251234\n",
      "Item pairs:                         6292566\n",
      "Item pairs with support >= 0.060000000000000005:       3504\n",
      "\n",
      "[0.060000000000000005, 3504]\n",
      "Starting order_item:               32434489\n",
      "Items with support >= 0.11:            1615\n",
      "Remaining order_item:              20197362\n",
      "Remaining orders with 2+ items:     2707844\n",
      "Remaining order_item:              19861576\n",
      "Item pairs:                         2295621\n",
      "Item pairs with support >= 0.11:       1341\n",
      "\n",
      "[0.11, 1341]\n",
      "Starting order_item:               32434489\n",
      "Items with support >= 0.16000000000000003:            1055\n",
      "Remaining order_item:              17806377\n",
      "Remaining orders with 2+ items:     2577933\n",
      "Remaining order_item:              17410821\n",
      "Item pairs:                         1040908\n",
      "Item pairs with support >= 0.16000000000000003:        725\n",
      "\n",
      "[0.16000000000000003, 725]\n",
      "Starting order_item:               32434489\n",
      "Items with support >= 0.21000000000000002:             789\n",
      "Remaining order_item:              16233539\n",
      "Remaining orders with 2+ items:     2475147\n",
      "Remaining order_item:              15800325\n",
      "Item pairs:                          593714\n",
      "Item pairs with support >= 0.21000000000000002:        447\n",
      "\n",
      "[0.21000000000000002, 447]\n",
      "Starting order_item:               32434489\n",
      "Items with support >= 0.26:             600\n",
      "Remaining order_item:              14809138\n",
      "Remaining orders with 2+ items:     2383938\n",
      "Remaining order_item:              14339663\n",
      "Item pairs:                          345706\n",
      "Item pairs with support >= 0.26:        306\n",
      "\n",
      "[0.26, 306]\n",
      "Starting order_item:               32434489\n",
      "Items with support >= 0.31000000000000005:             493\n",
      "Remaining order_item:              13841855\n",
      "Remaining orders with 2+ items:     2308333\n",
      "Remaining order_item:              13344483\n",
      "Item pairs:                          236104\n",
      "Item pairs with support >= 0.31000000000000005:        233\n",
      "\n",
      "[0.31000000000000005, 233]\n",
      "Starting order_item:               32434489\n",
      "Items with support >= 0.36000000000000004:             401\n",
      "Remaining order_item:              12852900\n",
      "Remaining orders with 2+ items:     2229393\n",
      "Remaining order_item:              12329239\n",
      "Item pairs:                          156795\n",
      "Item pairs with support >= 0.36000000000000004:        180\n",
      "\n",
      "[0.36000000000000004, 180]\n",
      "Starting order_item:               32434489\n",
      "Items with support >= 0.41000000000000003:             332\n",
      "Remaining order_item:              12002798\n",
      "Remaining orders with 2+ items:     2151973\n",
      "Remaining order_item:              11454178\n",
      "Item pairs:                          108174\n",
      "Item pairs with support >= 0.41000000000000003:        147\n",
      "\n",
      "[0.41000000000000003, 147]\n",
      "Starting order_item:               32434489\n",
      "Items with support >= 0.46:             279\n",
      "Remaining order_item:              11263272\n",
      "Remaining orders with 2+ items:     2076416\n",
      "Remaining order_item:              10693629\n",
      "Item pairs:                           77313\n",
      "Item pairs with support >= 0.46:        126\n",
      "\n",
      "[0.46, 126]\n"
     ]
    }
   ],
   "source": [
    "rule_count = list()\n",
    "for i in np.arange(0.01, 0.5, 0.05):\n",
    "    rules = association_rules(orders_products_model1, i)\n",
    "    print([i, len(rules)])\n",
    "    rule_count.append([i, len(rules)])"
   ]
  },
  {
   "cell_type": "markdown",
   "metadata": {},
   "source": [
    "We will choose the value of support to be 0.36 as we have around 180 rules."
   ]
  },
  {
   "cell_type": "code",
   "execution_count": 87,
   "metadata": {},
   "outputs": [
    {
     "name": "stdout",
     "output_type": "stream",
     "text": [
      "Starting order_item:               32434489\n",
      "Items with support >= 0.36:             401\n",
      "Remaining order_item:              12852900\n",
      "Remaining orders with 2+ items:     2229393\n",
      "Remaining order_item:              12329239\n",
      "Item pairs:                          156795\n",
      "Item pairs with support >= 0.36:        180\n",
      "\n",
      "Wall time: 1min 52s\n"
     ]
    }
   ],
   "source": [
    "%%time \n",
    "rules = association_rules(orders_products_model1,0.36 ) "
   ]
  },
  {
   "cell_type": "markdown",
   "metadata": {},
   "source": [
    "We will join the item id with its name and then display the association rules just formed"
   ]
  },
  {
   "cell_type": "code",
   "execution_count": 88,
   "metadata": {},
   "outputs": [
    {
     "data": {
      "text/html": [
       "<div>\n",
       "<style scoped>\n",
       "    .dataframe tbody tr th:only-of-type {\n",
       "        vertical-align: middle;\n",
       "    }\n",
       "\n",
       "    .dataframe tbody tr th {\n",
       "        vertical-align: top;\n",
       "    }\n",
       "\n",
       "    .dataframe thead th {\n",
       "        text-align: right;\n",
       "    }\n",
       "</style>\n",
       "<table border=\"1\" class=\"dataframe\">\n",
       "  <thead>\n",
       "    <tr style=\"text-align: right;\">\n",
       "      <th></th>\n",
       "      <th>itemA</th>\n",
       "      <th>itemB</th>\n",
       "      <th>freqAB</th>\n",
       "      <th>supportAB</th>\n",
       "      <th>freqA</th>\n",
       "      <th>supportA</th>\n",
       "      <th>freqB</th>\n",
       "      <th>supportB</th>\n",
       "      <th>confidenceAtoB</th>\n",
       "      <th>confidenceBtoA</th>\n",
       "      <th>lift</th>\n",
       "    </tr>\n",
       "  </thead>\n",
       "  <tbody>\n",
       "    <tr>\n",
       "      <td>0</td>\n",
       "      <td>Sparkling Water Grapefruit</td>\n",
       "      <td>Lime Sparkling Water</td>\n",
       "      <td>8186</td>\n",
       "      <td>0.367185</td>\n",
       "      <td>72330</td>\n",
       "      <td>3.244381</td>\n",
       "      <td>44792</td>\n",
       "      <td>2.009157</td>\n",
       "      <td>0.113176</td>\n",
       "      <td>0.182756</td>\n",
       "      <td>0.056330</td>\n",
       "    </tr>\n",
       "    <tr>\n",
       "      <td>1</td>\n",
       "      <td>Organic Yellow Onion</td>\n",
       "      <td>Organic Garlic</td>\n",
       "      <td>12641</td>\n",
       "      <td>0.567015</td>\n",
       "      <td>111721</td>\n",
       "      <td>5.011274</td>\n",
       "      <td>108543</td>\n",
       "      <td>4.868724</td>\n",
       "      <td>0.113148</td>\n",
       "      <td>0.116461</td>\n",
       "      <td>0.023240</td>\n",
       "    </tr>\n",
       "    <tr>\n",
       "      <td>21</td>\n",
       "      <td>Organic Cilantro</td>\n",
       "      <td>Limes</td>\n",
       "      <td>8870</td>\n",
       "      <td>0.397866</td>\n",
       "      <td>68441</td>\n",
       "      <td>3.069939</td>\n",
       "      <td>137302</td>\n",
       "      <td>6.158717</td>\n",
       "      <td>0.129601</td>\n",
       "      <td>0.064602</td>\n",
       "      <td>0.021043</td>\n",
       "    </tr>\n",
       "    <tr>\n",
       "      <td>30</td>\n",
       "      <td>Limes</td>\n",
       "      <td>Organic Cilantro</td>\n",
       "      <td>8695</td>\n",
       "      <td>0.390016</td>\n",
       "      <td>137302</td>\n",
       "      <td>6.158717</td>\n",
       "      <td>68441</td>\n",
       "      <td>3.069939</td>\n",
       "      <td>0.063328</td>\n",
       "      <td>0.127044</td>\n",
       "      <td>0.020628</td>\n",
       "    </tr>\n",
       "    <tr>\n",
       "      <td>66</td>\n",
       "      <td>Organic Garlic</td>\n",
       "      <td>Organic Yellow Onion</td>\n",
       "      <td>9432</td>\n",
       "      <td>0.423075</td>\n",
       "      <td>108543</td>\n",
       "      <td>4.868724</td>\n",
       "      <td>111721</td>\n",
       "      <td>5.011274</td>\n",
       "      <td>0.086896</td>\n",
       "      <td>0.084425</td>\n",
       "      <td>0.017340</td>\n",
       "    </tr>\n",
       "    <tr>\n",
       "      <td>...</td>\n",
       "      <td>...</td>\n",
       "      <td>...</td>\n",
       "      <td>...</td>\n",
       "      <td>...</td>\n",
       "      <td>...</td>\n",
       "      <td>...</td>\n",
       "      <td>...</td>\n",
       "      <td>...</td>\n",
       "      <td>...</td>\n",
       "      <td>...</td>\n",
       "      <td>...</td>\n",
       "    </tr>\n",
       "    <tr>\n",
       "      <td>55</td>\n",
       "      <td>Limes</td>\n",
       "      <td>Banana</td>\n",
       "      <td>9804</td>\n",
       "      <td>0.439761</td>\n",
       "      <td>137302</td>\n",
       "      <td>6.158717</td>\n",
       "      <td>444333</td>\n",
       "      <td>19.930672</td>\n",
       "      <td>0.071405</td>\n",
       "      <td>0.022065</td>\n",
       "      <td>0.003583</td>\n",
       "    </tr>\n",
       "    <tr>\n",
       "      <td>58</td>\n",
       "      <td>Organic Strawberries</td>\n",
       "      <td>Banana</td>\n",
       "      <td>17592</td>\n",
       "      <td>0.789094</td>\n",
       "      <td>257143</td>\n",
       "      <td>11.534216</td>\n",
       "      <td>444333</td>\n",
       "      <td>19.930672</td>\n",
       "      <td>0.068413</td>\n",
       "      <td>0.039592</td>\n",
       "      <td>0.003433</td>\n",
       "    </tr>\n",
       "    <tr>\n",
       "      <td>60</td>\n",
       "      <td>Organic Baby Spinach</td>\n",
       "      <td>Banana</td>\n",
       "      <td>15805</td>\n",
       "      <td>0.708937</td>\n",
       "      <td>235233</td>\n",
       "      <td>10.551437</td>\n",
       "      <td>444333</td>\n",
       "      <td>19.930672</td>\n",
       "      <td>0.067189</td>\n",
       "      <td>0.035570</td>\n",
       "      <td>0.003371</td>\n",
       "    </tr>\n",
       "    <tr>\n",
       "      <td>105</td>\n",
       "      <td>Organic Avocado</td>\n",
       "      <td>Bag of Organic Bananas</td>\n",
       "      <td>9024</td>\n",
       "      <td>0.404774</td>\n",
       "      <td>172415</td>\n",
       "      <td>7.733719</td>\n",
       "      <td>359692</td>\n",
       "      <td>16.134078</td>\n",
       "      <td>0.052339</td>\n",
       "      <td>0.025088</td>\n",
       "      <td>0.003244</td>\n",
       "    </tr>\n",
       "    <tr>\n",
       "      <td>57</td>\n",
       "      <td>Organic Hass Avocado</td>\n",
       "      <td>Banana</td>\n",
       "      <td>10457</td>\n",
       "      <td>0.469051</td>\n",
       "      <td>208665</td>\n",
       "      <td>9.359723</td>\n",
       "      <td>444333</td>\n",
       "      <td>19.930672</td>\n",
       "      <td>0.050114</td>\n",
       "      <td>0.023534</td>\n",
       "      <td>0.002514</td>\n",
       "    </tr>\n",
       "  </tbody>\n",
       "</table>\n",
       "<p>180 rows × 11 columns</p>\n",
       "</div>"
      ],
      "text/plain": [
       "                          itemA                   itemB  freqAB  supportAB  \\\n",
       "0    Sparkling Water Grapefruit    Lime Sparkling Water    8186   0.367185   \n",
       "1          Organic Yellow Onion          Organic Garlic   12641   0.567015   \n",
       "21             Organic Cilantro                   Limes    8870   0.397866   \n",
       "30                        Limes        Organic Cilantro    8695   0.390016   \n",
       "66               Organic Garlic    Organic Yellow Onion    9432   0.423075   \n",
       "..                          ...                     ...     ...        ...   \n",
       "55                        Limes                  Banana    9804   0.439761   \n",
       "58         Organic Strawberries                  Banana   17592   0.789094   \n",
       "60         Organic Baby Spinach                  Banana   15805   0.708937   \n",
       "105             Organic Avocado  Bag of Organic Bananas    9024   0.404774   \n",
       "57         Organic Hass Avocado                  Banana   10457   0.469051   \n",
       "\n",
       "      freqA   supportA   freqB   supportB  confidenceAtoB  confidenceBtoA  \\\n",
       "0     72330   3.244381   44792   2.009157        0.113176        0.182756   \n",
       "1    111721   5.011274  108543   4.868724        0.113148        0.116461   \n",
       "21    68441   3.069939  137302   6.158717        0.129601        0.064602   \n",
       "30   137302   6.158717   68441   3.069939        0.063328        0.127044   \n",
       "66   108543   4.868724  111721   5.011274        0.086896        0.084425   \n",
       "..      ...        ...     ...        ...             ...             ...   \n",
       "55   137302   6.158717  444333  19.930672        0.071405        0.022065   \n",
       "58   257143  11.534216  444333  19.930672        0.068413        0.039592   \n",
       "60   235233  10.551437  444333  19.930672        0.067189        0.035570   \n",
       "105  172415   7.733719  359692  16.134078        0.052339        0.025088   \n",
       "57   208665   9.359723  444333  19.930672        0.050114        0.023534   \n",
       "\n",
       "         lift  \n",
       "0    0.056330  \n",
       "1    0.023240  \n",
       "21   0.021043  \n",
       "30   0.020628  \n",
       "66   0.017340  \n",
       "..        ...  \n",
       "55   0.003583  \n",
       "58   0.003433  \n",
       "60   0.003371  \n",
       "105  0.003244  \n",
       "57   0.002514  \n",
       "\n",
       "[180 rows x 11 columns]"
      ]
     },
     "metadata": {},
     "output_type": "display_data"
    }
   ],
   "source": [
    "products_sub = products.rename(columns={'product_id':'item_id', 'product_name':'item_name'})\n",
    "rules_final = merge_item_name(rules, products_sub).sort_values('lift', ascending=False)\n",
    "display(rules_final)"
   ]
  },
  {
   "cell_type": "code",
   "execution_count": 144,
   "metadata": {},
   "outputs": [
    {
     "name": "stdout",
     "output_type": "stream",
     "text": [
      "Starting order_item:               32434489\n",
      "Items with support >= 0.02:            6985\n",
      "Remaining order_item:              28050418\n",
      "Remaining orders with 2+ items:     2975061\n",
      "Remaining order_item:              27848926\n",
      "Item pairs:                        20384055\n",
      "Item pairs with support >= 0.02:      18153\n",
      "\n"
     ]
    },
    {
     "data": {
      "text/html": [
       "<div>\n",
       "<style scoped>\n",
       "    .dataframe tbody tr th:only-of-type {\n",
       "        vertical-align: middle;\n",
       "    }\n",
       "\n",
       "    .dataframe tbody tr th {\n",
       "        vertical-align: top;\n",
       "    }\n",
       "\n",
       "    .dataframe thead th {\n",
       "        text-align: right;\n",
       "    }\n",
       "</style>\n",
       "<table border=\"1\" class=\"dataframe\">\n",
       "  <thead>\n",
       "    <tr style=\"text-align: right;\">\n",
       "      <th></th>\n",
       "      <th>itemA</th>\n",
       "      <th>itemB</th>\n",
       "      <th>freqAB</th>\n",
       "      <th>supportAB</th>\n",
       "      <th>freqA</th>\n",
       "      <th>supportA</th>\n",
       "      <th>freqB</th>\n",
       "      <th>supportB</th>\n",
       "      <th>confidenceAtoB</th>\n",
       "      <th>confidenceBtoA</th>\n",
       "      <th>lift</th>\n",
       "    </tr>\n",
       "  </thead>\n",
       "  <tbody>\n",
       "    <tr>\n",
       "      <td>0</td>\n",
       "      <td>Oh My Yog! Pacific Coast Strawberry Trilayer Y...</td>\n",
       "      <td>Oh My Yog! Organic Wild Quebec Blueberry Cream...</td>\n",
       "      <td>860</td>\n",
       "      <td>0.028907</td>\n",
       "      <td>2856</td>\n",
       "      <td>0.095998</td>\n",
       "      <td>2271</td>\n",
       "      <td>0.076335</td>\n",
       "      <td>0.301120</td>\n",
       "      <td>0.378688</td>\n",
       "      <td>3.944745</td>\n",
       "    </tr>\n",
       "    <tr>\n",
       "      <td>2</td>\n",
       "      <td>Unsweetened Blackberry Water</td>\n",
       "      <td>Raspberry Essence Water</td>\n",
       "      <td>660</td>\n",
       "      <td>0.022184</td>\n",
       "      <td>3108</td>\n",
       "      <td>0.104468</td>\n",
       "      <td>2025</td>\n",
       "      <td>0.068066</td>\n",
       "      <td>0.212355</td>\n",
       "      <td>0.325926</td>\n",
       "      <td>3.119850</td>\n",
       "    </tr>\n",
       "    <tr>\n",
       "      <td>3</td>\n",
       "      <td>Organic Fiber &amp; Protein Pear Blueberry &amp; Spina...</td>\n",
       "      <td>Fiber &amp; Protein Organic Pears, Raspberries, Bu...</td>\n",
       "      <td>606</td>\n",
       "      <td>0.020369</td>\n",
       "      <td>2782</td>\n",
       "      <td>0.093511</td>\n",
       "      <td>2167</td>\n",
       "      <td>0.072839</td>\n",
       "      <td>0.217829</td>\n",
       "      <td>0.279649</td>\n",
       "      <td>2.990560</td>\n",
       "    </tr>\n",
       "    <tr>\n",
       "      <td>4</td>\n",
       "      <td>Oh My Yog! Organic Wild Quebec Blueberry Cream...</td>\n",
       "      <td>Oh My Yog! Pacific Coast Strawberry Trilayer Y...</td>\n",
       "      <td>642</td>\n",
       "      <td>0.021579</td>\n",
       "      <td>2271</td>\n",
       "      <td>0.076335</td>\n",
       "      <td>2856</td>\n",
       "      <td>0.095998</td>\n",
       "      <td>0.282695</td>\n",
       "      <td>0.224790</td>\n",
       "      <td>2.944798</td>\n",
       "    </tr>\n",
       "    <tr>\n",
       "      <td>1</td>\n",
       "      <td>Oh My Yog! Pacific Coast Strawberry Trilayer Y...</td>\n",
       "      <td>Oh My Yog! Madagascar Vanilla Trilayer Yogyurt</td>\n",
       "      <td>640</td>\n",
       "      <td>0.021512</td>\n",
       "      <td>2856</td>\n",
       "      <td>0.095998</td>\n",
       "      <td>2567</td>\n",
       "      <td>0.086284</td>\n",
       "      <td>0.224090</td>\n",
       "      <td>0.249318</td>\n",
       "      <td>2.597119</td>\n",
       "    </tr>\n",
       "    <tr>\n",
       "      <td>...</td>\n",
       "      <td>...</td>\n",
       "      <td>...</td>\n",
       "      <td>...</td>\n",
       "      <td>...</td>\n",
       "      <td>...</td>\n",
       "      <td>...</td>\n",
       "      <td>...</td>\n",
       "      <td>...</td>\n",
       "      <td>...</td>\n",
       "      <td>...</td>\n",
       "      <td>...</td>\n",
       "    </tr>\n",
       "    <tr>\n",
       "      <td>1181</td>\n",
       "      <td>Red Onion</td>\n",
       "      <td>Bag of Organic Bananas</td>\n",
       "      <td>1008</td>\n",
       "      <td>0.033882</td>\n",
       "      <td>42881</td>\n",
       "      <td>1.441349</td>\n",
       "      <td>376021</td>\n",
       "      <td>12.639102</td>\n",
       "      <td>0.023507</td>\n",
       "      <td>0.002681</td>\n",
       "      <td>0.001860</td>\n",
       "    </tr>\n",
       "    <tr>\n",
       "      <td>7291</td>\n",
       "      <td>Banana</td>\n",
       "      <td>Soda</td>\n",
       "      <td>864</td>\n",
       "      <td>0.029041</td>\n",
       "      <td>469627</td>\n",
       "      <td>15.785458</td>\n",
       "      <td>32674</td>\n",
       "      <td>1.098263</td>\n",
       "      <td>0.001840</td>\n",
       "      <td>0.026443</td>\n",
       "      <td>0.001675</td>\n",
       "    </tr>\n",
       "    <tr>\n",
       "      <td>146</td>\n",
       "      <td>Strawberries</td>\n",
       "      <td>Organic Strawberries</td>\n",
       "      <td>706</td>\n",
       "      <td>0.023731</td>\n",
       "      <td>141660</td>\n",
       "      <td>4.761583</td>\n",
       "      <td>263285</td>\n",
       "      <td>8.849735</td>\n",
       "      <td>0.004984</td>\n",
       "      <td>0.002682</td>\n",
       "      <td>0.000563</td>\n",
       "    </tr>\n",
       "    <tr>\n",
       "      <td>3600</td>\n",
       "      <td>Organic Strawberries</td>\n",
       "      <td>Strawberries</td>\n",
       "      <td>640</td>\n",
       "      <td>0.021512</td>\n",
       "      <td>263285</td>\n",
       "      <td>8.849735</td>\n",
       "      <td>141660</td>\n",
       "      <td>4.761583</td>\n",
       "      <td>0.002431</td>\n",
       "      <td>0.004518</td>\n",
       "      <td>0.000511</td>\n",
       "    </tr>\n",
       "    <tr>\n",
       "      <td>1195</td>\n",
       "      <td>Banana</td>\n",
       "      <td>Bag of Organic Bananas</td>\n",
       "      <td>654</td>\n",
       "      <td>0.021983</td>\n",
       "      <td>469627</td>\n",
       "      <td>15.785458</td>\n",
       "      <td>376021</td>\n",
       "      <td>12.639102</td>\n",
       "      <td>0.001393</td>\n",
       "      <td>0.001739</td>\n",
       "      <td>0.000110</td>\n",
       "    </tr>\n",
       "  </tbody>\n",
       "</table>\n",
       "<p>18153 rows × 11 columns</p>\n",
       "</div>"
      ],
      "text/plain": [
       "                                                  itemA  \\\n",
       "0     Oh My Yog! Pacific Coast Strawberry Trilayer Y...   \n",
       "2                          Unsweetened Blackberry Water   \n",
       "3     Organic Fiber & Protein Pear Blueberry & Spina...   \n",
       "4     Oh My Yog! Organic Wild Quebec Blueberry Cream...   \n",
       "1     Oh My Yog! Pacific Coast Strawberry Trilayer Y...   \n",
       "...                                                 ...   \n",
       "1181                                          Red Onion   \n",
       "7291                                             Banana   \n",
       "146                                        Strawberries   \n",
       "3600                               Organic Strawberries   \n",
       "1195                                             Banana   \n",
       "\n",
       "                                                  itemB  freqAB  supportAB  \\\n",
       "0     Oh My Yog! Organic Wild Quebec Blueberry Cream...     860   0.028907   \n",
       "2                               Raspberry Essence Water     660   0.022184   \n",
       "3     Fiber & Protein Organic Pears, Raspberries, Bu...     606   0.020369   \n",
       "4     Oh My Yog! Pacific Coast Strawberry Trilayer Y...     642   0.021579   \n",
       "1        Oh My Yog! Madagascar Vanilla Trilayer Yogyurt     640   0.021512   \n",
       "...                                                 ...     ...        ...   \n",
       "1181                             Bag of Organic Bananas    1008   0.033882   \n",
       "7291                                               Soda     864   0.029041   \n",
       "146                                Organic Strawberries     706   0.023731   \n",
       "3600                                       Strawberries     640   0.021512   \n",
       "1195                             Bag of Organic Bananas     654   0.021983   \n",
       "\n",
       "       freqA   supportA   freqB   supportB  confidenceAtoB  confidenceBtoA  \\\n",
       "0       2856   0.095998    2271   0.076335        0.301120        0.378688   \n",
       "2       3108   0.104468    2025   0.068066        0.212355        0.325926   \n",
       "3       2782   0.093511    2167   0.072839        0.217829        0.279649   \n",
       "4       2271   0.076335    2856   0.095998        0.282695        0.224790   \n",
       "1       2856   0.095998    2567   0.086284        0.224090        0.249318   \n",
       "...      ...        ...     ...        ...             ...             ...   \n",
       "1181   42881   1.441349  376021  12.639102        0.023507        0.002681   \n",
       "7291  469627  15.785458   32674   1.098263        0.001840        0.026443   \n",
       "146   141660   4.761583  263285   8.849735        0.004984        0.002682   \n",
       "3600  263285   8.849735  141660   4.761583        0.002431        0.004518   \n",
       "1195  469627  15.785458  376021  12.639102        0.001393        0.001739   \n",
       "\n",
       "          lift  \n",
       "0     3.944745  \n",
       "2     3.119850  \n",
       "3     2.990560  \n",
       "4     2.944798  \n",
       "1     2.597119  \n",
       "...        ...  \n",
       "1181  0.001860  \n",
       "7291  0.001675  \n",
       "146   0.000563  \n",
       "3600  0.000511  \n",
       "1195  0.000110  \n",
       "\n",
       "[18153 rows x 11 columns]"
      ]
     },
     "metadata": {},
     "output_type": "display_data"
    },
    {
     "name": "stdout",
     "output_type": "stream",
     "text": [
      "Wall time: 4min 8s\n"
     ]
    }
   ],
   "source": [
    "%%time \n",
    "rules1 = association_rules(orders_products_model1,0.02) \n",
    "rules_final_check = merge_item_name(rules1, products_sub).sort_values('lift', ascending=False)\n",
    "display(rules_final_check)"
   ]
  },
  {
   "cell_type": "markdown",
   "metadata": {},
   "source": [
    "THIS WILL BE MODIFIED AFTER WE FIGURE OUT THE IDEAL NNUMBER OF RULES AND THE VALIDATION PART"
   ]
  },
  {
   "cell_type": "markdown",
   "metadata": {},
   "source": [
    "#### Customer Segmentation - Clustering Analysis"
   ]
  },
  {
   "cell_type": "markdown",
   "metadata": {},
   "source": [
    "We will segment customers based on the aisles from which they have shopped. For this purpose let us create a cross tab with user ids and aisles."
   ]
  },
  {
   "cell_type": "code",
   "execution_count": 89,
   "metadata": {},
   "outputs": [
    {
     "data": {
      "text/html": [
       "<div>\n",
       "<style scoped>\n",
       "    .dataframe tbody tr th:only-of-type {\n",
       "        vertical-align: middle;\n",
       "    }\n",
       "\n",
       "    .dataframe tbody tr th {\n",
       "        vertical-align: top;\n",
       "    }\n",
       "\n",
       "    .dataframe thead th {\n",
       "        text-align: right;\n",
       "    }\n",
       "</style>\n",
       "<table border=\"1\" class=\"dataframe\">\n",
       "  <thead>\n",
       "    <tr style=\"text-align: right;\">\n",
       "      <th>aisle</th>\n",
       "      <th>air fresheners candles</th>\n",
       "      <th>asian foods</th>\n",
       "      <th>baby accessories</th>\n",
       "      <th>baby bath body care</th>\n",
       "      <th>baby food formula</th>\n",
       "      <th>bakery desserts</th>\n",
       "      <th>baking ingredients</th>\n",
       "      <th>baking supplies decor</th>\n",
       "      <th>beauty</th>\n",
       "      <th>beers coolers</th>\n",
       "      <th>...</th>\n",
       "      <th>spreads</th>\n",
       "      <th>tea</th>\n",
       "      <th>tofu meat alternatives</th>\n",
       "      <th>tortillas flat bread</th>\n",
       "      <th>trail mix snack mix</th>\n",
       "      <th>trash bags liners</th>\n",
       "      <th>vitamins supplements</th>\n",
       "      <th>water seltzer sparkling water</th>\n",
       "      <th>white wines</th>\n",
       "      <th>yogurt</th>\n",
       "    </tr>\n",
       "    <tr>\n",
       "      <th>user_id</th>\n",
       "      <th></th>\n",
       "      <th></th>\n",
       "      <th></th>\n",
       "      <th></th>\n",
       "      <th></th>\n",
       "      <th></th>\n",
       "      <th></th>\n",
       "      <th></th>\n",
       "      <th></th>\n",
       "      <th></th>\n",
       "      <th></th>\n",
       "      <th></th>\n",
       "      <th></th>\n",
       "      <th></th>\n",
       "      <th></th>\n",
       "      <th></th>\n",
       "      <th></th>\n",
       "      <th></th>\n",
       "      <th></th>\n",
       "      <th></th>\n",
       "      <th></th>\n",
       "    </tr>\n",
       "  </thead>\n",
       "  <tbody>\n",
       "    <tr>\n",
       "      <td>1</td>\n",
       "      <td>0</td>\n",
       "      <td>0</td>\n",
       "      <td>0</td>\n",
       "      <td>0</td>\n",
       "      <td>0</td>\n",
       "      <td>0</td>\n",
       "      <td>0</td>\n",
       "      <td>0</td>\n",
       "      <td>0</td>\n",
       "      <td>0</td>\n",
       "      <td>...</td>\n",
       "      <td>1</td>\n",
       "      <td>0</td>\n",
       "      <td>0</td>\n",
       "      <td>0</td>\n",
       "      <td>0</td>\n",
       "      <td>0</td>\n",
       "      <td>0</td>\n",
       "      <td>0</td>\n",
       "      <td>0</td>\n",
       "      <td>1</td>\n",
       "    </tr>\n",
       "    <tr>\n",
       "      <td>2</td>\n",
       "      <td>0</td>\n",
       "      <td>3</td>\n",
       "      <td>0</td>\n",
       "      <td>0</td>\n",
       "      <td>0</td>\n",
       "      <td>0</td>\n",
       "      <td>2</td>\n",
       "      <td>0</td>\n",
       "      <td>0</td>\n",
       "      <td>0</td>\n",
       "      <td>...</td>\n",
       "      <td>3</td>\n",
       "      <td>1</td>\n",
       "      <td>1</td>\n",
       "      <td>0</td>\n",
       "      <td>0</td>\n",
       "      <td>0</td>\n",
       "      <td>0</td>\n",
       "      <td>2</td>\n",
       "      <td>0</td>\n",
       "      <td>42</td>\n",
       "    </tr>\n",
       "    <tr>\n",
       "      <td>3</td>\n",
       "      <td>0</td>\n",
       "      <td>0</td>\n",
       "      <td>0</td>\n",
       "      <td>0</td>\n",
       "      <td>0</td>\n",
       "      <td>0</td>\n",
       "      <td>0</td>\n",
       "      <td>0</td>\n",
       "      <td>0</td>\n",
       "      <td>0</td>\n",
       "      <td>...</td>\n",
       "      <td>4</td>\n",
       "      <td>1</td>\n",
       "      <td>0</td>\n",
       "      <td>0</td>\n",
       "      <td>0</td>\n",
       "      <td>0</td>\n",
       "      <td>0</td>\n",
       "      <td>2</td>\n",
       "      <td>0</td>\n",
       "      <td>0</td>\n",
       "    </tr>\n",
       "    <tr>\n",
       "      <td>4</td>\n",
       "      <td>0</td>\n",
       "      <td>0</td>\n",
       "      <td>0</td>\n",
       "      <td>0</td>\n",
       "      <td>0</td>\n",
       "      <td>0</td>\n",
       "      <td>0</td>\n",
       "      <td>0</td>\n",
       "      <td>0</td>\n",
       "      <td>0</td>\n",
       "      <td>...</td>\n",
       "      <td>0</td>\n",
       "      <td>0</td>\n",
       "      <td>0</td>\n",
       "      <td>1</td>\n",
       "      <td>0</td>\n",
       "      <td>0</td>\n",
       "      <td>0</td>\n",
       "      <td>1</td>\n",
       "      <td>0</td>\n",
       "      <td>0</td>\n",
       "    </tr>\n",
       "    <tr>\n",
       "      <td>5</td>\n",
       "      <td>0</td>\n",
       "      <td>2</td>\n",
       "      <td>0</td>\n",
       "      <td>0</td>\n",
       "      <td>0</td>\n",
       "      <td>0</td>\n",
       "      <td>0</td>\n",
       "      <td>0</td>\n",
       "      <td>0</td>\n",
       "      <td>0</td>\n",
       "      <td>...</td>\n",
       "      <td>0</td>\n",
       "      <td>0</td>\n",
       "      <td>0</td>\n",
       "      <td>0</td>\n",
       "      <td>0</td>\n",
       "      <td>0</td>\n",
       "      <td>0</td>\n",
       "      <td>0</td>\n",
       "      <td>0</td>\n",
       "      <td>3</td>\n",
       "    </tr>\n",
       "    <tr>\n",
       "      <td>6</td>\n",
       "      <td>0</td>\n",
       "      <td>0</td>\n",
       "      <td>0</td>\n",
       "      <td>0</td>\n",
       "      <td>0</td>\n",
       "      <td>0</td>\n",
       "      <td>0</td>\n",
       "      <td>0</td>\n",
       "      <td>0</td>\n",
       "      <td>0</td>\n",
       "      <td>...</td>\n",
       "      <td>0</td>\n",
       "      <td>0</td>\n",
       "      <td>0</td>\n",
       "      <td>0</td>\n",
       "      <td>0</td>\n",
       "      <td>0</td>\n",
       "      <td>0</td>\n",
       "      <td>0</td>\n",
       "      <td>0</td>\n",
       "      <td>0</td>\n",
       "    </tr>\n",
       "    <tr>\n",
       "      <td>7</td>\n",
       "      <td>0</td>\n",
       "      <td>0</td>\n",
       "      <td>0</td>\n",
       "      <td>0</td>\n",
       "      <td>0</td>\n",
       "      <td>0</td>\n",
       "      <td>2</td>\n",
       "      <td>0</td>\n",
       "      <td>0</td>\n",
       "      <td>0</td>\n",
       "      <td>...</td>\n",
       "      <td>0</td>\n",
       "      <td>0</td>\n",
       "      <td>0</td>\n",
       "      <td>0</td>\n",
       "      <td>0</td>\n",
       "      <td>0</td>\n",
       "      <td>0</td>\n",
       "      <td>0</td>\n",
       "      <td>0</td>\n",
       "      <td>5</td>\n",
       "    </tr>\n",
       "    <tr>\n",
       "      <td>8</td>\n",
       "      <td>0</td>\n",
       "      <td>1</td>\n",
       "      <td>0</td>\n",
       "      <td>0</td>\n",
       "      <td>0</td>\n",
       "      <td>0</td>\n",
       "      <td>1</td>\n",
       "      <td>0</td>\n",
       "      <td>0</td>\n",
       "      <td>0</td>\n",
       "      <td>...</td>\n",
       "      <td>0</td>\n",
       "      <td>0</td>\n",
       "      <td>0</td>\n",
       "      <td>0</td>\n",
       "      <td>0</td>\n",
       "      <td>0</td>\n",
       "      <td>0</td>\n",
       "      <td>0</td>\n",
       "      <td>0</td>\n",
       "      <td>0</td>\n",
       "    </tr>\n",
       "    <tr>\n",
       "      <td>9</td>\n",
       "      <td>0</td>\n",
       "      <td>0</td>\n",
       "      <td>0</td>\n",
       "      <td>0</td>\n",
       "      <td>6</td>\n",
       "      <td>0</td>\n",
       "      <td>2</td>\n",
       "      <td>0</td>\n",
       "      <td>0</td>\n",
       "      <td>0</td>\n",
       "      <td>...</td>\n",
       "      <td>0</td>\n",
       "      <td>0</td>\n",
       "      <td>0</td>\n",
       "      <td>0</td>\n",
       "      <td>0</td>\n",
       "      <td>0</td>\n",
       "      <td>0</td>\n",
       "      <td>2</td>\n",
       "      <td>0</td>\n",
       "      <td>19</td>\n",
       "    </tr>\n",
       "    <tr>\n",
       "      <td>10</td>\n",
       "      <td>0</td>\n",
       "      <td>1</td>\n",
       "      <td>0</td>\n",
       "      <td>0</td>\n",
       "      <td>0</td>\n",
       "      <td>0</td>\n",
       "      <td>0</td>\n",
       "      <td>0</td>\n",
       "      <td>0</td>\n",
       "      <td>0</td>\n",
       "      <td>...</td>\n",
       "      <td>0</td>\n",
       "      <td>0</td>\n",
       "      <td>0</td>\n",
       "      <td>0</td>\n",
       "      <td>0</td>\n",
       "      <td>0</td>\n",
       "      <td>0</td>\n",
       "      <td>0</td>\n",
       "      <td>0</td>\n",
       "      <td>2</td>\n",
       "    </tr>\n",
       "  </tbody>\n",
       "</table>\n",
       "<p>10 rows × 134 columns</p>\n",
       "</div>"
      ],
      "text/plain": [
       "aisle    air fresheners candles  asian foods  baby accessories  \\\n",
       "user_id                                                          \n",
       "1                             0            0                 0   \n",
       "2                             0            3                 0   \n",
       "3                             0            0                 0   \n",
       "4                             0            0                 0   \n",
       "5                             0            2                 0   \n",
       "6                             0            0                 0   \n",
       "7                             0            0                 0   \n",
       "8                             0            1                 0   \n",
       "9                             0            0                 0   \n",
       "10                            0            1                 0   \n",
       "\n",
       "aisle    baby bath body care  baby food formula  bakery desserts  \\\n",
       "user_id                                                            \n",
       "1                          0                  0                0   \n",
       "2                          0                  0                0   \n",
       "3                          0                  0                0   \n",
       "4                          0                  0                0   \n",
       "5                          0                  0                0   \n",
       "6                          0                  0                0   \n",
       "7                          0                  0                0   \n",
       "8                          0                  0                0   \n",
       "9                          0                  6                0   \n",
       "10                         0                  0                0   \n",
       "\n",
       "aisle    baking ingredients  baking supplies decor  beauty  beers coolers  \\\n",
       "user_id                                                                     \n",
       "1                         0                      0       0              0   \n",
       "2                         2                      0       0              0   \n",
       "3                         0                      0       0              0   \n",
       "4                         0                      0       0              0   \n",
       "5                         0                      0       0              0   \n",
       "6                         0                      0       0              0   \n",
       "7                         2                      0       0              0   \n",
       "8                         1                      0       0              0   \n",
       "9                         2                      0       0              0   \n",
       "10                        0                      0       0              0   \n",
       "\n",
       "aisle    ...  spreads  tea  tofu meat alternatives  tortillas flat bread  \\\n",
       "user_id  ...                                                               \n",
       "1        ...        1    0                       0                     0   \n",
       "2        ...        3    1                       1                     0   \n",
       "3        ...        4    1                       0                     0   \n",
       "4        ...        0    0                       0                     1   \n",
       "5        ...        0    0                       0                     0   \n",
       "6        ...        0    0                       0                     0   \n",
       "7        ...        0    0                       0                     0   \n",
       "8        ...        0    0                       0                     0   \n",
       "9        ...        0    0                       0                     0   \n",
       "10       ...        0    0                       0                     0   \n",
       "\n",
       "aisle    trail mix snack mix  trash bags liners  vitamins supplements  \\\n",
       "user_id                                                                 \n",
       "1                          0                  0                     0   \n",
       "2                          0                  0                     0   \n",
       "3                          0                  0                     0   \n",
       "4                          0                  0                     0   \n",
       "5                          0                  0                     0   \n",
       "6                          0                  0                     0   \n",
       "7                          0                  0                     0   \n",
       "8                          0                  0                     0   \n",
       "9                          0                  0                     0   \n",
       "10                         0                  0                     0   \n",
       "\n",
       "aisle    water seltzer sparkling water  white wines  yogurt  \n",
       "user_id                                                      \n",
       "1                                    0            0       1  \n",
       "2                                    2            0      42  \n",
       "3                                    2            0       0  \n",
       "4                                    1            0       0  \n",
       "5                                    0            0       3  \n",
       "6                                    0            0       0  \n",
       "7                                    0            0       5  \n",
       "8                                    0            0       0  \n",
       "9                                    2            0      19  \n",
       "10                                   0            0       2  \n",
       "\n",
       "[10 rows x 134 columns]"
      ]
     },
     "execution_count": 89,
     "metadata": {},
     "output_type": "execute_result"
    }
   ],
   "source": [
    "cust_aisle = pd.crosstab(merged_data['user_id'], merged_data['aisle'])\n",
    "cust_aisle.head(10)"
   ]
  },
  {
   "cell_type": "markdown",
   "metadata": {},
   "source": [
    "Let us look at the mean, median, and mode for this dataset"
   ]
  },
  {
   "cell_type": "code",
   "execution_count": 94,
   "metadata": {
    "scrolled": true
   },
   "outputs": [
    {
     "data": {
      "text/html": [
       "<div>\n",
       "<style scoped>\n",
       "    .dataframe tbody tr th:only-of-type {\n",
       "        vertical-align: middle;\n",
       "    }\n",
       "\n",
       "    .dataframe tbody tr th {\n",
       "        vertical-align: top;\n",
       "    }\n",
       "\n",
       "    .dataframe thead th {\n",
       "        text-align: right;\n",
       "    }\n",
       "</style>\n",
       "<table border=\"1\" class=\"dataframe\">\n",
       "  <thead>\n",
       "    <tr style=\"text-align: right;\">\n",
       "      <th>aisle</th>\n",
       "      <th>air fresheners candles</th>\n",
       "      <th>asian foods</th>\n",
       "      <th>baby accessories</th>\n",
       "      <th>baby bath body care</th>\n",
       "      <th>baby food formula</th>\n",
       "      <th>bakery desserts</th>\n",
       "      <th>baking ingredients</th>\n",
       "      <th>baking supplies decor</th>\n",
       "      <th>beauty</th>\n",
       "      <th>beers coolers</th>\n",
       "      <th>...</th>\n",
       "      <th>spreads</th>\n",
       "      <th>tea</th>\n",
       "      <th>tofu meat alternatives</th>\n",
       "      <th>tortillas flat bread</th>\n",
       "      <th>trail mix snack mix</th>\n",
       "      <th>trash bags liners</th>\n",
       "      <th>vitamins supplements</th>\n",
       "      <th>water seltzer sparkling water</th>\n",
       "      <th>white wines</th>\n",
       "      <th>yogurt</th>\n",
       "    </tr>\n",
       "  </thead>\n",
       "  <tbody>\n",
       "    <tr>\n",
       "      <td>count</td>\n",
       "      <td>206209.000000</td>\n",
       "      <td>206209.000000</td>\n",
       "      <td>206209.000000</td>\n",
       "      <td>206209.000000</td>\n",
       "      <td>206209.000000</td>\n",
       "      <td>206209.000000</td>\n",
       "      <td>206209.000000</td>\n",
       "      <td>206209.000000</td>\n",
       "      <td>206209.000000</td>\n",
       "      <td>206209.000000</td>\n",
       "      <td>...</td>\n",
       "      <td>206209.000000</td>\n",
       "      <td>206209.000000</td>\n",
       "      <td>206209.000000</td>\n",
       "      <td>206209.000000</td>\n",
       "      <td>206209.000000</td>\n",
       "      <td>206209.000000</td>\n",
       "      <td>206209.000000</td>\n",
       "      <td>206209.000000</td>\n",
       "      <td>206209.000000</td>\n",
       "      <td>206209.000000</td>\n",
       "    </tr>\n",
       "    <tr>\n",
       "      <td>mean</td>\n",
       "      <td>0.096266</td>\n",
       "      <td>0.807952</td>\n",
       "      <td>0.039572</td>\n",
       "      <td>0.041613</td>\n",
       "      <td>1.854701</td>\n",
       "      <td>0.169105</td>\n",
       "      <td>1.584276</td>\n",
       "      <td>0.114893</td>\n",
       "      <td>0.029911</td>\n",
       "      <td>0.235960</td>\n",
       "      <td>...</td>\n",
       "      <td>1.403431</td>\n",
       "      <td>1.209166</td>\n",
       "      <td>0.627878</td>\n",
       "      <td>0.937384</td>\n",
       "      <td>0.172592</td>\n",
       "      <td>0.155575</td>\n",
       "      <td>0.218511</td>\n",
       "      <td>4.080971</td>\n",
       "      <td>0.148189</td>\n",
       "      <td>7.043063</td>\n",
       "    </tr>\n",
       "    <tr>\n",
       "      <td>std</td>\n",
       "      <td>0.728536</td>\n",
       "      <td>2.438233</td>\n",
       "      <td>0.532817</td>\n",
       "      <td>0.371400</td>\n",
       "      <td>11.144575</td>\n",
       "      <td>1.109605</td>\n",
       "      <td>3.819624</td>\n",
       "      <td>0.574782</td>\n",
       "      <td>0.272030</td>\n",
       "      <td>3.036664</td>\n",
       "      <td>...</td>\n",
       "      <td>3.441071</td>\n",
       "      <td>5.316325</td>\n",
       "      <td>3.316950</td>\n",
       "      <td>2.831621</td>\n",
       "      <td>1.300779</td>\n",
       "      <td>0.762345</td>\n",
       "      <td>1.103784</td>\n",
       "      <td>11.275365</td>\n",
       "      <td>1.743848</td>\n",
       "      <td>18.399355</td>\n",
       "    </tr>\n",
       "    <tr>\n",
       "      <td>min</td>\n",
       "      <td>0.000000</td>\n",
       "      <td>0.000000</td>\n",
       "      <td>0.000000</td>\n",
       "      <td>0.000000</td>\n",
       "      <td>0.000000</td>\n",
       "      <td>0.000000</td>\n",
       "      <td>0.000000</td>\n",
       "      <td>0.000000</td>\n",
       "      <td>0.000000</td>\n",
       "      <td>0.000000</td>\n",
       "      <td>...</td>\n",
       "      <td>0.000000</td>\n",
       "      <td>0.000000</td>\n",
       "      <td>0.000000</td>\n",
       "      <td>0.000000</td>\n",
       "      <td>0.000000</td>\n",
       "      <td>0.000000</td>\n",
       "      <td>0.000000</td>\n",
       "      <td>0.000000</td>\n",
       "      <td>0.000000</td>\n",
       "      <td>0.000000</td>\n",
       "    </tr>\n",
       "    <tr>\n",
       "      <td>25%</td>\n",
       "      <td>0.000000</td>\n",
       "      <td>0.000000</td>\n",
       "      <td>0.000000</td>\n",
       "      <td>0.000000</td>\n",
       "      <td>0.000000</td>\n",
       "      <td>0.000000</td>\n",
       "      <td>0.000000</td>\n",
       "      <td>0.000000</td>\n",
       "      <td>0.000000</td>\n",
       "      <td>0.000000</td>\n",
       "      <td>...</td>\n",
       "      <td>0.000000</td>\n",
       "      <td>0.000000</td>\n",
       "      <td>0.000000</td>\n",
       "      <td>0.000000</td>\n",
       "      <td>0.000000</td>\n",
       "      <td>0.000000</td>\n",
       "      <td>0.000000</td>\n",
       "      <td>0.000000</td>\n",
       "      <td>0.000000</td>\n",
       "      <td>0.000000</td>\n",
       "    </tr>\n",
       "    <tr>\n",
       "      <td>50%</td>\n",
       "      <td>0.000000</td>\n",
       "      <td>0.000000</td>\n",
       "      <td>0.000000</td>\n",
       "      <td>0.000000</td>\n",
       "      <td>0.000000</td>\n",
       "      <td>0.000000</td>\n",
       "      <td>0.000000</td>\n",
       "      <td>0.000000</td>\n",
       "      <td>0.000000</td>\n",
       "      <td>0.000000</td>\n",
       "      <td>...</td>\n",
       "      <td>0.000000</td>\n",
       "      <td>0.000000</td>\n",
       "      <td>0.000000</td>\n",
       "      <td>0.000000</td>\n",
       "      <td>0.000000</td>\n",
       "      <td>0.000000</td>\n",
       "      <td>0.000000</td>\n",
       "      <td>0.000000</td>\n",
       "      <td>0.000000</td>\n",
       "      <td>2.000000</td>\n",
       "    </tr>\n",
       "    <tr>\n",
       "      <td>75%</td>\n",
       "      <td>0.000000</td>\n",
       "      <td>1.000000</td>\n",
       "      <td>0.000000</td>\n",
       "      <td>0.000000</td>\n",
       "      <td>0.000000</td>\n",
       "      <td>0.000000</td>\n",
       "      <td>2.000000</td>\n",
       "      <td>0.000000</td>\n",
       "      <td>0.000000</td>\n",
       "      <td>0.000000</td>\n",
       "      <td>...</td>\n",
       "      <td>1.000000</td>\n",
       "      <td>1.000000</td>\n",
       "      <td>0.000000</td>\n",
       "      <td>1.000000</td>\n",
       "      <td>0.000000</td>\n",
       "      <td>0.000000</td>\n",
       "      <td>0.000000</td>\n",
       "      <td>4.000000</td>\n",
       "      <td>0.000000</td>\n",
       "      <td>7.000000</td>\n",
       "    </tr>\n",
       "    <tr>\n",
       "      <td>max</td>\n",
       "      <td>54.000000</td>\n",
       "      <td>107.000000</td>\n",
       "      <td>47.000000</td>\n",
       "      <td>27.000000</td>\n",
       "      <td>806.000000</td>\n",
       "      <td>62.000000</td>\n",
       "      <td>160.000000</td>\n",
       "      <td>68.000000</td>\n",
       "      <td>26.000000</td>\n",
       "      <td>541.000000</td>\n",
       "      <td>...</td>\n",
       "      <td>130.000000</td>\n",
       "      <td>382.000000</td>\n",
       "      <td>241.000000</td>\n",
       "      <td>103.000000</td>\n",
       "      <td>83.000000</td>\n",
       "      <td>71.000000</td>\n",
       "      <td>72.000000</td>\n",
       "      <td>510.000000</td>\n",
       "      <td>161.000000</td>\n",
       "      <td>1522.000000</td>\n",
       "    </tr>\n",
       "  </tbody>\n",
       "</table>\n",
       "<p>8 rows × 134 columns</p>\n",
       "</div>"
      ],
      "text/plain": [
       "aisle  air fresheners candles    asian foods  baby accessories  \\\n",
       "count           206209.000000  206209.000000     206209.000000   \n",
       "mean                 0.096266       0.807952          0.039572   \n",
       "std                  0.728536       2.438233          0.532817   \n",
       "min                  0.000000       0.000000          0.000000   \n",
       "25%                  0.000000       0.000000          0.000000   \n",
       "50%                  0.000000       0.000000          0.000000   \n",
       "75%                  0.000000       1.000000          0.000000   \n",
       "max                 54.000000     107.000000         47.000000   \n",
       "\n",
       "aisle  baby bath body care  baby food formula  bakery desserts  \\\n",
       "count        206209.000000      206209.000000    206209.000000   \n",
       "mean              0.041613           1.854701         0.169105   \n",
       "std               0.371400          11.144575         1.109605   \n",
       "min               0.000000           0.000000         0.000000   \n",
       "25%               0.000000           0.000000         0.000000   \n",
       "50%               0.000000           0.000000         0.000000   \n",
       "75%               0.000000           0.000000         0.000000   \n",
       "max              27.000000         806.000000        62.000000   \n",
       "\n",
       "aisle  baking ingredients  baking supplies decor         beauty  \\\n",
       "count       206209.000000          206209.000000  206209.000000   \n",
       "mean             1.584276               0.114893       0.029911   \n",
       "std              3.819624               0.574782       0.272030   \n",
       "min              0.000000               0.000000       0.000000   \n",
       "25%              0.000000               0.000000       0.000000   \n",
       "50%              0.000000               0.000000       0.000000   \n",
       "75%              2.000000               0.000000       0.000000   \n",
       "max            160.000000              68.000000      26.000000   \n",
       "\n",
       "aisle  beers coolers  ...        spreads            tea  \\\n",
       "count  206209.000000  ...  206209.000000  206209.000000   \n",
       "mean        0.235960  ...       1.403431       1.209166   \n",
       "std         3.036664  ...       3.441071       5.316325   \n",
       "min         0.000000  ...       0.000000       0.000000   \n",
       "25%         0.000000  ...       0.000000       0.000000   \n",
       "50%         0.000000  ...       0.000000       0.000000   \n",
       "75%         0.000000  ...       1.000000       1.000000   \n",
       "max       541.000000  ...     130.000000     382.000000   \n",
       "\n",
       "aisle  tofu meat alternatives  tortillas flat bread  trail mix snack mix  \\\n",
       "count           206209.000000         206209.000000        206209.000000   \n",
       "mean                 0.627878              0.937384             0.172592   \n",
       "std                  3.316950              2.831621             1.300779   \n",
       "min                  0.000000              0.000000             0.000000   \n",
       "25%                  0.000000              0.000000             0.000000   \n",
       "50%                  0.000000              0.000000             0.000000   \n",
       "75%                  0.000000              1.000000             0.000000   \n",
       "max                241.000000            103.000000            83.000000   \n",
       "\n",
       "aisle  trash bags liners  vitamins supplements  water seltzer sparkling water  \\\n",
       "count      206209.000000         206209.000000                  206209.000000   \n",
       "mean            0.155575              0.218511                       4.080971   \n",
       "std             0.762345              1.103784                      11.275365   \n",
       "min             0.000000              0.000000                       0.000000   \n",
       "25%             0.000000              0.000000                       0.000000   \n",
       "50%             0.000000              0.000000                       0.000000   \n",
       "75%             0.000000              0.000000                       4.000000   \n",
       "max            71.000000             72.000000                     510.000000   \n",
       "\n",
       "aisle    white wines         yogurt  \n",
       "count  206209.000000  206209.000000  \n",
       "mean        0.148189       7.043063  \n",
       "std         1.743848      18.399355  \n",
       "min         0.000000       0.000000  \n",
       "25%         0.000000       0.000000  \n",
       "50%         0.000000       2.000000  \n",
       "75%         0.000000       7.000000  \n",
       "max       161.000000    1522.000000  \n",
       "\n",
       "[8 rows x 134 columns]"
      ]
     },
     "execution_count": 94,
     "metadata": {},
     "output_type": "execute_result"
    }
   ],
   "source": [
    "cust_aisle.describe()"
   ]
  },
  {
   "cell_type": "markdown",
   "metadata": {},
   "source": [
    "Although we perform k-means clustering here, there is no need to standardize variables as all the columns contain quantities. Now, we will try and understand how many clusters should be considered. We will use elbow curve method for this."
   ]
  },
  {
   "cell_type": "code",
   "execution_count": 98,
   "metadata": {},
   "outputs": [
    {
     "data": {
      "image/png": "[encoded data removed]",
      "text/plain": [
       "<Figure size 432x288 with 1 Axes>"
      ]
     },
     "metadata": {
      "needs_background": "light"
     },
     "output_type": "display_data"
    }
   ],
   "source": [
    "array_cust_aisle = cust_aisle.values\n",
    "ks = range(1,10) # Let us vary the number of clusters from 1 to 9\n",
    "inertias = []\n",
    "for k in ks:\n",
    "    model = KMeans(n_clusters=k)    # Create a KMeans instance with k clusters: model\n",
    "    model.fit(array_cust_aisle)                    # Fit the k-means model\n",
    "    inertias.append(model.inertia_) # Append the inertia to the list of inertias\n",
    "    \n",
    "plt.plot(ks, inertias, '-o', color='black') # Plotting the elbow curve'.\n",
    "plt.xlabel('number of clusters, k')\n",
    "plt.ylabel('inertia')\n",
    "plt.xticks(ks)\n",
    "plt.show()"
   ]
  },
  {
   "cell_type": "markdown",
   "metadata": {},
   "source": [
    "The drop in inertia reduces after number of clusters > 4. So, we go ahead with 4 clusters for the segmentation exercise. But, we will check how much of variability is explained by number of PCA components = 4."
   ]
  },
  {
   "cell_type": "code",
   "execution_count": 111,
   "metadata": {},
   "outputs": [
    {
     "data": {
      "text/plain": [
       "0.6659987959994454"
      ]
     },
     "execution_count": 111,
     "metadata": {},
     "output_type": "execute_result"
    }
   ],
   "source": [
    "#Decomposing the features into 4 using PCA (seeing the above plot, n_components = 6)\n",
    "pca = decomposition.PCA(n_components=4)\n",
    "pca_user_order = pca.fit_transform(array_cust_aisle)\n",
    "pca.explained_variance_ratio_.sum()"
   ]
  },
  {
   "cell_type": "markdown",
   "metadata": {},
   "source": [
    "We see that 4 principal components explain about 66.5% of variability in the dataset. We will try with number of components = 9"
   ]
  },
  {
   "cell_type": "code",
   "execution_count": 112,
   "metadata": {},
   "outputs": [
    {
     "data": {
      "text/plain": [
       "0.7714699179773211"
      ]
     },
     "execution_count": 112,
     "metadata": {},
     "output_type": "execute_result"
    }
   ],
   "source": [
    "pca = decomposition.PCA(n_components=9)\n",
    "pca_user_order = pca.fit_transform(array_cust_aisle)\n",
    "pca.explained_variance_ratio_.sum()"
   ]
  },
  {
   "cell_type": "markdown",
   "metadata": {},
   "source": [
    "If we increase the number of PCA components to 9, ~77% of variability is explained"
   ]
  },
  {
   "cell_type": "code",
   "execution_count": 113,
   "metadata": {},
   "outputs": [
    {
     "data": {
      "text/plain": [
       "0.6953453947429625"
      ]
     },
     "execution_count": 113,
     "metadata": {},
     "output_type": "execute_result"
    }
   ],
   "source": [
    "pca = decomposition.PCA(n_components=5)\n",
    "pca_user_order = pca.fit_transform(array_cust_aisle)\n",
    "pca.explained_variance_ratio_.sum()"
   ]
  },
  {
   "cell_type": "markdown",
   "metadata": {},
   "source": [
    "For pca components = 5, ~70% of variability is explained. We go ahead with this as we do not want to increase the number of clusters to 9 for a increase of 7% in variability being explained. However, note that this is a tradeoff between the model accuracy and computation load and this decision varies according to the business case."
   ]
  },
  {
   "cell_type": "markdown",
   "metadata": {},
   "source": [
    "Plotting the variability explained by each of additional PCA components."
   ]
  },
  {
   "cell_type": "code",
   "execution_count": 114,
   "metadata": {},
   "outputs": [
    {
     "data": {
      "text/plain": [
       "Text(0, 0.5, 'variance %')"
      ]
     },
     "execution_count": 114,
     "metadata": {},
     "output_type": "execute_result"
    },
    {
     "data": {
      "image/png": "[encoded data removed]",
      "text/plain": [
       "<Figure size 432x288 with 1 Axes>"
      ]
     },
     "metadata": {
      "needs_background": "light"
     },
     "output_type": "display_data"
    }
   ],
   "source": [
    "features = range(pca.n_components_)\n",
    "plt.bar(features, pca.explained_variance_ratio_, color='black')\n",
    "plt.xlabel('PCA features')\n",
    "plt.ylabel('variance %')"
   ]
  },
  {
   "cell_type": "markdown",
   "metadata": {},
   "source": [
    "We can see from the 2nd PCA component, the additional variability being explained keeps decreasing."
   ]
  },
  {
   "cell_type": "code",
   "execution_count": 124,
   "metadata": {},
   "outputs": [
    {
     "data": {
      "text/plain": [
       "array([ 0.26916065, -6.92094044, -0.44224581, ...,  1.71793131,\n",
       "        9.03606325,  1.53986163])"
      ]
     },
     "execution_count": 124,
     "metadata": {},
     "output_type": "execute_result"
    }
   ],
   "source": [
    "pca_user_order[:,4]"
   ]
  },
  {
   "cell_type": "code",
   "execution_count": 126,
   "metadata": {},
   "outputs": [],
   "source": [
    "#Build the model (kmeans using 5 clusters)\n",
    "kmeans = KMeans(n_clusters=5)\n",
    "array_cust_aisle_clustered = kmeans.fit_predict(pca_user_order) #fit_predict on chosen components only."
   ]
  },
  {
   "cell_type": "markdown",
   "metadata": {},
   "source": [
    "Let us visualize the clusters now"
   ]
  },
  {
   "cell_type": "code",
   "execution_count": 133,
   "metadata": {},
   "outputs": [
    {
     "data": {
      "image/png": "[encoded data removed]",
      "text/plain": [
       "<Figure size 1080x576 with 1 Axes>"
      ]
     },
     "metadata": {
      "needs_background": "light"
     },
     "output_type": "display_data"
    }
   ],
   "source": [
    "#Visualize it.\n",
    "\n",
    "label_color_mapping = {0:'r', 1: 'g', 2: 'b',3:'c' , 4:'m'}\n",
    "label_color = [label_color_mapping[l] for l in array_cust_aisle_clustered]\n",
    "\n",
    "#Scatterplot showing the cluster to which each user_id belongs.\n",
    "plt.figure(figsize = (15,8))\n",
    "plt.scatter(pca_user_order[:,0],pca_user_order[:,2], c= label_color, alpha=0.3) \n",
    "plt.show()"
   ]
  },
  {
   "cell_type": "markdown",
   "metadata": {},
   "source": [
    "Assigning the cluster to each user"
   ]
  },
  {
   "cell_type": "code",
   "execution_count": 134,
   "metadata": {},
   "outputs": [],
   "source": [
    "cust_aisle['cluster']=array_cust_aisle_clustered"
   ]
  },
  {
   "cell_type": "markdown",
   "metadata": {},
   "source": [
    "Let us check how many users fall into each of the clusters."
   ]
  },
  {
   "cell_type": "code",
   "execution_count": 135,
   "metadata": {},
   "outputs": [
    {
     "data": {
      "text/plain": [
       "0    147096\n",
       "4     40534\n",
       "3     12095\n",
       "2      3616\n",
       "1      2868\n",
       "Name: cluster, dtype: int64"
      ]
     },
     "execution_count": 135,
     "metadata": {},
     "output_type": "execute_result"
    }
   ],
   "source": [
    "#Checking cluster concentration. \n",
    "cust_aisle['cluster'].value_counts().sort_values(ascending = False)"
   ]
  },
  {
   "cell_type": "markdown",
   "metadata": {},
   "source": [
    "Cluster 0 has the highest number of users at 147K followed by cluster 4 havng 40K users."
   ]
  },
  {
   "cell_type": "code",
   "execution_count": 136,
   "metadata": {},
   "outputs": [
    {
     "data": {
      "text/html": [
       "<div>\n",
       "<style scoped>\n",
       "    .dataframe tbody tr th:only-of-type {\n",
       "        vertical-align: middle;\n",
       "    }\n",
       "\n",
       "    .dataframe tbody tr th {\n",
       "        vertical-align: top;\n",
       "    }\n",
       "\n",
       "    .dataframe thead th {\n",
       "        text-align: right;\n",
       "    }\n",
       "</style>\n",
       "<table border=\"1\" class=\"dataframe\">\n",
       "  <thead>\n",
       "    <tr style=\"text-align: right;\">\n",
       "      <th>aisle</th>\n",
       "      <th>air fresheners candles</th>\n",
       "      <th>asian foods</th>\n",
       "      <th>baby accessories</th>\n",
       "      <th>baby bath body care</th>\n",
       "      <th>baby food formula</th>\n",
       "      <th>bakery desserts</th>\n",
       "      <th>baking ingredients</th>\n",
       "      <th>baking supplies decor</th>\n",
       "      <th>beauty</th>\n",
       "      <th>beers coolers</th>\n",
       "      <th>...</th>\n",
       "      <th>tea</th>\n",
       "      <th>tofu meat alternatives</th>\n",
       "      <th>tortillas flat bread</th>\n",
       "      <th>trail mix snack mix</th>\n",
       "      <th>trash bags liners</th>\n",
       "      <th>vitamins supplements</th>\n",
       "      <th>water seltzer sparkling water</th>\n",
       "      <th>white wines</th>\n",
       "      <th>yogurt</th>\n",
       "      <th>cluster</th>\n",
       "    </tr>\n",
       "    <tr>\n",
       "      <th>user_id</th>\n",
       "      <th></th>\n",
       "      <th></th>\n",
       "      <th></th>\n",
       "      <th></th>\n",
       "      <th></th>\n",
       "      <th></th>\n",
       "      <th></th>\n",
       "      <th></th>\n",
       "      <th></th>\n",
       "      <th></th>\n",
       "      <th></th>\n",
       "      <th></th>\n",
       "      <th></th>\n",
       "      <th></th>\n",
       "      <th></th>\n",
       "      <th></th>\n",
       "      <th></th>\n",
       "      <th></th>\n",
       "      <th></th>\n",
       "      <th></th>\n",
       "      <th></th>\n",
       "    </tr>\n",
       "  </thead>\n",
       "  <tbody>\n",
       "    <tr>\n",
       "      <td>1</td>\n",
       "      <td>0</td>\n",
       "      <td>0</td>\n",
       "      <td>0</td>\n",
       "      <td>0</td>\n",
       "      <td>0</td>\n",
       "      <td>0</td>\n",
       "      <td>0</td>\n",
       "      <td>0</td>\n",
       "      <td>0</td>\n",
       "      <td>0</td>\n",
       "      <td>...</td>\n",
       "      <td>0</td>\n",
       "      <td>0</td>\n",
       "      <td>0</td>\n",
       "      <td>0</td>\n",
       "      <td>0</td>\n",
       "      <td>0</td>\n",
       "      <td>0</td>\n",
       "      <td>0</td>\n",
       "      <td>1</td>\n",
       "      <td>0</td>\n",
       "    </tr>\n",
       "    <tr>\n",
       "      <td>2</td>\n",
       "      <td>0</td>\n",
       "      <td>3</td>\n",
       "      <td>0</td>\n",
       "      <td>0</td>\n",
       "      <td>0</td>\n",
       "      <td>0</td>\n",
       "      <td>2</td>\n",
       "      <td>0</td>\n",
       "      <td>0</td>\n",
       "      <td>0</td>\n",
       "      <td>...</td>\n",
       "      <td>1</td>\n",
       "      <td>1</td>\n",
       "      <td>0</td>\n",
       "      <td>0</td>\n",
       "      <td>0</td>\n",
       "      <td>0</td>\n",
       "      <td>2</td>\n",
       "      <td>0</td>\n",
       "      <td>42</td>\n",
       "      <td>4</td>\n",
       "    </tr>\n",
       "    <tr>\n",
       "      <td>3</td>\n",
       "      <td>0</td>\n",
       "      <td>0</td>\n",
       "      <td>0</td>\n",
       "      <td>0</td>\n",
       "      <td>0</td>\n",
       "      <td>0</td>\n",
       "      <td>0</td>\n",
       "      <td>0</td>\n",
       "      <td>0</td>\n",
       "      <td>0</td>\n",
       "      <td>...</td>\n",
       "      <td>1</td>\n",
       "      <td>0</td>\n",
       "      <td>0</td>\n",
       "      <td>0</td>\n",
       "      <td>0</td>\n",
       "      <td>0</td>\n",
       "      <td>2</td>\n",
       "      <td>0</td>\n",
       "      <td>0</td>\n",
       "      <td>0</td>\n",
       "    </tr>\n",
       "    <tr>\n",
       "      <td>4</td>\n",
       "      <td>0</td>\n",
       "      <td>0</td>\n",
       "      <td>0</td>\n",
       "      <td>0</td>\n",
       "      <td>0</td>\n",
       "      <td>0</td>\n",
       "      <td>0</td>\n",
       "      <td>0</td>\n",
       "      <td>0</td>\n",
       "      <td>0</td>\n",
       "      <td>...</td>\n",
       "      <td>0</td>\n",
       "      <td>0</td>\n",
       "      <td>1</td>\n",
       "      <td>0</td>\n",
       "      <td>0</td>\n",
       "      <td>0</td>\n",
       "      <td>1</td>\n",
       "      <td>0</td>\n",
       "      <td>0</td>\n",
       "      <td>0</td>\n",
       "    </tr>\n",
       "    <tr>\n",
       "      <td>5</td>\n",
       "      <td>0</td>\n",
       "      <td>2</td>\n",
       "      <td>0</td>\n",
       "      <td>0</td>\n",
       "      <td>0</td>\n",
       "      <td>0</td>\n",
       "      <td>0</td>\n",
       "      <td>0</td>\n",
       "      <td>0</td>\n",
       "      <td>0</td>\n",
       "      <td>...</td>\n",
       "      <td>0</td>\n",
       "      <td>0</td>\n",
       "      <td>0</td>\n",
       "      <td>0</td>\n",
       "      <td>0</td>\n",
       "      <td>0</td>\n",
       "      <td>0</td>\n",
       "      <td>0</td>\n",
       "      <td>3</td>\n",
       "      <td>0</td>\n",
       "    </tr>\n",
       "    <tr>\n",
       "      <td>...</td>\n",
       "      <td>...</td>\n",
       "      <td>...</td>\n",
       "      <td>...</td>\n",
       "      <td>...</td>\n",
       "      <td>...</td>\n",
       "      <td>...</td>\n",
       "      <td>...</td>\n",
       "      <td>...</td>\n",
       "      <td>...</td>\n",
       "      <td>...</td>\n",
       "      <td>...</td>\n",
       "      <td>...</td>\n",
       "      <td>...</td>\n",
       "      <td>...</td>\n",
       "      <td>...</td>\n",
       "      <td>...</td>\n",
       "      <td>...</td>\n",
       "      <td>...</td>\n",
       "      <td>...</td>\n",
       "      <td>...</td>\n",
       "      <td>...</td>\n",
       "    </tr>\n",
       "    <tr>\n",
       "      <td>206205</td>\n",
       "      <td>0</td>\n",
       "      <td>0</td>\n",
       "      <td>1</td>\n",
       "      <td>0</td>\n",
       "      <td>0</td>\n",
       "      <td>0</td>\n",
       "      <td>0</td>\n",
       "      <td>0</td>\n",
       "      <td>0</td>\n",
       "      <td>0</td>\n",
       "      <td>...</td>\n",
       "      <td>0</td>\n",
       "      <td>0</td>\n",
       "      <td>0</td>\n",
       "      <td>0</td>\n",
       "      <td>0</td>\n",
       "      <td>0</td>\n",
       "      <td>0</td>\n",
       "      <td>0</td>\n",
       "      <td>5</td>\n",
       "      <td>0</td>\n",
       "    </tr>\n",
       "    <tr>\n",
       "      <td>206206</td>\n",
       "      <td>0</td>\n",
       "      <td>4</td>\n",
       "      <td>0</td>\n",
       "      <td>0</td>\n",
       "      <td>0</td>\n",
       "      <td>0</td>\n",
       "      <td>4</td>\n",
       "      <td>1</td>\n",
       "      <td>0</td>\n",
       "      <td>0</td>\n",
       "      <td>...</td>\n",
       "      <td>0</td>\n",
       "      <td>0</td>\n",
       "      <td>0</td>\n",
       "      <td>0</td>\n",
       "      <td>1</td>\n",
       "      <td>0</td>\n",
       "      <td>1</td>\n",
       "      <td>0</td>\n",
       "      <td>0</td>\n",
       "      <td>0</td>\n",
       "    </tr>\n",
       "    <tr>\n",
       "      <td>206207</td>\n",
       "      <td>0</td>\n",
       "      <td>0</td>\n",
       "      <td>0</td>\n",
       "      <td>0</td>\n",
       "      <td>1</td>\n",
       "      <td>0</td>\n",
       "      <td>0</td>\n",
       "      <td>0</td>\n",
       "      <td>0</td>\n",
       "      <td>0</td>\n",
       "      <td>...</td>\n",
       "      <td>4</td>\n",
       "      <td>0</td>\n",
       "      <td>2</td>\n",
       "      <td>1</td>\n",
       "      <td>0</td>\n",
       "      <td>0</td>\n",
       "      <td>11</td>\n",
       "      <td>0</td>\n",
       "      <td>15</td>\n",
       "      <td>4</td>\n",
       "    </tr>\n",
       "    <tr>\n",
       "      <td>206208</td>\n",
       "      <td>0</td>\n",
       "      <td>3</td>\n",
       "      <td>0</td>\n",
       "      <td>0</td>\n",
       "      <td>3</td>\n",
       "      <td>0</td>\n",
       "      <td>4</td>\n",
       "      <td>0</td>\n",
       "      <td>0</td>\n",
       "      <td>0</td>\n",
       "      <td>...</td>\n",
       "      <td>0</td>\n",
       "      <td>0</td>\n",
       "      <td>7</td>\n",
       "      <td>0</td>\n",
       "      <td>0</td>\n",
       "      <td>0</td>\n",
       "      <td>0</td>\n",
       "      <td>0</td>\n",
       "      <td>33</td>\n",
       "      <td>3</td>\n",
       "    </tr>\n",
       "    <tr>\n",
       "      <td>206209</td>\n",
       "      <td>0</td>\n",
       "      <td>1</td>\n",
       "      <td>0</td>\n",
       "      <td>0</td>\n",
       "      <td>0</td>\n",
       "      <td>0</td>\n",
       "      <td>0</td>\n",
       "      <td>0</td>\n",
       "      <td>0</td>\n",
       "      <td>0</td>\n",
       "      <td>...</td>\n",
       "      <td>0</td>\n",
       "      <td>0</td>\n",
       "      <td>0</td>\n",
       "      <td>0</td>\n",
       "      <td>1</td>\n",
       "      <td>0</td>\n",
       "      <td>0</td>\n",
       "      <td>0</td>\n",
       "      <td>3</td>\n",
       "      <td>0</td>\n",
       "    </tr>\n",
       "  </tbody>\n",
       "</table>\n",
       "<p>206209 rows × 135 columns</p>\n",
       "</div>"
      ],
      "text/plain": [
       "aisle    air fresheners candles  asian foods  baby accessories  \\\n",
       "user_id                                                          \n",
       "1                             0            0                 0   \n",
       "2                             0            3                 0   \n",
       "3                             0            0                 0   \n",
       "4                             0            0                 0   \n",
       "5                             0            2                 0   \n",
       "...                         ...          ...               ...   \n",
       "206205                        0            0                 1   \n",
       "206206                        0            4                 0   \n",
       "206207                        0            0                 0   \n",
       "206208                        0            3                 0   \n",
       "206209                        0            1                 0   \n",
       "\n",
       "aisle    baby bath body care  baby food formula  bakery desserts  \\\n",
       "user_id                                                            \n",
       "1                          0                  0                0   \n",
       "2                          0                  0                0   \n",
       "3                          0                  0                0   \n",
       "4                          0                  0                0   \n",
       "5                          0                  0                0   \n",
       "...                      ...                ...              ...   \n",
       "206205                     0                  0                0   \n",
       "206206                     0                  0                0   \n",
       "206207                     0                  1                0   \n",
       "206208                     0                  3                0   \n",
       "206209                     0                  0                0   \n",
       "\n",
       "aisle    baking ingredients  baking supplies decor  beauty  beers coolers  \\\n",
       "user_id                                                                     \n",
       "1                         0                      0       0              0   \n",
       "2                         2                      0       0              0   \n",
       "3                         0                      0       0              0   \n",
       "4                         0                      0       0              0   \n",
       "5                         0                      0       0              0   \n",
       "...                     ...                    ...     ...            ...   \n",
       "206205                    0                      0       0              0   \n",
       "206206                    4                      1       0              0   \n",
       "206207                    0                      0       0              0   \n",
       "206208                    4                      0       0              0   \n",
       "206209                    0                      0       0              0   \n",
       "\n",
       "aisle    ...  tea  tofu meat alternatives  tortillas flat bread  \\\n",
       "user_id  ...                                                      \n",
       "1        ...    0                       0                     0   \n",
       "2        ...    1                       1                     0   \n",
       "3        ...    1                       0                     0   \n",
       "4        ...    0                       0                     1   \n",
       "5        ...    0                       0                     0   \n",
       "...      ...  ...                     ...                   ...   \n",
       "206205   ...    0                       0                     0   \n",
       "206206   ...    0                       0                     0   \n",
       "206207   ...    4                       0                     2   \n",
       "206208   ...    0                       0                     7   \n",
       "206209   ...    0                       0                     0   \n",
       "\n",
       "aisle    trail mix snack mix  trash bags liners  vitamins supplements  \\\n",
       "user_id                                                                 \n",
       "1                          0                  0                     0   \n",
       "2                          0                  0                     0   \n",
       "3                          0                  0                     0   \n",
       "4                          0                  0                     0   \n",
       "5                          0                  0                     0   \n",
       "...                      ...                ...                   ...   \n",
       "206205                     0                  0                     0   \n",
       "206206                     0                  1                     0   \n",
       "206207                     1                  0                     0   \n",
       "206208                     0                  0                     0   \n",
       "206209                     0                  1                     0   \n",
       "\n",
       "aisle    water seltzer sparkling water  white wines  yogurt  cluster  \n",
       "user_id                                                               \n",
       "1                                    0            0       1        0  \n",
       "2                                    2            0      42        4  \n",
       "3                                    2            0       0        0  \n",
       "4                                    1            0       0        0  \n",
       "5                                    0            0       3        0  \n",
       "...                                ...          ...     ...      ...  \n",
       "206205                               0            0       5        0  \n",
       "206206                               1            0       0        0  \n",
       "206207                              11            0      15        4  \n",
       "206208                               0            0      33        3  \n",
       "206209                               0            0       3        0  \n",
       "\n",
       "[206209 rows x 135 columns]"
      ]
     },
     "execution_count": 136,
     "metadata": {},
     "output_type": "execute_result"
    }
   ],
   "source": [
    "cust_aisle"
   ]
  },
  {
   "cell_type": "code",
   "execution_count": 137,
   "metadata": {},
   "outputs": [],
   "source": [
    "c0 = cust_aisle[cust_aisle['cluster']==0].drop('cluster',axis=1).mean()\n",
    "c1 = cust_aisle[cust_aisle['cluster']==1].drop('cluster',axis=1).mean()\n",
    "c2 = cust_aisle[cust_aisle['cluster']==2].drop('cluster',axis=1).mean()\n",
    "c3 = cust_aisle[cust_aisle['cluster']==3].drop('cluster',axis=1).mean()\n",
    "c4 = cust_aisle[cust_aisle['cluster']==4].drop('cluster',axis=1).mean()"
   ]
  },
  {
   "cell_type": "code",
   "execution_count": 138,
   "metadata": {},
   "outputs": [
    {
     "data": {
      "text/plain": [
       "aisle\n",
       "fresh fruits                     5.637284\n",
       "fresh vegetables                 5.203677\n",
       "packaged vegetables fruits       3.067072\n",
       "yogurt                           2.509239\n",
       "water seltzer sparkling water    2.195002\n",
       "packaged cheese                  2.002189\n",
       "milk                             1.757893\n",
       "chips pretzels                   1.738919\n",
       "ice cream ice                    1.362777\n",
       "soft drinks                      1.296704\n",
       "dtype: float64"
      ]
     },
     "execution_count": 138,
     "metadata": {},
     "output_type": "execute_result"
    }
   ],
   "source": [
    "c0.sort_values(ascending=False)[0:10]"
   ]
  },
  {
   "cell_type": "code",
   "execution_count": 139,
   "metadata": {},
   "outputs": [
    {
     "data": {
      "text/plain": [
       "aisle\n",
       "fresh vegetables              175.968271\n",
       "fresh fruits                  148.789052\n",
       "packaged vegetables fruits     67.242678\n",
       "yogurt                         37.939679\n",
       "packaged cheese                29.165621\n",
       "milk                           27.089261\n",
       "fresh herbs                    19.203626\n",
       "soy lactosefree                19.010460\n",
       "bread                          17.065900\n",
       "frozen produce                 16.813459\n",
       "dtype: float64"
      ]
     },
     "execution_count": 139,
     "metadata": {},
     "output_type": "execute_result"
    }
   ],
   "source": [
    "c1.sort_values(ascending=False)[0:10]"
   ]
  },
  {
   "cell_type": "code",
   "execution_count": 140,
   "metadata": {},
   "outputs": [
    {
     "data": {
      "text/plain": [
       "aisle\n",
       "fresh fruits                     119.863108\n",
       "yogurt                            75.754425\n",
       "packaged vegetables fruits        43.129978\n",
       "fresh vegetables                  41.034292\n",
       "milk                              30.362832\n",
       "packaged cheese                   27.523783\n",
       "water seltzer sparkling water     24.800055\n",
       "chips pretzels                    22.040929\n",
       "energy granola bars               20.626106\n",
       "baby food formula                 20.504425\n",
       "dtype: float64"
      ]
     },
     "execution_count": 140,
     "metadata": {},
     "output_type": "execute_result"
    }
   ],
   "source": [
    "c2.sort_values(ascending=False)[0:10]"
   ]
  },
  {
   "cell_type": "code",
   "execution_count": 141,
   "metadata": {},
   "outputs": [
    {
     "data": {
      "text/plain": [
       "aisle\n",
       "fresh vegetables                 78.025217\n",
       "fresh fruits                     63.406614\n",
       "packaged vegetables fruits       31.917817\n",
       "yogurt                           17.873832\n",
       "packaged cheese                  14.866143\n",
       "milk                             12.736007\n",
       "soy lactosefree                  10.212650\n",
       "water seltzer sparkling water     9.152708\n",
       "fresh herbs                       8.831253\n",
       "frozen produce                    8.716742\n",
       "dtype: float64"
      ]
     },
     "execution_count": 141,
     "metadata": {},
     "output_type": "execute_result"
    }
   ],
   "source": [
    "c3.sort_values(ascending=False)[0:10]"
   ]
  },
  {
   "cell_type": "code",
   "execution_count": 142,
   "metadata": {},
   "outputs": [
    {
     "data": {
      "text/plain": [
       "aisle\n",
       "fresh fruits                     29.257191\n",
       "fresh vegetables                 26.047491\n",
       "packaged vegetables fruits       14.291780\n",
       "yogurt                           11.948512\n",
       "packaged cheese                   7.950609\n",
       "milk                              7.176938\n",
       "water seltzer sparkling water     6.902082\n",
       "chips pretzels                    5.993684\n",
       "soy lactosefree                   5.257537\n",
       "refrigerated                      4.800094\n",
       "dtype: float64"
      ]
     },
     "execution_count": 142,
     "metadata": {},
     "output_type": "execute_result"
    }
   ],
   "source": [
    "c4.sort_values(ascending=False)[0:10]"
   ]
  },
  {
   "cell_type": "markdown",
   "metadata": {},
   "source": [
    "The aisles which differentiate customers from cluster 0 are soft drinks and ice cream. Refrigerated aisle seems to differentiate customers from cluster 4 whereas baby food formula and energy granola bars differentiate customers from cluster 2. Frozen produce is the aisle which differntiates customers from cluster 1 and 3."
   ]
  }
 ],
 "metadata": {
  "hide_input": false,
  "kernelspec": {
   "display_name": "Python 3",
   "language": "python",
   "name": "python3"
  },
  "language_info": {
   "codemirror_mode": {
    "name": "ipython",
    "version": 3
   },
   "file_extension": ".py",
   "mimetype": "text/x-python",
   "name": "python",
   "nbconvert_exporter": "python",
   "pygments_lexer": "ipython3",
   "version": "3.7.4"
  },
  "toc": {
   "base_numbering": 1,
   "nav_menu": {},
   "number_sections": true,
   "sideBar": true,
   "skip_h1_title": false,
   "title_cell": "Table of Contents",
   "title_sidebar": "Contents",
   "toc_cell": false,
   "toc_position": {
    "height": "calc(100% - 180px)",
    "left": "10px",
    "top": "150px",
    "width": "393.8px"
   },
   "toc_section_display": true,
   "toc_window_display": true
  }
 },
 "nbformat": 4,
 "nbformat_minor": 4
}
