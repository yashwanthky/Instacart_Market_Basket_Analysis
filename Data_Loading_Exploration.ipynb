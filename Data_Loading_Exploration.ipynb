{
 "cells": [
  {
   "cell_type": "markdown",
   "metadata": {},
   "source": [
    "# Market Basket Analysis"
   ]
  },
  {
   "cell_type": "markdown",
   "metadata": {},
   "source": [
    "### Loading Required Libraries"
   ]
  },
  {
   "cell_type": "code",
   "execution_count": 85,
   "metadata": {},
   "outputs": [],
   "source": [
    "import matplotlib.pyplot as plt\n",
    "import seaborn as sns\n",
    "import pandas as pd\n",
    "import os\n",
    "import numpy as np\n",
    "import warnings\n",
    "warnings.filterwarnings(\"ignore\")"
   ]
  },
  {
   "cell_type": "markdown",
   "metadata": {},
   "source": [
    "## Data Loading and Cleaning"
   ]
  },
  {
   "cell_type": "markdown",
   "metadata": {},
   "source": [
    "### Reading Input Files"
   ]
  },
  {
   "cell_type": "code",
   "execution_count": 2,
   "metadata": {},
   "outputs": [],
   "source": [
    "aisles = pd.read_csv('https://raw.githubusercontent.com/yashwanthky/Market_Basket_Analysis/Data_Loading/aisles_perishables_tagged.csv', index_col = 0, error_bad_lines = False).reset_index()\n",
    "departments = pd.read_csv('instacart_2017_05_01/departments.csv')\n",
    "products = pd.read_csv('instacart_2017_05_01/products.csv')\n",
    "orders = pd.read_csv('instacart_2017_05_01/orders.csv')\n",
    "orders_products_train = pd.read_csv('instacart_2017_05_01/order_products__prior.csv')  # We train the model using this data of n-1 orders\n",
    "orders_products_test = pd.read_csv('instacart_2017_05_01/order_products__train.csv')   # We validate the predictions with this data of the nth order"
   ]
  },
  {
   "cell_type": "code",
   "execution_count": 3,
   "metadata": {},
   "outputs": [
    {
     "data": {
      "text/html": [
       "<div>\n",
       "<style scoped>\n",
       "    .dataframe tbody tr th:only-of-type {\n",
       "        vertical-align: middle;\n",
       "    }\n",
       "\n",
       "    .dataframe tbody tr th {\n",
       "        vertical-align: top;\n",
       "    }\n",
       "\n",
       "    .dataframe thead th {\n",
       "        text-align: right;\n",
       "    }\n",
       "</style>\n",
       "<table border=\"1\" class=\"dataframe\">\n",
       "  <thead>\n",
       "    <tr style=\"text-align: right;\">\n",
       "      <th></th>\n",
       "      <th>aisle_id</th>\n",
       "      <th>aisle</th>\n",
       "      <th>Perishables</th>\n",
       "    </tr>\n",
       "  </thead>\n",
       "  <tbody>\n",
       "    <tr>\n",
       "      <th>0</th>\n",
       "      <td>1</td>\n",
       "      <td>prepared soups salads</td>\n",
       "      <td>1</td>\n",
       "    </tr>\n",
       "    <tr>\n",
       "      <th>1</th>\n",
       "      <td>2</td>\n",
       "      <td>specialty cheeses</td>\n",
       "      <td>1</td>\n",
       "    </tr>\n",
       "    <tr>\n",
       "      <th>2</th>\n",
       "      <td>3</td>\n",
       "      <td>energy granola bars</td>\n",
       "      <td>0</td>\n",
       "    </tr>\n",
       "    <tr>\n",
       "      <th>3</th>\n",
       "      <td>4</td>\n",
       "      <td>instant foods</td>\n",
       "      <td>0</td>\n",
       "    </tr>\n",
       "    <tr>\n",
       "      <th>4</th>\n",
       "      <td>5</td>\n",
       "      <td>marinades meat preparation</td>\n",
       "      <td>1</td>\n",
       "    </tr>\n",
       "  </tbody>\n",
       "</table>\n",
       "</div>"
      ],
      "text/plain": [
       "   aisle_id                       aisle  Perishables\n",
       "0         1       prepared soups salads            1\n",
       "1         2           specialty cheeses            1\n",
       "2         3         energy granola bars            0\n",
       "3         4               instant foods            0\n",
       "4         5  marinades meat preparation            1"
      ]
     },
     "execution_count": 3,
     "metadata": {},
     "output_type": "execute_result"
    }
   ],
   "source": [
    "aisles.head()"
   ]
  },
  {
   "cell_type": "markdown",
   "metadata": {},
   "source": [
    "### Data Check\n",
    "#### (shape, features, unique values and missing values)"
   ]
  },
  {
   "cell_type": "code",
   "execution_count": 4,
   "metadata": {},
   "outputs": [
    {
     "name": "stdout",
     "output_type": "stream",
     "text": [
      "Rows     :  134\n",
      "Columns  :  3\n",
      "\n",
      "Features : \n",
      " ['aisle_id', 'aisle', 'Perishables']\n",
      "\n",
      "Missing values :   0\n",
      "\n",
      "Unique values :  \n",
      " aisle_id       134\n",
      "aisle          134\n",
      "Perishables      2\n",
      "dtype: int64\n"
     ]
    }
   ],
   "source": [
    "print (\"Rows     : \" ,aisles.shape[0])\n",
    "print (\"Columns  : \" ,aisles.shape[1])\n",
    "print (\"\\nFeatures : \\n\" ,aisles.columns.tolist())\n",
    "print (\"\\nMissing values :  \", aisles.isnull().sum().values.sum())\n",
    "print (\"\\nUnique values :  \\n\",aisles.nunique())"
   ]
  },
  {
   "cell_type": "code",
   "execution_count": 5,
   "metadata": {},
   "outputs": [
    {
     "name": "stdout",
     "output_type": "stream",
     "text": [
      "Rows     :  21\n",
      "Columns  :  2\n",
      "\n",
      "Features : \n",
      " ['department_id', 'department']\n",
      "\n",
      "Missing values :   0\n",
      "\n",
      "Unique values :  \n",
      " department_id    21\n",
      "department       21\n",
      "dtype: int64\n"
     ]
    }
   ],
   "source": [
    "print (\"Rows     : \" ,departments.shape[0])\n",
    "print (\"Columns  : \" ,departments.shape[1])\n",
    "print (\"\\nFeatures : \\n\" ,departments.columns.tolist())\n",
    "print (\"\\nMissing values :  \", departments.isnull().sum().values.sum())\n",
    "print (\"\\nUnique values :  \\n\",departments.nunique())"
   ]
  },
  {
   "cell_type": "code",
   "execution_count": 6,
   "metadata": {},
   "outputs": [
    {
     "name": "stdout",
     "output_type": "stream",
     "text": [
      "Rows     :  49688\n",
      "Columns  :  4\n",
      "\n",
      "Features : \n",
      " ['product_id', 'product_name', 'aisle_id', 'department_id']\n",
      "\n",
      "Missing values :   0\n",
      "\n",
      "Unique values :  \n",
      " product_id       49688\n",
      "product_name     49688\n",
      "aisle_id           134\n",
      "department_id       21\n",
      "dtype: int64\n"
     ]
    }
   ],
   "source": [
    "print (\"Rows     : \" ,products.shape[0])\n",
    "print (\"Columns  : \" ,products.shape[1])\n",
    "print (\"\\nFeatures : \\n\" ,products.columns.tolist())\n",
    "print (\"\\nMissing values :  \",products.isnull().sum().values.sum())\n",
    "print (\"\\nUnique values :  \\n\",products.nunique())"
   ]
  },
  {
   "cell_type": "code",
   "execution_count": 7,
   "metadata": {},
   "outputs": [
    {
     "name": "stdout",
     "output_type": "stream",
     "text": [
      "Rows     :  3421083\n",
      "Columns  :  7\n",
      "\n",
      "Features : \n",
      " ['order_id', 'user_id', 'eval_set', 'order_number', 'order_dow', 'order_hour_of_day', 'days_since_prior_order']\n",
      "\n",
      "Missing values :   206209\n",
      "\n",
      "Missing values :   [     0      0      0      0      0      0 206209]\n",
      "\n",
      "Unique values :  \n",
      " order_id                  3421083\n",
      "user_id                    206209\n",
      "eval_set                        3\n",
      "order_number                  100\n",
      "order_dow                       7\n",
      "order_hour_of_day              24\n",
      "days_since_prior_order         31\n",
      "dtype: int64\n"
     ]
    }
   ],
   "source": [
    "print (\"Rows     : \" ,orders.shape[0])\n",
    "print (\"Columns  : \" ,orders.shape[1])\n",
    "print (\"\\nFeatures : \\n\" ,orders.columns.tolist())\n",
    "print (\"\\nMissing values :  \", orders.isnull().sum().values.sum())\n",
    "print (\"\\nMissing values :  \", orders.isnull().sum().values)\n",
    "print (\"\\nUnique values :  \\n\",orders.nunique())"
   ]
  },
  {
   "cell_type": "markdown",
   "metadata": {},
   "source": [
    "There are 206,209 missing values in the column 'days_since_prior_order'. This means that these orders are the first orders for the 206,209 unique customers"
   ]
  },
  {
   "cell_type": "code",
   "execution_count": 8,
   "metadata": {},
   "outputs": [
    {
     "name": "stdout",
     "output_type": "stream",
     "text": [
      "order_id  count    4\n",
      "dtype: int64 order_id  count    100\n",
      "dtype: int64 order_id  count    16.590367\n",
      "dtype: float64 order_id  count    10.0\n",
      "dtype: float64 order_id  count    16.654774\n",
      "dtype: float64\n"
     ]
    }
   ],
   "source": [
    "# Let us see the order count by unique user id\n",
    "\n",
    "print(orders.groupby('user_id').agg({'order_id' : ['count']}).min(),\n",
    "      orders.groupby('user_id').agg({'order_id' : ['count']}).max(),\n",
    "     orders.groupby('user_id').agg({'order_id' : ['count']}).mean(),\n",
    "     orders.groupby('user_id').agg({'order_id' : ['count']}).median(),\n",
    "     orders.groupby('user_id').agg({'order_id' : ['count']}).std())"
   ]
  },
  {
   "cell_type": "markdown",
   "metadata": {},
   "source": [
    "There are around 10 orders for 75% of the customers and the minimum number of orders per user is 4 and the maximum number of orders per user is 100."
   ]
  },
  {
   "cell_type": "code",
   "execution_count": 9,
   "metadata": {},
   "outputs": [
    {
     "name": "stdout",
     "output_type": "stream",
     "text": [
      "Rows     :  32434489\n",
      "Columns  :  4\n",
      "\n",
      "Features : \n",
      " ['order_id', 'product_id', 'add_to_cart_order', 'reordered']\n",
      "\n",
      "Missing values :   0\n",
      "\n",
      "Unique values :  \n",
      " order_id             3214874\n",
      "product_id             49677\n",
      "add_to_cart_order        145\n",
      "reordered                  2\n",
      "dtype: int64\n"
     ]
    }
   ],
   "source": [
    "print (\"Rows     : \" ,orders_products_train.shape[0])\n",
    "print (\"Columns  : \" ,orders_products_train.shape[1])\n",
    "print (\"\\nFeatures : \\n\" ,orders_products_train.columns.tolist())\n",
    "print (\"\\nMissing values :  \", orders_products_train.isnull().sum().values.sum())\n",
    "print (\"\\nUnique values :  \\n\",orders_products_train.nunique())"
   ]
  },
  {
   "cell_type": "code",
   "execution_count": 10,
   "metadata": {},
   "outputs": [
    {
     "name": "stdout",
     "output_type": "stream",
     "text": [
      "Rows     :  1384617\n",
      "Columns  :  4\n",
      "\n",
      "Features : \n",
      " ['order_id', 'product_id', 'add_to_cart_order', 'reordered']\n",
      "\n",
      "Missing values :   0\n",
      "\n",
      "Unique values :  \n",
      " order_id             131209\n",
      "product_id            39123\n",
      "add_to_cart_order        80\n",
      "reordered                 2\n",
      "dtype: int64\n"
     ]
    }
   ],
   "source": [
    "print (\"Rows     : \" ,orders_products_test.shape[0])\n",
    "print (\"Columns  : \" ,orders_products_test.shape[1])\n",
    "print (\"\\nFeatures : \\n\" ,orders_products_test.columns.tolist())\n",
    "print (\"\\nMissing values :  \", orders_products_test.isnull().sum().values.sum())\n",
    "print (\"\\nUnique values :  \\n\",orders_products_test.nunique())"
   ]
  },
  {
   "cell_type": "markdown",
   "metadata": {},
   "source": [
    "## Data Merging"
   ]
  },
  {
   "cell_type": "code",
   "execution_count": 11,
   "metadata": {},
   "outputs": [],
   "source": [
    "merged_data = pd.merge(orders_products_train,orders, on = 'order_id')\n",
    "merged_data = pd.merge(merged_data,products, on = 'product_id')\n",
    "merged_data = pd.merge(merged_data,aisles, on = 'aisle_id')\n",
    "merged_data = pd.merge(merged_data,departments, on = 'department_id')"
   ]
  },
  {
   "cell_type": "markdown",
   "metadata": {},
   "source": [
    "Replacing the missing values in the column 'days_since_prior_order' with '999'"
   ]
  },
  {
   "cell_type": "code",
   "execution_count": 12,
   "metadata": {},
   "outputs": [],
   "source": [
    "merged_data['days_since_prior_order'].fillna('999',inplace = True)"
   ]
  },
  {
   "cell_type": "code",
   "execution_count": 13,
   "metadata": {},
   "outputs": [
    {
     "name": "stdout",
     "output_type": "stream",
     "text": [
      "Rows     :  32434489\n",
      "Columns  :  16\n",
      "\n",
      "Missing values :   [('order_id', 0), ('product_id', 0), ('add_to_cart_order', 0), ('reordered', 0), ('user_id', 0), ('eval_set', 0), ('order_number', 0), ('order_dow', 0), ('order_hour_of_day', 0), ('days_since_prior_order', 0), ('product_name', 0), ('aisle_id', 0), ('department_id', 0), ('aisle', 0), ('Perishables', 0), ('department', 0)]\n",
      "\n",
      "Unique values :  \n",
      " order_id                  3214874\n",
      "product_id                  49677\n",
      "add_to_cart_order             145\n",
      "reordered                       2\n",
      "user_id                    206209\n",
      "eval_set                        1\n",
      "order_number                   99\n",
      "order_dow                       7\n",
      "order_hour_of_day              24\n",
      "days_since_prior_order         32\n",
      "product_name                49677\n",
      "aisle_id                      134\n",
      "department_id                  21\n",
      "aisle                         134\n",
      "Perishables                     2\n",
      "department                     21\n",
      "dtype: int64\n"
     ]
    }
   ],
   "source": [
    "print (\"Rows     : \" ,merged_data.shape[0])\n",
    "print (\"Columns  : \" ,merged_data.shape[1])\n",
    "print (\"\\nMissing values :  \",list(zip(merged_data.columns.tolist(),list(merged_data.isnull().sum().values))))\n",
    "print (\"\\nUnique values :  \\n\",merged_data.nunique())"
   ]
  },
  {
   "cell_type": "markdown",
   "metadata": {},
   "source": [
    "## Data Exploration"
   ]
  },
  {
   "cell_type": "markdown",
   "metadata": {},
   "source": [
    "#### Count of users by number of orders placed"
   ]
  },
  {
   "cell_type": "markdown",
   "metadata": {},
   "source": [
    "We will look at the distribution of number of orders placed by each user - "
   ]
  },
  {
   "cell_type": "code",
   "execution_count": 14,
   "metadata": {},
   "outputs": [],
   "source": [
    "user_order = merged_data[['user_id','order_id']].drop_duplicates().groupby(['user_id']).agg({'order_id' : ['count']}).reset_index()\n",
    "user_order.columns = ['user_id','Orders_Count']\n",
    "user_order = user_order.groupby(['Orders_Count']).agg({'user_id' : ['count']}).reset_index()\n",
    "user_order.columns = ['Order_Count','Users']"
   ]
  },
  {
   "cell_type": "code",
   "execution_count": 15,
   "metadata": {},
   "outputs": [
    {
     "data": {
      "image/png": "[encoded data removed]",
      "text/plain": [
       "<Figure size 1080x720 with 1 Axes>"
      ]
     },
     "metadata": {
      "needs_background": "light"
     },
     "output_type": "display_data"
    }
   ],
   "source": [
    "plt.figure(figsize=(15,10))\n",
    "sns.barplot(x='Order_Count', y='Users',data=user_order, color='cornflowerblue')\n",
    "plt.ylabel('Number of users', fontsize=13)\n",
    "plt.xlabel('Number of orders', fontsize=13)\n",
    "plt.xticks(rotation='vertical')\n",
    "plt.title('Count of users by number of orders placed');"
   ]
  },
  {
   "cell_type": "markdown",
   "metadata": {},
   "source": [
    "We see that it is a right skewed chart with a majority of users having less than 20 orders."
   ]
  },
  {
   "cell_type": "markdown",
   "metadata": {},
   "source": [
    "We will now look at how many products users generally buy in one order"
   ]
  },
  {
   "cell_type": "markdown",
   "metadata": {},
   "source": [
    "#### Count of orders by number of products purchased"
   ]
  },
  {
   "cell_type": "code",
   "execution_count": 16,
   "metadata": {},
   "outputs": [],
   "source": [
    "order_products = merged_data[['order_id','add_to_cart_order']]\n",
    "order_products = order_products.groupby(['order_id']).agg({'add_to_cart_order' : ['max']}).reset_index()\n",
    "order_products.columns = ['order_id','products']\n",
    "order_products = order_products.groupby(['products']).agg({'order_id' : ['count']}).reset_index()\n",
    "order_products.columns = ['no_of_products','orders']"
   ]
  },
  {
   "cell_type": "code",
   "execution_count": 17,
   "metadata": {},
   "outputs": [
    {
     "data": {
      "image/png": "[encoded data removed]",
      "text/plain": [
       "<Figure size 1080x720 with 1 Axes>"
      ]
     },
     "metadata": {
      "needs_background": "light"
     },
     "output_type": "display_data"
    }
   ],
   "source": [
    "plt.figure(figsize=(15,10))\n",
    "sns.barplot(x='no_of_products', y='orders',data=order_products, color='cornflowerblue')\n",
    "plt.ylabel('Number of orders', fontsize=13)\n",
    "plt.xlabel('Product Count', fontsize=13)\n",
    "plt.xticks(rotation='vertical')\n",
    "plt.title('Count of orders by number of products purchased');"
   ]
  },
  {
   "cell_type": "markdown",
   "metadata": {},
   "source": [
    "The plot follows a right skew distribution and we notice that most of the orders contains upto 10 products in the order"
   ]
  },
  {
   "cell_type": "markdown",
   "metadata": {},
   "source": [
    "We will look if the orders peak on a particular day of the week"
   ]
  },
  {
   "cell_type": "markdown",
   "metadata": {},
   "source": [
    "#### Count of Orders by each Day in the Week "
   ]
  },
  {
   "cell_type": "code",
   "execution_count": 18,
   "metadata": {},
   "outputs": [
    {
     "data": {
      "text/plain": [
       "(7, 2)"
      ]
     },
     "execution_count": 18,
     "metadata": {},
     "output_type": "execute_result"
    }
   ],
   "source": [
    "orderperday = merged_data[['order_dow','order_id']].drop_duplicates().groupby('order_dow').agg({'order_id' : ['count']}).reset_index()\n",
    "orderperday.columns = ['Day_Week','Orders']\n",
    "orderperday.shape"
   ]
  },
  {
   "cell_type": "code",
   "execution_count": 19,
   "metadata": {},
   "outputs": [
    {
     "data": {
      "image/png": "[encoded data removed]",
      "text/plain": [
       "<Figure size 432x288 with 1 Axes>"
      ]
     },
     "metadata": {
      "needs_background": "light"
     },
     "output_type": "display_data"
    }
   ],
   "source": [
    "sns.barplot(x='Day_Week', y='Orders',data=orderperday, color='cornflowerblue')\n",
    "plt.ylabel('Number of orders', fontsize=13)\n",
    "plt.xlabel('Order Day in the Week', fontsize=13)\n",
    "plt.title('Count of Orders by each Day in the Week');"
   ]
  },
  {
   "cell_type": "markdown",
   "metadata": {},
   "source": [
    "We see that most of the orders are placed on day = 0 and day = 1."
   ]
  },
  {
   "cell_type": "markdown",
   "metadata": {},
   "source": [
    "#### Count of Orders by Hour in each Day"
   ]
  },
  {
   "cell_type": "code",
   "execution_count": 20,
   "metadata": {},
   "outputs": [
    {
     "data": {
      "text/plain": [
       "(24, 2)"
      ]
     },
     "execution_count": 20,
     "metadata": {},
     "output_type": "execute_result"
    }
   ],
   "source": [
    "orderperhour = merged_data[['order_hour_of_day','order_id']].drop_duplicates().groupby('order_hour_of_day').agg({'order_id' : ['count']}).reset_index()\n",
    "orderperhour.columns = ['Day_hour','Orders']\n",
    "orderperhour.shape"
   ]
  },
  {
   "cell_type": "code",
   "execution_count": 21,
   "metadata": {},
   "outputs": [
    {
     "data": {
      "image/png": "[encoded data removed]",
      "text/plain": [
       "<Figure size 432x288 with 1 Axes>"
      ]
     },
     "metadata": {
      "needs_background": "light"
     },
     "output_type": "display_data"
    }
   ],
   "source": [
    "sns.barplot(x='Day_hour', y='Orders',data=orderperhour, color='cornflowerblue')\n",
    "plt.ylabel('Number of orders', fontsize=13)\n",
    "plt.xlabel('Order Hour in the Day', fontsize=13)\n",
    "plt.title('Count of Orders by Hour in each Day');"
   ]
  },
  {
   "cell_type": "markdown",
   "metadata": {},
   "source": [
    "Most of the ordering activity occurs between 9AM to 4PM before the number of orders placed goes down."
   ]
  },
  {
   "cell_type": "markdown",
   "metadata": {},
   "source": [
    "We will now check how often customers place orders on Instacart"
   ]
  },
  {
   "cell_type": "markdown",
   "metadata": {},
   "source": [
    "#### Distribution showing how frequently users order "
   ]
  },
  {
   "cell_type": "code",
   "execution_count": 22,
   "metadata": {},
   "outputs": [
    {
     "data": {
      "text/html": [
       "<div>\n",
       "<style scoped>\n",
       "    .dataframe tbody tr th:only-of-type {\n",
       "        vertical-align: middle;\n",
       "    }\n",
       "\n",
       "    .dataframe tbody tr th {\n",
       "        vertical-align: top;\n",
       "    }\n",
       "\n",
       "    .dataframe thead th {\n",
       "        text-align: right;\n",
       "    }\n",
       "</style>\n",
       "<table border=\"1\" class=\"dataframe\">\n",
       "  <thead>\n",
       "    <tr style=\"text-align: right;\">\n",
       "      <th></th>\n",
       "      <th>user_id</th>\n",
       "      <th>order_id</th>\n",
       "      <th>days_since_prior_order</th>\n",
       "    </tr>\n",
       "  </thead>\n",
       "  <tbody>\n",
       "    <tr>\n",
       "      <th>0</th>\n",
       "      <td>202279</td>\n",
       "      <td>2</td>\n",
       "      <td>8</td>\n",
       "    </tr>\n",
       "    <tr>\n",
       "      <th>1</th>\n",
       "      <td>153404</td>\n",
       "      <td>26</td>\n",
       "      <td>7</td>\n",
       "    </tr>\n",
       "    <tr>\n",
       "      <th>2</th>\n",
       "      <td>23750</td>\n",
       "      <td>120</td>\n",
       "      <td>10</td>\n",
       "    </tr>\n",
       "    <tr>\n",
       "      <th>3</th>\n",
       "      <td>58707</td>\n",
       "      <td>327</td>\n",
       "      <td>8</td>\n",
       "    </tr>\n",
       "    <tr>\n",
       "      <th>4</th>\n",
       "      <td>166654</td>\n",
       "      <td>390</td>\n",
       "      <td>9</td>\n",
       "    </tr>\n",
       "  </tbody>\n",
       "</table>\n",
       "</div>"
      ],
      "text/plain": [
       "   user_id  order_id  days_since_prior_order\n",
       "0   202279         2                       8\n",
       "1   153404        26                       7\n",
       "2    23750       120                      10\n",
       "3    58707       327                       8\n",
       "4   166654       390                       9"
      ]
     },
     "execution_count": 22,
     "metadata": {},
     "output_type": "execute_result"
    }
   ],
   "source": [
    "customerorderprior = merged_data[['user_id','order_id','days_since_prior_order']].drop_duplicates()\n",
    "customerorderprior = customerorderprior.loc[customerorderprior['days_since_prior_order'] != '999']\n",
    "customerorderprior = customerorderprior.astype('int64', copy = False)\n",
    "customerorderprior.head()"
   ]
  },
  {
   "cell_type": "code",
   "execution_count": 23,
   "metadata": {},
   "outputs": [],
   "source": [
    "#customerorderprior.groupby(['user_id'])['days_since_prior_order'].agg(pd.Series.mode).to_frame()\n",
    "customerorderprior = customerorderprior.groupby('user_id')['days_since_prior_order'].apply(lambda x: x.value_counts().index[0]).reset_index()"
   ]
  },
  {
   "cell_type": "code",
   "execution_count": 24,
   "metadata": {},
   "outputs": [
    {
     "data": {
      "text/html": [
       "<div>\n",
       "<style scoped>\n",
       "    .dataframe tbody tr th:only-of-type {\n",
       "        vertical-align: middle;\n",
       "    }\n",
       "\n",
       "    .dataframe tbody tr th {\n",
       "        vertical-align: top;\n",
       "    }\n",
       "\n",
       "    .dataframe thead th {\n",
       "        text-align: right;\n",
       "    }\n",
       "</style>\n",
       "<table border=\"1\" class=\"dataframe\">\n",
       "  <thead>\n",
       "    <tr style=\"text-align: right;\">\n",
       "      <th></th>\n",
       "      <th>user_id</th>\n",
       "      <th>days_since_prior_order</th>\n",
       "    </tr>\n",
       "  </thead>\n",
       "  <tbody>\n",
       "    <tr>\n",
       "      <th>0</th>\n",
       "      <td>1</td>\n",
       "      <td>14</td>\n",
       "    </tr>\n",
       "    <tr>\n",
       "      <th>1</th>\n",
       "      <td>2</td>\n",
       "      <td>8</td>\n",
       "    </tr>\n",
       "    <tr>\n",
       "      <th>2</th>\n",
       "      <td>3</td>\n",
       "      <td>7</td>\n",
       "    </tr>\n",
       "    <tr>\n",
       "      <th>3</th>\n",
       "      <td>4</td>\n",
       "      <td>15</td>\n",
       "    </tr>\n",
       "    <tr>\n",
       "      <th>4</th>\n",
       "      <td>5</td>\n",
       "      <td>19</td>\n",
       "    </tr>\n",
       "  </tbody>\n",
       "</table>\n",
       "</div>"
      ],
      "text/plain": [
       "   user_id  days_since_prior_order\n",
       "0        1                      14\n",
       "1        2                       8\n",
       "2        3                       7\n",
       "3        4                      15\n",
       "4        5                      19"
      ]
     },
     "execution_count": 24,
     "metadata": {},
     "output_type": "execute_result"
    }
   ],
   "source": [
    "customerorderprior.head()\n",
    "#print (\"\\nUnique values :  \\n\",customerorderprior.nunique())"
   ]
  },
  {
   "cell_type": "code",
   "execution_count": 25,
   "metadata": {},
   "outputs": [
    {
     "data": {
      "text/html": [
       "<div>\n",
       "<style scoped>\n",
       "    .dataframe tbody tr th:only-of-type {\n",
       "        vertical-align: middle;\n",
       "    }\n",
       "\n",
       "    .dataframe tbody tr th {\n",
       "        vertical-align: top;\n",
       "    }\n",
       "\n",
       "    .dataframe thead th {\n",
       "        text-align: right;\n",
       "    }\n",
       "</style>\n",
       "<table border=\"1\" class=\"dataframe\">\n",
       "  <thead>\n",
       "    <tr style=\"text-align: right;\">\n",
       "      <th></th>\n",
       "      <th>days_since_prior_order</th>\n",
       "      <th>users</th>\n",
       "    </tr>\n",
       "  </thead>\n",
       "  <tbody>\n",
       "    <tr>\n",
       "      <th>0</th>\n",
       "      <td>0</td>\n",
       "      <td>1029</td>\n",
       "    </tr>\n",
       "    <tr>\n",
       "      <th>1</th>\n",
       "      <td>1</td>\n",
       "      <td>3393</td>\n",
       "    </tr>\n",
       "    <tr>\n",
       "      <th>2</th>\n",
       "      <td>2</td>\n",
       "      <td>5792</td>\n",
       "    </tr>\n",
       "    <tr>\n",
       "      <th>3</th>\n",
       "      <td>3</td>\n",
       "      <td>7931</td>\n",
       "    </tr>\n",
       "    <tr>\n",
       "      <th>4</th>\n",
       "      <td>4</td>\n",
       "      <td>7019</td>\n",
       "    </tr>\n",
       "  </tbody>\n",
       "</table>\n",
       "</div>"
      ],
      "text/plain": [
       "   days_since_prior_order  users\n",
       "0                       0   1029\n",
       "1                       1   3393\n",
       "2                       2   5792\n",
       "3                       3   7931\n",
       "4                       4   7019"
      ]
     },
     "execution_count": 25,
     "metadata": {},
     "output_type": "execute_result"
    }
   ],
   "source": [
    "customerorderprior = customerorderprior.groupby('days_since_prior_order').agg({'user_id' : ['count']}).reset_index()\n",
    "customerorderprior.columns = ['days_since_prior_order','users']\n",
    "customerorderprior.head()"
   ]
  },
  {
   "cell_type": "code",
   "execution_count": 26,
   "metadata": {},
   "outputs": [
    {
     "data": {
      "image/png": "[encoded data removed]",
      "text/plain": [
       "<Figure size 1080x720 with 1 Axes>"
      ]
     },
     "metadata": {
      "needs_background": "light"
     },
     "output_type": "display_data"
    }
   ],
   "source": [
    "plt.figure(figsize=(15,10))\n",
    "sns.barplot(x='days_since_prior_order', y='users',data=customerorderprior, color='cornflowerblue')\n",
    "plt.ylabel('Number of users', fontsize=13)\n",
    "plt.xlabel('Days since prior order', fontsize=13)\n",
    "plt.title('Distribution showing how frequently users order');"
   ]
  },
  {
   "cell_type": "markdown",
   "metadata": {},
   "source": [
    "The customers who order frequently i.e. every week can be targeted for experimentation with perishable products."
   ]
  },
  {
   "cell_type": "markdown",
   "metadata": {},
   "source": [
    "We will go ahead and see what are the products that are driving the orders i.e. the rank of the product in the cart should be 1"
   ]
  },
  {
   "cell_type": "markdown",
   "metadata": {},
   "source": [
    "#### Top 25 products which are driving orders "
   ]
  },
  {
   "cell_type": "code",
   "execution_count": 27,
   "metadata": {},
   "outputs": [],
   "source": [
    "productorderpreference = merged_data[['order_id','product_id','add_to_cart_order']]\n",
    "productorderpreference = productorderpreference[(productorderpreference.add_to_cart_order == 1)]\n",
    "productorderpreference = productorderpreference[['order_id','product_id']]\n",
    "productorderpreference = productorderpreference.groupby('product_id').agg({'order_id' : ['count']}).reset_index()\n",
    "productorderpreference.columns = ['product_id','orders']\n",
    "productorderpreference['orderspercent'] = productorderpreference['orders']/productorderpreference['orders'].sum()\n",
    "productorderpreference = productorderpreference.sort_values(by='orderspercent', ascending=False)"
   ]
  },
  {
   "cell_type": "code",
   "execution_count": 28,
   "metadata": {},
   "outputs": [
    {
     "data": {
      "image/png": "[encoded data removed]",
      "text/plain": [
       "<Figure size 1080x720 with 1 Axes>"
      ]
     },
     "metadata": {
      "needs_background": "light"
     },
     "output_type": "display_data"
    }
   ],
   "source": [
    "plt.figure(figsize=(15,10))\n",
    "sns.barplot(x='product_id', y='orders',data=productorderpreference.iloc[:25, :], color='cornflowerblue')\n",
    "plt.ylabel('Number of orders', fontsize=13)\n",
    "plt.xlabel('Produt ID', fontsize=13)\n",
    "plt.title('Top 25 products which are driving orders')\n",
    "plt.xticks(rotation = 45);"
   ]
  },
  {
   "cell_type": "markdown",
   "metadata": {},
   "source": [
    "Let us check what is the order percent for these 25 products"
   ]
  },
  {
   "cell_type": "code",
   "execution_count": 29,
   "metadata": {},
   "outputs": [
    {
     "data": {
      "image/png": "[encoded data removed]",
      "text/plain": [
       "<Figure size 1080x720 with 1 Axes>"
      ]
     },
     "metadata": {
      "needs_background": "light"
     },
     "output_type": "display_data"
    }
   ],
   "source": [
    "plt.figure(figsize=(15,10))\n",
    "sns.barplot(x='product_id', y='orderspercent',data=productorderpreference.iloc[:25, :], color='cornflowerblue')\n",
    "plt.ylabel('Order Percentage', fontsize=13)\n",
    "plt.xlabel('Produt ID', fontsize=13)\n",
    "plt.title('Top 25 products which are driving orders');\n",
    "plt.xticks(rotation = 45);"
   ]
  },
  {
   "cell_type": "markdown",
   "metadata": {},
   "source": [
    "#### Top 2 products which are driving most of the orders "
   ]
  },
  {
   "cell_type": "markdown",
   "metadata": {},
   "source": [
    "The top 2 products which are driving most of the orders are 24852 and 13176. They are present in 3.5% and 2.5% of all the orders. Let us see what department and aisle these products belong to."
   ]
  },
  {
   "cell_type": "code",
   "execution_count": 30,
   "metadata": {},
   "outputs": [
    {
     "data": {
      "text/html": [
       "<div>\n",
       "<style scoped>\n",
       "    .dataframe tbody tr th:only-of-type {\n",
       "        vertical-align: middle;\n",
       "    }\n",
       "\n",
       "    .dataframe tbody tr th {\n",
       "        vertical-align: top;\n",
       "    }\n",
       "\n",
       "    .dataframe thead th {\n",
       "        text-align: right;\n",
       "    }\n",
       "</style>\n",
       "<table border=\"1\" class=\"dataframe\">\n",
       "  <thead>\n",
       "    <tr style=\"text-align: right;\">\n",
       "      <th></th>\n",
       "      <th>product_id</th>\n",
       "      <th>product_name</th>\n",
       "      <th>aisle</th>\n",
       "      <th>department</th>\n",
       "    </tr>\n",
       "  </thead>\n",
       "  <tbody>\n",
       "    <tr>\n",
       "      <th>10597350</th>\n",
       "      <td>13176</td>\n",
       "      <td>Bag of Organic Bananas</td>\n",
       "      <td>fresh fruits</td>\n",
       "      <td>produce</td>\n",
       "    </tr>\n",
       "    <tr>\n",
       "      <th>11196487</th>\n",
       "      <td>24852</td>\n",
       "      <td>Banana</td>\n",
       "      <td>fresh fruits</td>\n",
       "      <td>produce</td>\n",
       "    </tr>\n",
       "  </tbody>\n",
       "</table>\n",
       "</div>"
      ],
      "text/plain": [
       "          product_id            product_name         aisle department\n",
       "10597350       13176  Bag of Organic Bananas  fresh fruits    produce\n",
       "11196487       24852                  Banana  fresh fruits    produce"
      ]
     },
     "execution_count": 30,
     "metadata": {},
     "output_type": "execute_result"
    }
   ],
   "source": [
    "Top2drivingproducts = merged_data[(merged_data.product_id == 24852) | (merged_data.product_id == 13176)]\n",
    "Top2drivingproducts = Top2drivingproducts[['product_id','product_name','aisle','department']].drop_duplicates()\n",
    "Top2drivingproducts"
   ]
  },
  {
   "cell_type": "markdown",
   "metadata": {},
   "source": [
    "Both the top 2 products are from the 'produce' department and the 'fresh fruits' aisle"
   ]
  },
  {
   "cell_type": "markdown",
   "metadata": {},
   "source": [
    "We will check how many of the products are being re-ordered across departments and aisles. Let us plot the top 20 departmenst and aisles with highest re-order ratio"
   ]
  },
  {
   "cell_type": "markdown",
   "metadata": {},
   "source": [
    "#### Departments and their highest re-order percentage "
   ]
  },
  {
   "cell_type": "code",
   "execution_count": 31,
   "metadata": {},
   "outputs": [],
   "source": [
    "department_re_order = merged_data.groupby('department').agg({'reordered' : ['mean']}).reset_index()\n",
    "department_re_order.columns = ['department','re_order_ratio']\n",
    "department_re_order = department_re_order.sort_values(by='re_order_ratio', ascending=False)"
   ]
  },
  {
   "cell_type": "code",
   "execution_count": 32,
   "metadata": {},
   "outputs": [
    {
     "data": {
      "image/png": "[encoded data removed]",
      "text/plain": [
       "<Figure size 1080x720 with 1 Axes>"
      ]
     },
     "metadata": {
      "needs_background": "light"
     },
     "output_type": "display_data"
    }
   ],
   "source": [
    "plt.figure(figsize=(15,10))\n",
    "sns.barplot(x='department', y='re_order_ratio',data=department_re_order, color='cornflowerblue')\n",
    "plt.ylabel('Re-order Percentage', fontsize=13)\n",
    "plt.xlabel('Department', fontsize=13)\n",
    "plt.title('Departments and their highest re-order percentage');\n",
    "plt.xticks(rotation = 45);"
   ]
  },
  {
   "cell_type": "markdown",
   "metadata": {},
   "source": [
    "Departments dairy eggs, beverages, and produce are the top 3 departments with highest re-order percentage. International, pantry and personal care are the departments with the lowest re-order percentage.\n",
    "\n",
    "We will now repeat the same exercise for aisles. As the number of aisles are 134, we will look at the top 20 aisles with highest re-order percentage."
   ]
  },
  {
   "cell_type": "markdown",
   "metadata": {},
   "source": [
    "#### Top 20 aisles with highest re-order percentage "
   ]
  },
  {
   "cell_type": "code",
   "execution_count": 33,
   "metadata": {},
   "outputs": [],
   "source": [
    "aisle_re_order = merged_data.groupby('aisle').agg({'reordered' : ['mean']}).reset_index()\n",
    "aisle_re_order.columns = ['aisle','re_order_ratio']\n",
    "aisle_re_order = aisle_re_order.sort_values(by='re_order_ratio', ascending=False)"
   ]
  },
  {
   "cell_type": "code",
   "execution_count": 34,
   "metadata": {},
   "outputs": [
    {
     "data": {
      "text/html": [
       "<div>\n",
       "<style scoped>\n",
       "    .dataframe tbody tr th:only-of-type {\n",
       "        vertical-align: middle;\n",
       "    }\n",
       "\n",
       "    .dataframe tbody tr th {\n",
       "        vertical-align: top;\n",
       "    }\n",
       "\n",
       "    .dataframe thead th {\n",
       "        text-align: right;\n",
       "    }\n",
       "</style>\n",
       "<table border=\"1\" class=\"dataframe\">\n",
       "  <thead>\n",
       "    <tr style=\"text-align: right;\">\n",
       "      <th></th>\n",
       "      <th>aisle</th>\n",
       "      <th>re_order_ratio</th>\n",
       "    </tr>\n",
       "  </thead>\n",
       "  <tbody>\n",
       "    <tr>\n",
       "      <th>83</th>\n",
       "      <td>milk</td>\n",
       "      <td>0.781428</td>\n",
       "    </tr>\n",
       "    <tr>\n",
       "      <th>131</th>\n",
       "      <td>water seltzer sparkling water</td>\n",
       "      <td>0.729593</td>\n",
       "    </tr>\n",
       "    <tr>\n",
       "      <th>50</th>\n",
       "      <td>fresh fruits</td>\n",
       "      <td>0.718104</td>\n",
       "    </tr>\n",
       "    <tr>\n",
       "      <th>41</th>\n",
       "      <td>eggs</td>\n",
       "      <td>0.705366</td>\n",
       "    </tr>\n",
       "    <tr>\n",
       "      <th>119</th>\n",
       "      <td>soy lactosefree</td>\n",
       "      <td>0.692551</td>\n",
       "    </tr>\n",
       "    <tr>\n",
       "      <th>96</th>\n",
       "      <td>packaged produce</td>\n",
       "      <td>0.690734</td>\n",
       "    </tr>\n",
       "    <tr>\n",
       "      <th>133</th>\n",
       "      <td>yogurt</td>\n",
       "      <td>0.686489</td>\n",
       "    </tr>\n",
       "    <tr>\n",
       "      <th>33</th>\n",
       "      <td>cream</td>\n",
       "      <td>0.685046</td>\n",
       "    </tr>\n",
       "    <tr>\n",
       "      <th>11</th>\n",
       "      <td>bread</td>\n",
       "      <td>0.670168</td>\n",
       "    </tr>\n",
       "    <tr>\n",
       "      <th>110</th>\n",
       "      <td>refrigerated</td>\n",
       "      <td>0.663302</td>\n",
       "    </tr>\n",
       "    <tr>\n",
       "      <th>12</th>\n",
       "      <td>breakfast bakery</td>\n",
       "      <td>0.651222</td>\n",
       "    </tr>\n",
       "    <tr>\n",
       "      <th>43</th>\n",
       "      <td>energy sports drinks</td>\n",
       "      <td>0.649607</td>\n",
       "    </tr>\n",
       "    <tr>\n",
       "      <th>117</th>\n",
       "      <td>soft drinks</td>\n",
       "      <td>0.638832</td>\n",
       "    </tr>\n",
       "    <tr>\n",
       "      <th>98</th>\n",
       "      <td>packaged vegetables fruits</td>\n",
       "      <td>0.638514</td>\n",
       "    </tr>\n",
       "    <tr>\n",
       "      <th>132</th>\n",
       "      <td>white wines</td>\n",
       "      <td>0.630081</td>\n",
       "    </tr>\n",
       "    <tr>\n",
       "      <th>56</th>\n",
       "      <td>frozen breakfast</td>\n",
       "      <td>0.626221</td>\n",
       "    </tr>\n",
       "    <tr>\n",
       "      <th>23</th>\n",
       "      <td>cat food care</td>\n",
       "      <td>0.620883</td>\n",
       "    </tr>\n",
       "    <tr>\n",
       "      <th>14</th>\n",
       "      <td>bulk dried fruits vegetables</td>\n",
       "      <td>0.620394</td>\n",
       "    </tr>\n",
       "    <tr>\n",
       "      <th>128</th>\n",
       "      <td>trail mix snack mix</td>\n",
       "      <td>0.620230</td>\n",
       "    </tr>\n",
       "    <tr>\n",
       "      <th>105</th>\n",
       "      <td>prepared meals</td>\n",
       "      <td>0.619759</td>\n",
       "    </tr>\n",
       "    <tr>\n",
       "      <th>28</th>\n",
       "      <td>coffee</td>\n",
       "      <td>0.619727</td>\n",
       "    </tr>\n",
       "    <tr>\n",
       "      <th>104</th>\n",
       "      <td>poultry counter</td>\n",
       "      <td>0.612860</td>\n",
       "    </tr>\n",
       "    <tr>\n",
       "      <th>49</th>\n",
       "      <td>fresh dips tapenades</td>\n",
       "      <td>0.607931</td>\n",
       "    </tr>\n",
       "    <tr>\n",
       "      <th>126</th>\n",
       "      <td>tofu meat alternatives</td>\n",
       "      <td>0.607775</td>\n",
       "    </tr>\n",
       "    <tr>\n",
       "      <th>80</th>\n",
       "      <td>lunch meat</td>\n",
       "      <td>0.606517</td>\n",
       "    </tr>\n",
       "    <tr>\n",
       "      <th>95</th>\n",
       "      <td>packaged poultry</td>\n",
       "      <td>0.599230</td>\n",
       "    </tr>\n",
       "    <tr>\n",
       "      <th>66</th>\n",
       "      <td>granola</td>\n",
       "      <td>0.599113</td>\n",
       "    </tr>\n",
       "    <tr>\n",
       "      <th>42</th>\n",
       "      <td>energy granola bars</td>\n",
       "      <td>0.598007</td>\n",
       "    </tr>\n",
       "    <tr>\n",
       "      <th>106</th>\n",
       "      <td>prepared soups salads</td>\n",
       "      <td>0.596597</td>\n",
       "    </tr>\n",
       "    <tr>\n",
       "      <th>53</th>\n",
       "      <td>fresh vegetables</td>\n",
       "      <td>0.594546</td>\n",
       "    </tr>\n",
       "    <tr>\n",
       "      <th>...</th>\n",
       "      <td>...</td>\n",
       "      <td>...</td>\n",
       "    </tr>\n",
       "    <tr>\n",
       "      <th>89</th>\n",
       "      <td>oils vinegars</td>\n",
       "      <td>0.350843</td>\n",
       "    </tr>\n",
       "    <tr>\n",
       "      <th>87</th>\n",
       "      <td>muscles joints pain relief</td>\n",
       "      <td>0.343093</td>\n",
       "    </tr>\n",
       "    <tr>\n",
       "      <th>112</th>\n",
       "      <td>salad dressing toppings</td>\n",
       "      <td>0.341414</td>\n",
       "    </tr>\n",
       "    <tr>\n",
       "      <th>129</th>\n",
       "      <td>trash bags liners</td>\n",
       "      <td>0.335744</td>\n",
       "    </tr>\n",
       "    <tr>\n",
       "      <th>10</th>\n",
       "      <td>body lotions soap</td>\n",
       "      <td>0.329376</td>\n",
       "    </tr>\n",
       "    <tr>\n",
       "      <th>90</th>\n",
       "      <td>oral hygiene</td>\n",
       "      <td>0.321354</td>\n",
       "    </tr>\n",
       "    <tr>\n",
       "      <th>46</th>\n",
       "      <td>feminine care</td>\n",
       "      <td>0.320812</td>\n",
       "    </tr>\n",
       "    <tr>\n",
       "      <th>116</th>\n",
       "      <td>soap</td>\n",
       "      <td>0.318925</td>\n",
       "    </tr>\n",
       "    <tr>\n",
       "      <th>45</th>\n",
       "      <td>facial care</td>\n",
       "      <td>0.316871</td>\n",
       "    </tr>\n",
       "    <tr>\n",
       "      <th>130</th>\n",
       "      <td>vitamins supplements</td>\n",
       "      <td>0.311503</td>\n",
       "    </tr>\n",
       "    <tr>\n",
       "      <th>0</th>\n",
       "      <td>air fresheners candles</td>\n",
       "      <td>0.309052</td>\n",
       "    </tr>\n",
       "    <tr>\n",
       "      <th>30</th>\n",
       "      <td>condiments</td>\n",
       "      <td>0.308581</td>\n",
       "    </tr>\n",
       "    <tr>\n",
       "      <th>6</th>\n",
       "      <td>baking ingredients</td>\n",
       "      <td>0.305082</td>\n",
       "    </tr>\n",
       "    <tr>\n",
       "      <th>3</th>\n",
       "      <td>baby bath body care</td>\n",
       "      <td>0.295770</td>\n",
       "    </tr>\n",
       "    <tr>\n",
       "      <th>26</th>\n",
       "      <td>cleaning products</td>\n",
       "      <td>0.288537</td>\n",
       "    </tr>\n",
       "    <tr>\n",
       "      <th>81</th>\n",
       "      <td>marinades meat preparation</td>\n",
       "      <td>0.280627</td>\n",
       "    </tr>\n",
       "    <tr>\n",
       "      <th>72</th>\n",
       "      <td>ice cream toppings</td>\n",
       "      <td>0.266917</td>\n",
       "    </tr>\n",
       "    <tr>\n",
       "      <th>114</th>\n",
       "      <td>shave needs</td>\n",
       "      <td>0.262181</td>\n",
       "    </tr>\n",
       "    <tr>\n",
       "      <th>48</th>\n",
       "      <td>food storage</td>\n",
       "      <td>0.255042</td>\n",
       "    </tr>\n",
       "    <tr>\n",
       "      <th>86</th>\n",
       "      <td>more household</td>\n",
       "      <td>0.249629</td>\n",
       "    </tr>\n",
       "    <tr>\n",
       "      <th>67</th>\n",
       "      <td>hair care</td>\n",
       "      <td>0.245838</td>\n",
       "    </tr>\n",
       "    <tr>\n",
       "      <th>115</th>\n",
       "      <td>skin care</td>\n",
       "      <td>0.242031</td>\n",
       "    </tr>\n",
       "    <tr>\n",
       "      <th>34</th>\n",
       "      <td>deodorants</td>\n",
       "      <td>0.236855</td>\n",
       "    </tr>\n",
       "    <tr>\n",
       "      <th>29</th>\n",
       "      <td>cold flu allergy</td>\n",
       "      <td>0.236215</td>\n",
       "    </tr>\n",
       "    <tr>\n",
       "      <th>44</th>\n",
       "      <td>eye ear care</td>\n",
       "      <td>0.217294</td>\n",
       "    </tr>\n",
       "    <tr>\n",
       "      <th>8</th>\n",
       "      <td>beauty</td>\n",
       "      <td>0.212062</td>\n",
       "    </tr>\n",
       "    <tr>\n",
       "      <th>76</th>\n",
       "      <td>kitchen supplies</td>\n",
       "      <td>0.195377</td>\n",
       "    </tr>\n",
       "    <tr>\n",
       "      <th>47</th>\n",
       "      <td>first aid</td>\n",
       "      <td>0.194812</td>\n",
       "    </tr>\n",
       "    <tr>\n",
       "      <th>7</th>\n",
       "      <td>baking supplies decor</td>\n",
       "      <td>0.167229</td>\n",
       "    </tr>\n",
       "    <tr>\n",
       "      <th>122</th>\n",
       "      <td>spices seasonings</td>\n",
       "      <td>0.152391</td>\n",
       "    </tr>\n",
       "  </tbody>\n",
       "</table>\n",
       "<p>134 rows × 2 columns</p>\n",
       "</div>"
      ],
      "text/plain": [
       "                             aisle  re_order_ratio\n",
       "83                            milk        0.781428\n",
       "131  water seltzer sparkling water        0.729593\n",
       "50                    fresh fruits        0.718104\n",
       "41                            eggs        0.705366\n",
       "119                soy lactosefree        0.692551\n",
       "96                packaged produce        0.690734\n",
       "133                         yogurt        0.686489\n",
       "33                           cream        0.685046\n",
       "11                           bread        0.670168\n",
       "110                   refrigerated        0.663302\n",
       "12                breakfast bakery        0.651222\n",
       "43            energy sports drinks        0.649607\n",
       "117                    soft drinks        0.638832\n",
       "98      packaged vegetables fruits        0.638514\n",
       "132                    white wines        0.630081\n",
       "56                frozen breakfast        0.626221\n",
       "23                   cat food care        0.620883\n",
       "14    bulk dried fruits vegetables        0.620394\n",
       "128            trail mix snack mix        0.620230\n",
       "105                 prepared meals        0.619759\n",
       "28                          coffee        0.619727\n",
       "104                poultry counter        0.612860\n",
       "49            fresh dips tapenades        0.607931\n",
       "126         tofu meat alternatives        0.607775\n",
       "80                      lunch meat        0.606517\n",
       "95                packaged poultry        0.599230\n",
       "66                         granola        0.599113\n",
       "42             energy granola bars        0.598007\n",
       "106          prepared soups salads        0.596597\n",
       "53                fresh vegetables        0.594546\n",
       "..                             ...             ...\n",
       "89                   oils vinegars        0.350843\n",
       "87      muscles joints pain relief        0.343093\n",
       "112        salad dressing toppings        0.341414\n",
       "129              trash bags liners        0.335744\n",
       "10               body lotions soap        0.329376\n",
       "90                    oral hygiene        0.321354\n",
       "46                   feminine care        0.320812\n",
       "116                           soap        0.318925\n",
       "45                     facial care        0.316871\n",
       "130           vitamins supplements        0.311503\n",
       "0           air fresheners candles        0.309052\n",
       "30                      condiments        0.308581\n",
       "6               baking ingredients        0.305082\n",
       "3              baby bath body care        0.295770\n",
       "26               cleaning products        0.288537\n",
       "81      marinades meat preparation        0.280627\n",
       "72              ice cream toppings        0.266917\n",
       "114                    shave needs        0.262181\n",
       "48                    food storage        0.255042\n",
       "86                  more household        0.249629\n",
       "67                       hair care        0.245838\n",
       "115                      skin care        0.242031\n",
       "34                      deodorants        0.236855\n",
       "29                cold flu allergy        0.236215\n",
       "44                    eye ear care        0.217294\n",
       "8                           beauty        0.212062\n",
       "76                kitchen supplies        0.195377\n",
       "47                       first aid        0.194812\n",
       "7            baking supplies decor        0.167229\n",
       "122              spices seasonings        0.152391\n",
       "\n",
       "[134 rows x 2 columns]"
      ]
     },
     "execution_count": 34,
     "metadata": {},
     "output_type": "execute_result"
    }
   ],
   "source": [
    "aisle_re_order"
   ]
  },
  {
   "cell_type": "code",
   "execution_count": 35,
   "metadata": {},
   "outputs": [
    {
     "data": {
      "image/png": "[encoded data removed]",
      "text/plain": [
       "<Figure size 1080x720 with 1 Axes>"
      ]
     },
     "metadata": {
      "needs_background": "light"
     },
     "output_type": "display_data"
    }
   ],
   "source": [
    "plt.figure(figsize=(15,10))\n",
    "sns.barplot(x='aisle', y='re_order_ratio',data=aisle_re_order.iloc[:20, :], color='cornflowerblue')\n",
    "plt.ylabel('Re-order Percentage', fontsize=13)\n",
    "plt.xlabel('Aisle', fontsize=13)\n",
    "plt.title('Top 20 aisles with highest re-order percentage');\n",
    "plt.xticks(rotation = 45);"
   ]
  },
  {
   "cell_type": "markdown",
   "metadata": {},
   "source": [
    "The top 3 aisles with highest re-order percentage are milk, water seltzer sparkling water, and fresh fruits. The bottom 3 aisles with the lowest re-order percentage are spices seasonings, baking supplies decor, and first - aid."
   ]
  },
  {
   "cell_type": "markdown",
   "metadata": {},
   "source": [
    "Let us look at the re-order percentage by both the day of week and hour of the day"
   ]
  },
  {
   "cell_type": "markdown",
   "metadata": {},
   "source": [
    "#### Reorder percent by day of week and hour of day "
   ]
  },
  {
   "cell_type": "code",
   "execution_count": 36,
   "metadata": {},
   "outputs": [],
   "source": [
    "re_order_pattern = merged_data.groupby(['order_dow','order_hour_of_day']).agg({'reordered' : ['mean']}).reset_index()\n",
    "re_order_pattern.columns = ['order_dow','order_hour_of_day','re_order_percent']\n",
    "re_order_pattern = re_order_pattern.pivot('order_dow','order_hour_of_day','re_order_percent')"
   ]
  },
  {
   "cell_type": "code",
   "execution_count": 37,
   "metadata": {},
   "outputs": [
    {
     "data": {
      "image/png": "[encoded data removed]",
      "text/plain": [
       "<Figure size 864x432 with 2 Axes>"
      ]
     },
     "metadata": {
      "needs_background": "light"
     },
     "output_type": "display_data"
    }
   ],
   "source": [
    "plt.figure(figsize=(12,6))\n",
    "sns.heatmap(re_order_pattern)\n",
    "plt.ylabel('Order day of week', fontsize=13)\n",
    "plt.xlabel('Order hour of the day', fontsize=13)\n",
    "plt.title(\"Reorder percent by day of week and hour of day\");"
   ]
  },
  {
   "cell_type": "markdown",
   "metadata": {},
   "source": [
    "Most of the products that are re-ordered occur between 6AM to 9AM thriughout the week. The highest re-order percentage is on day 1 at 7AM."
   ]
  },
  {
   "cell_type": "markdown",
   "metadata": {},
   "source": [
    "We can check if the order in which the products are added to the cart influence the re-ordering of the product i.e. we will be checking if the hypothesis of \"Sooner the products are added to the cart, higher the re-order percentage\" is validated."
   ]
  },
  {
   "cell_type": "markdown",
   "metadata": {},
   "source": [
    "#### Relation between Add to cart order and Reorder ratio "
   ]
  },
  {
   "cell_type": "code",
   "execution_count": 38,
   "metadata": {
    "scrolled": true
   },
   "outputs": [
    {
     "data": {
      "text/plain": [
       "49.0"
      ]
     },
     "execution_count": 38,
     "metadata": {},
     "output_type": "execute_result"
    }
   ],
   "source": [
    "# Max add to cart order in the dataset\n",
    "merged_data['add_to_cart_order'].max()\n",
    "merged_data['add_to_cart_order'].quantile(0.999)"
   ]
  },
  {
   "cell_type": "markdown",
   "metadata": {},
   "source": [
    "While the maximum number of products added to the cart is 145, we see that the 99.9% of the products have a max add to cart order of 49. So, let us deal with products which have add to cart order of less than equal to 49."
   ]
  },
  {
   "cell_type": "code",
   "execution_count": 39,
   "metadata": {},
   "outputs": [
    {
     "data": {
      "image/png": "[encoded data removed]",
      "text/plain": [
       "<Figure size 864x576 with 1 Axes>"
      ]
     },
     "metadata": {
      "needs_background": "light"
     },
     "output_type": "display_data"
    }
   ],
   "source": [
    "add_to_cart_reorder = merged_data[(merged_data.add_to_cart_order <= 49)]\n",
    "add_to_cart_reorder = add_to_cart_reorder.groupby(['add_to_cart_order']).agg({'reordered' : ['mean']}).reset_index()\n",
    "add_to_cart_reorder.columns = ['add_to_cart_order','re_order_percent']\n",
    "plt.figure(figsize=(12,8))\n",
    "sns.pointplot(add_to_cart_reorder['add_to_cart_order'].values, add_to_cart_reorder['re_order_percent'].values, alpha=0.8, color='cornflowerblue')\n",
    "plt.ylabel('Reorder Percent', fontsize=13)\n",
    "plt.xlabel('Add to cart order', fontsize=13)\n",
    "plt.title(\"Relation between Add to cart order and Reorder ratio\")\n",
    "plt.xticks(rotation='vertical')\n",
    "plt.show()"
   ]
  },
  {
   "cell_type": "markdown",
   "metadata": {},
   "source": [
    "There is a very strong inverse relation between add to cart order and re-order percent. We can see that as the order in which the product is added to the cart increases, the re-order percent decreases."
   ]
  },
  {
   "cell_type": "markdown",
   "metadata": {},
   "source": [
    "#### Count of orders by Department "
   ]
  },
  {
   "cell_type": "code",
   "execution_count": 44,
   "metadata": {
    "scrolled": false
   },
   "outputs": [
    {
     "data": {
      "image/png": "[encoded data removed]",
      "text/plain": [
       "<Figure size 1080x720 with 1 Axes>"
      ]
     },
     "metadata": {
      "needs_background": "light"
     },
     "output_type": "display_data"
    }
   ],
   "source": [
    "orders_department = merged_data[['order_id', 'department']].drop_duplicates().groupby(by=['department']).agg({'order_id' : ['count']}).reset_index()\n",
    "orders_department.columns = ['department', 'orders_count']\n",
    "plt.figure(figsize=(15,10))\n",
    "sns.barplot(x='department', y='orders_count',data=orders_department.sort_values(by='orders_count', ascending=False), color='cornflowerblue')\n",
    "plt.ylabel('Orders Count', fontsize=13)\n",
    "plt.xlabel('Department', fontsize=13)\n",
    "plt.title('Count of orders by Department');\n",
    "plt.xticks(rotation = 45);"
   ]
  },
  {
   "cell_type": "markdown",
   "metadata": {},
   "source": [
    "#### Count of orders by aisles "
   ]
  },
  {
   "cell_type": "code",
   "execution_count": 47,
   "metadata": {},
   "outputs": [
    {
     "data": {
      "image/png": "[encoded data removed]",
      "text/plain": [
       "<Figure size 1080x720 with 1 Axes>"
      ]
     },
     "metadata": {
      "needs_background": "light"
     },
     "output_type": "display_data"
    }
   ],
   "source": [
    "orders_aisle = merged_data[['order_id', 'aisle']].drop_duplicates().groupby(by=['aisle']).agg({'order_id' : ['count']}).reset_index()\n",
    "orders_aisle.columns = ['aisle', 'orders_count']\n",
    "plt.figure(figsize=(15,10))\n",
    "sns.barplot(x='aisle', y='orders_count',data=orders_aisle.sort_values(by='orders_count', ascending=False).iloc[:20, :], color='cornflowerblue')\n",
    "plt.ylabel('Orders Count', fontsize=13)\n",
    "plt.xlabel('Aisle', fontsize=13)\n",
    "plt.title('Count of orders by Aisle');\n",
    "plt.xticks(rotation = 45);"
   ]
  },
  {
   "cell_type": "markdown",
   "metadata": {},
   "source": [
    "#### Top Products sold in each Department "
   ]
  },
  {
   "cell_type": "code",
   "execution_count": 65,
   "metadata": {
    "scrolled": false
   },
   "outputs": [
    {
     "data": {
      "text/html": [
       "<div>\n",
       "<style scoped>\n",
       "    .dataframe tbody tr th:only-of-type {\n",
       "        vertical-align: middle;\n",
       "    }\n",
       "\n",
       "    .dataframe tbody tr th {\n",
       "        vertical-align: top;\n",
       "    }\n",
       "\n",
       "    .dataframe thead th {\n",
       "        text-align: right;\n",
       "    }\n",
       "</style>\n",
       "<table border=\"1\" class=\"dataframe\">\n",
       "  <thead>\n",
       "    <tr style=\"text-align: right;\">\n",
       "      <th></th>\n",
       "      <th>department</th>\n",
       "      <th>product_name</th>\n",
       "      <th>orders_count</th>\n",
       "    </tr>\n",
       "  </thead>\n",
       "  <tbody>\n",
       "    <tr>\n",
       "      <th>41849</th>\n",
       "      <td>produce</td>\n",
       "      <td>Banana</td>\n",
       "      <td>472565</td>\n",
       "    </tr>\n",
       "    <tr>\n",
       "      <th>13508</th>\n",
       "      <td>dairy eggs</td>\n",
       "      <td>Organic Whole Milk</td>\n",
       "      <td>137905</td>\n",
       "    </tr>\n",
       "    <tr>\n",
       "      <th>7318</th>\n",
       "      <td>beverages</td>\n",
       "      <td>Sparkling Water Grapefruit</td>\n",
       "      <td>75886</td>\n",
       "    </tr>\n",
       "    <tr>\n",
       "      <th>15528</th>\n",
       "      <td>deli</td>\n",
       "      <td>Original Hummus</td>\n",
       "      <td>71314</td>\n",
       "    </tr>\n",
       "    <tr>\n",
       "      <th>2144</th>\n",
       "      <td>bakery</td>\n",
       "      <td>100% Whole Wheat Bread</td>\n",
       "      <td>60816</td>\n",
       "    </tr>\n",
       "    <tr>\n",
       "      <th>18167</th>\n",
       "      <td>frozen</td>\n",
       "      <td>Blueberries</td>\n",
       "      <td>55946</td>\n",
       "    </tr>\n",
       "    <tr>\n",
       "      <th>26280</th>\n",
       "      <td>meat seafood</td>\n",
       "      <td>Boneless Skinless Chicken Breasts</td>\n",
       "      <td>50281</td>\n",
       "    </tr>\n",
       "    <tr>\n",
       "      <th>30237</th>\n",
       "      <td>pantry</td>\n",
       "      <td>Extra Virgin Olive Oil</td>\n",
       "      <td>50255</td>\n",
       "    </tr>\n",
       "    <tr>\n",
       "      <th>10250</th>\n",
       "      <td>canned goods</td>\n",
       "      <td>Organic Black Beans</td>\n",
       "      <td>38001</td>\n",
       "    </tr>\n",
       "    <tr>\n",
       "      <th>21928</th>\n",
       "      <td>household</td>\n",
       "      <td>100% Recycled Paper Towels</td>\n",
       "      <td>27864</td>\n",
       "    </tr>\n",
       "    <tr>\n",
       "      <th>8481</th>\n",
       "      <td>breakfast</td>\n",
       "      <td>Honey Nut Cheerios</td>\n",
       "      <td>26741</td>\n",
       "    </tr>\n",
       "    <tr>\n",
       "      <th>46337</th>\n",
       "      <td>snacks</td>\n",
       "      <td>Lightly Salted Baked Snap Pea Crisps</td>\n",
       "      <td>24950</td>\n",
       "    </tr>\n",
       "    <tr>\n",
       "      <th>16835</th>\n",
       "      <td>dry goods pasta</td>\n",
       "      <td>Marinara Sauce</td>\n",
       "      <td>19998</td>\n",
       "    </tr>\n",
       "    <tr>\n",
       "      <th>25606</th>\n",
       "      <td>international</td>\n",
       "      <td>Organic Sea Salt Roasted Seaweed Snacks</td>\n",
       "      <td>10345</td>\n",
       "    </tr>\n",
       "    <tr>\n",
       "      <th>9131</th>\n",
       "      <td>bulk</td>\n",
       "      <td>Dried Mango</td>\n",
       "      <td>10150</td>\n",
       "    </tr>\n",
       "    <tr>\n",
       "      <th>1222</th>\n",
       "      <td>babies</td>\n",
       "      <td>Baby Food Stage 2 Blueberry Pear &amp; Purple Carrot</td>\n",
       "      <td>8793</td>\n",
       "    </tr>\n",
       "    <tr>\n",
       "      <th>27784</th>\n",
       "      <td>missing</td>\n",
       "      <td>Organic Riced Cauliflower</td>\n",
       "      <td>8366</td>\n",
       "    </tr>\n",
       "    <tr>\n",
       "      <th>826</th>\n",
       "      <td>alcohol</td>\n",
       "      <td>Sauvignon Blanc</td>\n",
       "      <td>8246</td>\n",
       "    </tr>\n",
       "    <tr>\n",
       "      <th>37311</th>\n",
       "      <td>personal care</td>\n",
       "      <td>Lavender Hand Soap</td>\n",
       "      <td>5941</td>\n",
       "    </tr>\n",
       "    <tr>\n",
       "      <th>28697</th>\n",
       "      <td>other</td>\n",
       "      <td>Roasted Almond Butter</td>\n",
       "      <td>3976</td>\n",
       "    </tr>\n",
       "    <tr>\n",
       "      <th>41108</th>\n",
       "      <td>pets</td>\n",
       "      <td>Grain Free Chicken Formula Cat Food</td>\n",
       "      <td>1825</td>\n",
       "    </tr>\n",
       "  </tbody>\n",
       "</table>\n",
       "</div>"
      ],
      "text/plain": [
       "            department                                      product_name  \\\n",
       "41849          produce                                            Banana   \n",
       "13508       dairy eggs                                Organic Whole Milk   \n",
       "7318         beverages                        Sparkling Water Grapefruit   \n",
       "15528             deli                                   Original Hummus   \n",
       "2144            bakery                            100% Whole Wheat Bread   \n",
       "18167           frozen                                       Blueberries   \n",
       "26280     meat seafood                 Boneless Skinless Chicken Breasts   \n",
       "30237           pantry                            Extra Virgin Olive Oil   \n",
       "10250     canned goods                               Organic Black Beans   \n",
       "21928        household                        100% Recycled Paper Towels   \n",
       "8481         breakfast                                Honey Nut Cheerios   \n",
       "46337           snacks              Lightly Salted Baked Snap Pea Crisps   \n",
       "16835  dry goods pasta                                    Marinara Sauce   \n",
       "25606    international           Organic Sea Salt Roasted Seaweed Snacks   \n",
       "9131              bulk                                       Dried Mango   \n",
       "1222            babies  Baby Food Stage 2 Blueberry Pear & Purple Carrot   \n",
       "27784          missing                         Organic Riced Cauliflower   \n",
       "826            alcohol                                   Sauvignon Blanc   \n",
       "37311    personal care                                Lavender Hand Soap   \n",
       "28697            other                             Roasted Almond Butter   \n",
       "41108             pets               Grain Free Chicken Formula Cat Food   \n",
       "\n",
       "       orders_count  \n",
       "41849        472565  \n",
       "13508        137905  \n",
       "7318          75886  \n",
       "15528         71314  \n",
       "2144          60816  \n",
       "18167         55946  \n",
       "26280         50281  \n",
       "30237         50255  \n",
       "10250         38001  \n",
       "21928         27864  \n",
       "8481          26741  \n",
       "46337         24950  \n",
       "16835         19998  \n",
       "25606         10345  \n",
       "9131          10150  \n",
       "1222           8793  \n",
       "27784          8366  \n",
       "826            8246  \n",
       "37311          5941  \n",
       "28697          3976  \n",
       "41108          1825  "
      ]
     },
     "execution_count": 65,
     "metadata": {},
     "output_type": "execute_result"
    }
   ],
   "source": [
    "orders_department_product = merged_data[['order_id', 'product_name', 'department']].drop_duplicates().groupby(by=['department', 'product_name']).agg({'order_id' : ['count']}).reset_index()\n",
    "orders_department_product.columns = ['department', 'product_name','orders_count']\n",
    "orders_department_product.sort_values(by='orders_count', ascending=False).groupby(by= ['department'], axis=0).head(1)"
   ]
  },
  {
   "cell_type": "markdown",
   "metadata": {},
   "source": [
    "#### Top Products sold in each Aisle "
   ]
  },
  {
   "cell_type": "code",
   "execution_count": 67,
   "metadata": {
    "scrolled": false
   },
   "outputs": [
    {
     "data": {
      "text/html": [
       "<div>\n",
       "<style scoped>\n",
       "    .dataframe tbody tr th:only-of-type {\n",
       "        vertical-align: middle;\n",
       "    }\n",
       "\n",
       "    .dataframe tbody tr th {\n",
       "        vertical-align: top;\n",
       "    }\n",
       "\n",
       "    .dataframe thead th {\n",
       "        text-align: right;\n",
       "    }\n",
       "</style>\n",
       "<table border=\"1\" class=\"dataframe\">\n",
       "  <thead>\n",
       "    <tr style=\"text-align: right;\">\n",
       "      <th></th>\n",
       "      <th>aisle</th>\n",
       "      <th>product_name</th>\n",
       "      <th>orders_count</th>\n",
       "    </tr>\n",
       "  </thead>\n",
       "  <tbody>\n",
       "    <tr>\n",
       "      <th>19407</th>\n",
       "      <td>fresh fruits</td>\n",
       "      <td>Banana</td>\n",
       "      <td>472565</td>\n",
       "    </tr>\n",
       "    <tr>\n",
       "      <th>36655</th>\n",
       "      <td>packaged vegetables fruits</td>\n",
       "      <td>Organic Baby Spinach</td>\n",
       "      <td>241921</td>\n",
       "    </tr>\n",
       "    <tr>\n",
       "      <th>30905</th>\n",
       "      <td>milk</td>\n",
       "      <td>Organic Whole Milk</td>\n",
       "      <td>137905</td>\n",
       "    </tr>\n",
       "    <tr>\n",
       "      <th>20378</th>\n",
       "      <td>fresh vegetables</td>\n",
       "      <td>Organic Yellow Onion</td>\n",
       "      <td>113426</td>\n",
       "    </tr>\n",
       "    <tr>\n",
       "      <th>14194</th>\n",
       "      <td>cream</td>\n",
       "      <td>Organic Half &amp; Half</td>\n",
       "      <td>76360</td>\n",
       "    </tr>\n",
       "    <tr>\n",
       "      <th>48439</th>\n",
       "      <td>water seltzer sparkling water</td>\n",
       "      <td>Sparkling Water Grapefruit</td>\n",
       "      <td>75886</td>\n",
       "    </tr>\n",
       "    <tr>\n",
       "      <th>19277</th>\n",
       "      <td>fresh dips tapenades</td>\n",
       "      <td>Original Hummus</td>\n",
       "      <td>71314</td>\n",
       "    </tr>\n",
       "    <tr>\n",
       "      <th>19812</th>\n",
       "      <td>fresh herbs</td>\n",
       "      <td>Organic Cilantro</td>\n",
       "      <td>69524</td>\n",
       "    </tr>\n",
       "    <tr>\n",
       "      <th>4136</th>\n",
       "      <td>bread</td>\n",
       "      <td>100% Whole Wheat Bread</td>\n",
       "      <td>60816</td>\n",
       "    </tr>\n",
       "    <tr>\n",
       "      <th>35721</th>\n",
       "      <td>packaged cheese</td>\n",
       "      <td>Organic Whole String Cheese</td>\n",
       "      <td>59676</td>\n",
       "    </tr>\n",
       "  </tbody>\n",
       "</table>\n",
       "</div>"
      ],
      "text/plain": [
       "                               aisle                 product_name  \\\n",
       "19407                   fresh fruits                       Banana   \n",
       "36655     packaged vegetables fruits         Organic Baby Spinach   \n",
       "30905                           milk           Organic Whole Milk   \n",
       "20378               fresh vegetables         Organic Yellow Onion   \n",
       "14194                          cream          Organic Half & Half   \n",
       "48439  water seltzer sparkling water   Sparkling Water Grapefruit   \n",
       "19277           fresh dips tapenades              Original Hummus   \n",
       "19812                    fresh herbs             Organic Cilantro   \n",
       "4136                           bread       100% Whole Wheat Bread   \n",
       "35721                packaged cheese  Organic Whole String Cheese   \n",
       "\n",
       "       orders_count  \n",
       "19407        472565  \n",
       "36655        241921  \n",
       "30905        137905  \n",
       "20378        113426  \n",
       "14194         76360  \n",
       "48439         75886  \n",
       "19277         71314  \n",
       "19812         69524  \n",
       "4136          60816  \n",
       "35721         59676  "
      ]
     },
     "execution_count": 67,
     "metadata": {},
     "output_type": "execute_result"
    }
   ],
   "source": [
    "orders_aisle_product = merged_data[['order_id', 'product_name', 'aisle']].drop_duplicates().groupby(by=['aisle', 'product_name']).agg({'order_id' : ['count']}).reset_index()\n",
    "orders_aisle_product.columns = ['aisle', 'product_name','orders_count']\n",
    "orders_aisle_product.sort_values(by='orders_count', ascending=False).groupby(by= ['aisle'], axis=0).head(1).head(10)"
   ]
  },
  {
   "cell_type": "markdown",
   "metadata": {},
   "source": [
    "#### Orders containing only pershable orders\n",
    "\n",
    "- Below, we are trying to evaluate what proportion of the total orders belong to only the perishable category"
   ]
  },
  {
   "cell_type": "code",
   "execution_count": 77,
   "metadata": {
    "scrolled": true
   },
   "outputs": [
    {
     "name": "stdout",
     "output_type": "stream",
     "text": [
      "Proportion of perishables orders are 8.51%\n"
     ]
    }
   ],
   "source": [
    "orders_perish = merged_data[['order_id', 'Perishables']].groupby(by=['order_id']).sum().reset_index()\n",
    "orders_perish.columns = ['order_id', 'Perishables']\n",
    "print(\"Proportion of perishables orders are \"+\"{:.2%}\".format(orders_perish[orders_perish.Perishables==0].shape[0]/orders_perish.shape[0]));"
   ]
  },
  {
   "cell_type": "markdown",
   "metadata": {},
   "source": [
    "#### Users with only pershable orders\n",
    "\n",
    "- Below, we are trying to evaluate what proportion of the total users are buying only pershable products on Instacart"
   ]
  },
  {
   "cell_type": "code",
   "execution_count": 79,
   "metadata": {},
   "outputs": [
    {
     "name": "stdout",
     "output_type": "stream",
     "text": [
      "Proportion of Users who buy only perishables products are 1.46%\n"
     ]
    }
   ],
   "source": [
    "users_perish = merged_data[['user_id', 'Perishables']].groupby(by=['user_id']).sum().reset_index()\n",
    "users_perish.columns = ['user_id', 'Perishables']\n",
    "print(\"Proportion of Users who buy only perishables products are \"+\"{:.2%}\".format(users_perish[users_perish.Perishables==0].shape[0]/users_perish.shape[0]));"
   ]
  },
  {
   "cell_type": "markdown",
   "metadata": {},
   "source": [
    "#### Users with atleast 50% of pershable products on an average order"
   ]
  },
  {
   "cell_type": "code",
   "execution_count": 92,
   "metadata": {},
   "outputs": [
    {
     "name": "stdout",
     "output_type": "stream",
     "text": [
      "Proportion of Users who buy atleast 50% perishables products are 57.95%\n"
     ]
    }
   ],
   "source": [
    "users_perish_proportion = merged_data[['user_id', 'Perishables']].groupby(by=['user_id']).agg({'Perishables' : ['mean']}).reset_index()\n",
    "users_perish_proportion.columns = ['user_id', 'Perishables_proportion']\n",
    "print(\"Proportion of Users who buy atleast 50% perishables products are \"+\"{:.2%}\".format(users_perish_proportion[users_perish_proportion.Perishables_proportion>0.5].shape[0]/users_perish_proportion.shape[0]));"
   ]
  },
  {
   "cell_type": "markdown",
   "metadata": {},
   "source": [
    "#### Average re-ordered products in an order "
   ]
  },
  {
   "cell_type": "code",
   "execution_count": 82,
   "metadata": {},
   "outputs": [
    {
     "name": "stdout",
     "output_type": "stream",
     "text": [
      "On an average, the re-ordered products in an order are 58.97%\n"
     ]
    }
   ],
   "source": [
    "# percentage of re-orders\n",
    "print(\"On an average, the re-ordered products in an order are \"+\"{:.2%}\".format(merged_data.reordered.sum() / merged_data.shape[0]))"
   ]
  },
  {
   "cell_type": "markdown",
   "metadata": {},
   "source": [
    "#### Average Non re-ordered products in an order\n",
    "\n",
    "- Now that we have seen 59% of the products are re-ordered, there will also be situations when none of the products are re-ordered. Let us check that now."
   ]
  },
  {
   "cell_type": "code",
   "execution_count": 87,
   "metadata": {},
   "outputs": [
    {
     "data": {
      "text/plain": [
       "1    0.879151\n",
       "0    0.120849\n",
       "Name: reordered, dtype: float64"
      ]
     },
     "execution_count": 87,
     "metadata": {},
     "output_type": "execute_result"
    }
   ],
   "source": [
    "grouped_df = merged_data.groupby(\"order_id\")[\"reordered\"].aggregate(\"sum\").reset_index()\n",
    "grouped_df[\"reordered\"].ix[grouped_df[\"reordered\"]>1] = 1\n",
    "grouped_df.reordered.value_counts() / grouped_df.shape[0]"
   ]
  },
  {
   "cell_type": "markdown",
   "metadata": {},
   "source": [
    "- About 12% of the orders in the data has no re-ordered items"
   ]
  }
 ],
 "metadata": {
  "hide_input": false,
  "kernelspec": {
   "display_name": "Python 3",
   "language": "python",
   "name": "python3"
  },
  "language_info": {
   "codemirror_mode": {
    "name": "ipython",
    "version": 3
   },
   "file_extension": ".py",
   "mimetype": "text/x-python",
   "name": "python",
   "nbconvert_exporter": "python",
   "pygments_lexer": "ipython3",
   "version": "3.7.3"
  },
  "toc": {
   "base_numbering": 1,
   "nav_menu": {},
   "number_sections": true,
   "sideBar": true,
   "skip_h1_title": false,
   "title_cell": "Table of Contents",
   "title_sidebar": "Contents",
   "toc_cell": false,
   "toc_position": {
    "height": "calc(100% - 180px)",
    "left": "10px",
    "top": "150px",
    "width": "452px"
   },
   "toc_section_display": true,
   "toc_window_display": true
  }
 },
 "nbformat": 4,
 "nbformat_minor": 4
}
